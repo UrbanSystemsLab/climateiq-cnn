{
 "cells": [
  {
   "cell_type": "code",
   "execution_count": null,
   "metadata": {},
   "outputs": [],
   "source": [
    "import numpy as np\n",
    "from google.cloud import storage\n",
    "client = storage.Client(project='climateiq-test')\n",
    "blob = client.bucket('test-climateiq-atmoml-labels').blob('Test_NYC_Heat/Test_Config_Group/wrfout.d03.2010-06-25_00:00:00')\n",
    "with blob.open('rb') as fd:\n",
    "    np.load(fd)"
   ]
  }
 ],
 "metadata": {
  "kernelspec": {
   "display_name": "Python 3",
   "language": "python",
   "name": "python3"
  },
  "language_info": {
   "name": "python",
   "version": "3.11.10"
  }
 },
 "nbformat": 4,
 "nbformat_minor": 2
}
