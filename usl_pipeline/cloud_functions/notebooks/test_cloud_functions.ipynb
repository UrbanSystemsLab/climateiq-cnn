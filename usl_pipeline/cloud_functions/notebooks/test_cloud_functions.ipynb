{
 "cells": [
  {
   "cell_type": "markdown",
   "metadata": {},
   "source": [
    "# Manual cloud function testing\n",
    "\n",
    "Interactive calling of cloud functions."
   ]
  },
  {
   "cell_type": "code",
   "execution_count": 1,
   "metadata": {},
   "outputs": [],
   "source": [
    "import main"
   ]
  },
  {
   "cell_type": "code",
   "execution_count": null,
   "metadata": {},
   "outputs": [],
   "source": [
    "main._build_wrf_label_matrix(\n",
    "    bucket_name='test-climateiq-atmospheric-simulation-output',\n",
    "    chunk_name='Test_NYC_Heat/Test_Config_Group/wrfout.d03.2010-06-25_00:00:00',\n",
    "    output_bucket='test-climateiq-atmoml-labels')"
   ]
  },
  {
   "cell_type": "code",
   "execution_count": 2,
   "metadata": {},
   "outputs": [
    {
     "ename": "ValueError",
     "evalue": "all the input array dimensions except for the concatenation axis must match exactly, but along dimension 0, the array at index 0 has size 200 and the array at index 5 has size 1",
     "output_type": "error",
     "traceback": [
      "\u001b[0;31m---------------------------------------------------------------------------\u001b[0m",
      "\u001b[0;31mValueError\u001b[0m                                Traceback (most recent call last)",
      "Cell \u001b[0;32mIn[2], line 1\u001b[0m\n\u001b[0;32m----> 1\u001b[0m \u001b[43mmain\u001b[49m\u001b[38;5;241;43m.\u001b[39;49m\u001b[43m_build_feature_matrix\u001b[49m\u001b[43m(\u001b[49m\n\u001b[1;32m      2\u001b[0m \u001b[43m    \u001b[49m\u001b[43mbucket_name\u001b[49m\u001b[38;5;241;43m=\u001b[39;49m\u001b[38;5;124;43m'\u001b[39;49m\u001b[38;5;124;43mtest-climateiq-atmospheric-simulation-input\u001b[39;49m\u001b[38;5;124;43m'\u001b[39;49m\u001b[43m,\u001b[49m\n\u001b[1;32m      3\u001b[0m \u001b[43m    \u001b[49m\u001b[43mchunk_path\u001b[49m\u001b[38;5;241;43m=\u001b[39;49m\u001b[38;5;124;43m'\u001b[39;49m\u001b[38;5;124;43mTest_NYC_Heat/Test_Config_Group/met_em.d03.2010-06-25_00:00:00.nc\u001b[39;49m\u001b[38;5;124;43m'\u001b[39;49m\u001b[43m,\u001b[49m\n\u001b[1;32m      4\u001b[0m \u001b[43m    \u001b[49m\u001b[43moutput_bucket\u001b[49m\u001b[38;5;241;43m=\u001b[39;49m\u001b[38;5;124;43m'\u001b[39;49m\u001b[38;5;124;43mtest-climateiq-atmoml-features\u001b[39;49m\u001b[38;5;124;43m'\u001b[39;49m\n\u001b[1;32m      5\u001b[0m \u001b[43m)\u001b[49m\n",
      "File \u001b[0;32m~/climateiq-terraform/climateiq-cnn/usl_pipeline/cloud_functions/main.py:678\u001b[0m, in \u001b[0;36m_build_feature_matrix\u001b[0;34m(bucket_name, chunk_path, output_bucket)\u001b[0m\n\u001b[1;32m    676\u001b[0m \u001b[38;5;66;03m# Heat (WRF) - treat one WPS outout file as one chunk\u001b[39;00m\n\u001b[1;32m    677\u001b[0m \u001b[38;5;28;01melif\u001b[39;00m re\u001b[38;5;241m.\u001b[39msearch(file_names\u001b[38;5;241m.\u001b[39mWPS_DOMAIN3_NC_REGEX, chunk_path):\n\u001b[0;32m--> 678\u001b[0m     feature_matrices, metadata \u001b[38;5;241m=\u001b[39m \u001b[43m_build_wps_feature_matrices\u001b[49m\u001b[43m(\u001b[49m\u001b[43mchunk\u001b[49m\u001b[43m)\u001b[49m\n\u001b[1;32m    679\u001b[0m     \u001b[38;5;66;03m# Write a separate file for each variable type\u001b[39;00m\n\u001b[1;32m    680\u001b[0m     \u001b[38;5;66;03m# (spatial, spatiotemporal, lu_index).\u001b[39;00m\n\u001b[1;32m    681\u001b[0m     \u001b[38;5;28;01mfor\u001b[39;00m var_type, feature_matrix \u001b[38;5;129;01min\u001b[39;00m feature_matrices\u001b[38;5;241m.\u001b[39mitems():\n",
      "File \u001b[0;32m~/climateiq-terraform/climateiq-cnn/usl_pipeline/cloud_functions/main.py:1001\u001b[0m, in \u001b[0;36m_build_wps_feature_matrices\u001b[0;34m(fd)\u001b[0m\n\u001b[1;32m    995\u001b[0m         feature \u001b[38;5;241m=\u001b[39m _process_wps_feature(\n\u001b[1;32m    996\u001b[0m             feature\u001b[38;5;241m=\u001b[39mds\u001b[38;5;241m.\u001b[39mdata_vars[var\u001b[38;5;241m.\u001b[39mname],\n\u001b[1;32m    997\u001b[0m             var_config\u001b[38;5;241m=\u001b[39mwps_data\u001b[38;5;241m.\u001b[39mVAR_CONFIGS[var],\n\u001b[1;32m    998\u001b[0m         )\n\u001b[1;32m    999\u001b[0m         features_components[var\u001b[38;5;241m.\u001b[39mvalue] \u001b[38;5;241m=\u001b[39m feature\n\u001b[0;32m-> 1001\u001b[0m     matrices[var_type] \u001b[38;5;241m=\u001b[39m \u001b[43mnumpy\u001b[49m\u001b[38;5;241;43m.\u001b[39;49m\u001b[43mdstack\u001b[49m\u001b[43m(\u001b[49m\u001b[43mfeatures_components\u001b[49m\u001b[43m)\u001b[49m\n\u001b[1;32m   1003\u001b[0m \u001b[38;5;66;03m# Get snapshot time\u001b[39;00m\n\u001b[1;32m   1004\u001b[0m snapshot_time \u001b[38;5;241m=\u001b[39m ds\u001b[38;5;241m.\u001b[39mTimes\u001b[38;5;241m.\u001b[39mvalues[\u001b[38;5;241m0\u001b[39m]\u001b[38;5;241m.\u001b[39mastype(\u001b[38;5;28mstr\u001b[39m)\n",
      "File \u001b[0;32m~/miniconda3/envs/climateiq/lib/python3.11/site-packages/numpy/lib/shape_base.py:715\u001b[0m, in \u001b[0;36mdstack\u001b[0;34m(tup)\u001b[0m\n\u001b[1;32m    713\u001b[0m \u001b[38;5;28;01mif\u001b[39;00m \u001b[38;5;129;01mnot\u001b[39;00m \u001b[38;5;28misinstance\u001b[39m(arrs, \u001b[38;5;28mlist\u001b[39m):\n\u001b[1;32m    714\u001b[0m     arrs \u001b[38;5;241m=\u001b[39m [arrs]\n\u001b[0;32m--> 715\u001b[0m \u001b[38;5;28;01mreturn\u001b[39;00m \u001b[43m_nx\u001b[49m\u001b[38;5;241;43m.\u001b[39;49m\u001b[43mconcatenate\u001b[49m\u001b[43m(\u001b[49m\u001b[43marrs\u001b[49m\u001b[43m,\u001b[49m\u001b[43m \u001b[49m\u001b[38;5;241;43m2\u001b[39;49m\u001b[43m)\u001b[49m\n",
      "\u001b[0;31mValueError\u001b[0m: all the input array dimensions except for the concatenation axis must match exactly, but along dimension 0, the array at index 0 has size 200 and the array at index 5 has size 1"
     ]
    }
   ],
   "source": [
    "main._build_feature_matrix(\n",
    "    bucket_name='test-climateiq-atmospheric-simulation-input',\n",
    "    chunk_path='Test_NYC_Heat/Test_Config_Group/met_em.d03.2010-06-25_00:00:00.nc',\n",
    "    output_bucket='test-climateiq-atmoml-features'\n",
    ")"
   ]
  }
 ],
 "metadata": {
  "kernelspec": {
   "display_name": "Python 3",
   "language": "python",
   "name": "python3"
  },
  "language_info": {
   "codemirror_mode": {
    "name": "ipython",
    "version": 3
   },
   "file_extension": ".py",
   "mimetype": "text/x-python",
   "name": "python",
   "nbconvert_exporter": "python",
   "pygments_lexer": "ipython3",
   "version": "3.11.10"
  }
 },
 "nbformat": 4,
 "nbformat_minor": 2
}
