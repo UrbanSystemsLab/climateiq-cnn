{
 "cells": [
  {
   "cell_type": "markdown",
   "metadata": {},
   "source": [
    "# Manual cloud function testing\n",
    "\n",
    "Interactive calling of cloud functions."
   ]
  },
  {
   "cell_type": "code",
   "execution_count": null,
   "metadata": {},
   "outputs": [],
   "source": [
    "import main"
   ]
  },
  {
   "cell_type": "code",
   "execution_count": 1,
   "metadata": {},
   "outputs": [],
   "source": [
    "main._build_wrf_label_matrix(\n",
    "    bucket_name='test-climateiq-atmospheric-simulation-output',\n",
    "    chunk_name='Test_NYC_Heat/Test_Config_Group/wrfout.d03.2010-06-25_00:00:00',\n",
    "    output_bucket='test-climateiq-atmoml-labels')"
   ]
  }
 ],
 "metadata": {
  "kernelspec": {
   "display_name": "Python 3",
   "language": "python",
   "name": "python3"
  },
  "language_info": {
   "codemirror_mode": {
    "name": "ipython",
    "version": 3
   },
   "file_extension": ".py",
   "mimetype": "text/x-python",
   "name": "python",
   "nbconvert_exporter": "python",
   "pygments_lexer": "ipython3",
   "version": "3.11.10"
  }
 },
 "nbformat": 4,
 "nbformat_minor": 2
}
