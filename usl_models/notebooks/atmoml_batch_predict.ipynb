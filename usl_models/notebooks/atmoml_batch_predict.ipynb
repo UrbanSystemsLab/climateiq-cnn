{
 "cells": [
  {
   "cell_type": "markdown",
   "metadata": {},
   "source": [
    "# AtmoML Batch Predict\n",
    "\n",
    "Runs AtmoML prediction on Google Cloud Batch."
   ]
  },
  {
   "cell_type": "code",
   "execution_count": 5,
   "metadata": {},
   "outputs": [],
   "source": [
    "from google.cloud import batch_v1\n",
    "import time\n",
    "\n",
    "\n",
    "from usl_models.shared import batch_templates\n",
    "\n",
    "timestamp = time.strftime(\"%Y%m%d-%H%M%S\")"
   ]
  },
  {
   "cell_type": "code",
   "execution_count": 4,
   "metadata": {},
   "outputs": [
    {
     "name": "stdout",
     "output_type": "stream",
     "text": [
      "e103032c49c9: Pushed\n",
      "dev: digest: sha256:87ca6c55521c6ce62ab2c7033305ebf98fcdc3de8bd4004a3d802ad6caf5f1f5 size: 3901\n",
      "DONE\n",
      "--------------------------------------------------------------------------------\n",
      "ID                                    CREATE_TIME                DURATION  SOURCE                                                                                   IMAGES                                                            STATUS\n",
      "a6bb9bc7-9574-4168-ad79-4e927d2c0268  2025-03-27T01:46:59+00:00  12M40S    gs://climateiq_cloudbuild/source/1743040018.686553-23b85e5a844841f997b5924691720361.tgz  us-central1-docker.pkg.dev/climateiq/usl-models/atmo-ml-test:dev  SUCCESS\n"
     ]
    }
   ],
   "source": [
    "# Build a container using the current directory.\n",
    "build_container = False\n",
    "if build_container:\n",
    "    !gcloud builds submit --config=usl_models/batch_predict/atmo_ml/cloudbuild.yaml ."
   ]
  },
  {
   "cell_type": "code",
   "execution_count": null,
   "metadata": {},
   "outputs": [],
   "source": [
    "# Run batch job\n",
    "client = batch_v1.BatchServiceClient()\n",
    "\n",
    "container = batch_v1.Runnable.Container(\n",
    "    image_uri=batch_templates.CLIMATEIQ_IMAGE_URI,\n",
    "    entrypoint=\"python3.11\",\n",
    "    commands=[\n",
    "        \"/usl_models/batch_predict/atmo_ml/main.py\",\n",
    "        \"--model_path=gs://climateiq-vertexai/atmoml-main-20250319-204950/model\",\n",
    "        \"--batch_size=2\",\n",
    "        \"--max_batches=4\",\n",
    "        \"--output_bucket=climateiq-predictions\",\n",
    "        \"--output_path=atmoml-test/atmoml-main-20250319-204950\",\n",
    "    ],\n",
    ")\n",
    "job = batch_v1.Job(\n",
    "    allocation_policy=batch_v1.AllocationPolicy(\n",
    "        instances=[batch_templates.NVIDIA_L4_X2_INSTANCE]\n",
    "    ),\n",
    "    logs_policy=batch_v1.LogsPolicy(\n",
    "        destination=batch_v1.LogsPolicy.Destination.CLOUD_LOGGING\n",
    "    ),\n",
    "    task_groups=[\n",
    "        batch_v1.TaskGroup(\n",
    "            require_hosts_file=True,\n",
    "            task_count=2,\n",
    "            task_count_per_node=1,\n",
    "            task_spec=batch_v1.TaskSpec(\n",
    "                runnables=[\n",
    "                    batch_v1.Runnable(container=container),\n",
    "                ],\n",
    "                environment=batch_v1.Environment(variables={}),\n",
    "            ),\n",
    "        )\n",
    "    ],\n",
    ")\n",
    "request = batch_v1.CreateJobRequest(\n",
    "    job_id=f\"atmoml-predict-{timestamp}\",\n",
    "    job=job,\n",
    "    parent=\"projects/climateiq/locations/us-central1\",\n",
    ")\n",
    "\n",
    "response = client.create_job(request)\n",
    "response"
   ]
  },
  {
   "cell_type": "code",
   "execution_count": null,
   "metadata": {},
   "outputs": [],
   "source": [
    "batch_templates.await_batch_job(client, job_id=request.job_id, job_name=response.name)"
   ]
  }
 ],
 "metadata": {
  "kernelspec": {
   "display_name": "base",
   "language": "python",
   "name": "python3"
  },
  "language_info": {
   "codemirror_mode": {
    "name": "ipython",
    "version": 3
   },
   "file_extension": ".py",
   "mimetype": "text/x-python",
   "name": "python",
   "nbconvert_exporter": "python",
   "pygments_lexer": "ipython3",
   "version": "3.11.9"
  }
 },
 "nbformat": 4,
 "nbformat_minor": 2
}
