{
 "cells": [
  {
   "cell_type": "markdown",
   "metadata": {},
   "source": [
    "# Flood Model Training Notebook\n",
    "\n",
    "Train a Flood ConvLSTM Model using `usl_models` lib."
   ]
  },
  {
   "cell_type": "code",
   "execution_count": null,
   "metadata": {},
   "outputs": [],
   "source": [
    "%load_ext autoreload\n",
    "%autoreload 2\n",
    "import tensorflow as tf\n",
    "import keras_tuner\n",
    "import time\n",
    "import keras\n",
    "import logging\n",
    "from usl_models.flood_ml import constants\n",
    "from usl_models.flood_ml.model import FloodModel\n",
    "from usl_models.flood_ml.model_params import FloodModelParams\n",
    "from usl_models.flood_ml.dataset import load_dataset_windowed, load_dataset\n",
    "\n",
    "logging.getLogger().setLevel(logging.WARNING)\n",
    "keras.utils.set_random_seed(812)\n",
    "\n",
    "timestamp = time.strftime(\"%Y%m%d-%H%M%S\")\n",
    "sim_names = [\"Manhattan-config_v1/Rainfall_Data_1.txt\"]"
   ]
  },
  {
   "cell_type": "code",
   "execution_count": null,
   "metadata": {},
   "outputs": [],
   "source": [
    "train_dataset = load_dataset_windowed(sim_names=sim_names, batch_size=4, dataset_split='train')\n",
    "validation_data = load_dataset_windowed(sim_names=sim_names, batch_size=4, dataset_split='val')"
   ]
  },
  {
   "cell_type": "code",
   "execution_count": null,
   "metadata": {},
   "outputs": [],
   "source": [
    "tuner = keras_tuner.BayesianOptimization(\n",
    "    FloodModel.get_hypermodel(\n",
    "        lstm_units=[32, 64, 128],\n",
    "        lstm_kernel_size=[3, 5],\n",
    "        lstm_dropout=[0.2, 0.3],\n",
    "        lstm_recurrent_dropout=[0.2, 0.3],\n",
    "        n_flood_maps=[5],\n",
    "        m_rainfall=[6],\n",
    "    ),\n",
    "        objective=\"val_loss\",\n",
    "        max_trials=10,\n",
    "        project_name=f\"logs/htune_project_{timestamp}\",\n",
    ")\n",
    "\n",
    "tuner.search_space_summary()\n"
   ]
  },
  {
   "cell_type": "code",
   "execution_count": null,
   "metadata": {},
   "outputs": [],
   "source": [
    "log_dir = f\"logs/htune_{timestamp}\"\n",
    "print(log_dir)\n",
    "tb_callback = keras.callbacks.TensorBoard(log_dir=log_dir)\n",
    "tuner.search(train_dataset, epochs=100, validation_data=validation_data , callbacks=[tb_callback])\n",
    "best_model, best_hp = tuner.get_best_models()[0], tuner.get_best_hyperparameters()[0]\n",
    "best_hp.values"
   ]
  },
  {
   "cell_type": "code",
   "execution_count": null,
   "metadata": {},
   "outputs": [],
   "source": [
    "final_params = FloodModel.Params(**best_hp.values)\n",
    "model = FloodModel(params=final_params)\n",
    "tb_callback = keras.callbacks.TensorBoard(log_dir=log_dir)\n",
    "model.fit(train_dataset, validation_data, epochs=2000, callbacks=[tb_callback])\n",
    "model.save_model(log_dir + \"/model\")\n"
   ]
  },
  {
   "cell_type": "code",
   "execution_count": null,
   "metadata": {},
   "outputs": [],
   "source": [
    "# Test calling the model on some data.\n",
    "inputs, labels_ = next(iter(train_dataset))\n",
    "prediction = model.call(inputs)\n",
    "prediction.shape"
   ]
  },
  {
   "cell_type": "code",
   "execution_count": null,
   "metadata": {},
   "outputs": [],
   "source": [
    "# Test calling the model for n predictions\n",
    "full_dataset = load_dataset(sim_names=sim_names, batch_size=1)\n",
    "inputs, labels = next(iter(full_dataset))\n",
    "predictions = model.call_n(inputs, n=4)\n",
    "predictions.shape"
   ]
  }
 ],
 "metadata": {
  "kernelspec": {
   "display_name": "base",
   "language": "python",
   "name": "python3"
  },
  "language_info": {
   "codemirror_mode": {
    "name": "ipython",
    "version": 3
   },
   "file_extension": ".py",
   "mimetype": "text/x-python",
   "name": "python",
   "nbconvert_exporter": "python",
   "pygments_lexer": "ipython3",
   "version": "3.11.9"
  }
 },
 "nbformat": 4,
 "nbformat_minor": 2
}
