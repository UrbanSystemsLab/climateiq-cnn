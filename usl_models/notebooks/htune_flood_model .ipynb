{
 "cells": [
  {
   "cell_type": "markdown",
   "metadata": {},
   "source": [
    "# Flood Model Training Notebook\n",
    "\n",
    "Train a Flood ConvLSTM Model using `usl_models` lib."
   ]
  },
  {
   "cell_type": "code",
   "execution_count": null,
   "metadata": {},
   "outputs": [],
   "source": [
    "%load_ext autoreload\n",
    "%autoreload 2\n",
    "import tensorflow as tf\n",
    "import keras_tuner\n",
    "import time\n",
    "import keras\n",
    "import logging\n",
    "from usl_models.flood_ml import constants\n",
    "from usl_models.flood_ml.model import FloodModel\n",
    "from usl_models.flood_ml.model_params import FloodModelParams\n",
    "from usl_models.flood_ml.dataset import load_dataset_windowed, load_dataset\n",
    "\n",
    "logging.getLogger().setLevel(logging.WARNING)\n",
    "keras.utils.set_random_seed(812)\n",
    "\n",
    "timestamp = time.strftime(\"%Y%m%d-%H%M%S\")\n",
    "sim_names = [\"Manhattan-config_v1/Rainfall_Data_1.txt\"] # constant should be changed to 8 to run Manhattan"
   ]
  },
  {
   "cell_type": "code",
   "execution_count": null,
   "metadata": {},
   "outputs": [],
   "source": [
    "train_dataset = load_dataset_windowed(sim_names=sim_names, batch_size=4, dataset_split='train')\n",
    "validation_data = load_dataset_windowed(sim_names=sim_names, batch_size=4, dataset_split='val')"
   ]
  },
  {
   "cell_type": "code",
   "execution_count": null,
   "metadata": {},
   "outputs": [],
   "source": [
    "tuner = keras_tuner.BayesianOptimization(\n",
    "    FloodModel.get_hypermodel(\n",
    "        lstm_units=[32, 64, 128],\n",
    "        lstm_kernel_size=[3, 5],\n",
    "        lstm_dropout=[0.2, 0.3],\n",
    "        lstm_recurrent_dropout=[0.2, 0.3],\n",
    "        n_flood_maps=[5],\n",
    "        m_rainfall=[6],\n",
    "    ),\n",
    "        objective=\"val_loss\",\n",
    "        max_trials=10,\n",
    "        project_name=f\"logs/htune_project_{timestamp}\",\n",
    ")\n",
    "\n",
    "tuner.search_space_summary()\n"
   ]
  },
  {
   "cell_type": "code",
   "execution_count": null,
   "metadata": {},
   "outputs": [],
   "source": [
    "log_dir = f\"logs/htune_{timestamp}\"\n",
    "print(log_dir)\n",
    "tb_callback = keras.callbacks.TensorBoard(log_dir=log_dir)\n",
    "tuner.search(train_dataset, epochs=100, validation_data=validation_data , callbacks=[tb_callback])\n",
    "best_model, best_hp = tuner.get_best_models()[0], tuner.get_best_hyperparameters()[0]\n",
    "best_hp.values"
   ]
  },
  {
   "cell_type": "code",
   "execution_count": null,
   "metadata": {},
   "outputs": [],
   "source": [
    "final_params = FloodModel.Params(**best_hp.values)\n",
    "model = FloodModel(params=final_params)\n",
    "tb_callback = keras.callbacks.TensorBoard(log_dir=log_dir)\n",
    "model.fit(train_dataset, validation_data, epochs=200, callbacks=[tb_callback])\n",
    "model.save_model(log_dir + \"/model\")\n"
   ]
  },
  {
   "cell_type": "code",
   "execution_count": null,
   "metadata": {},
   "outputs": [],
   "source": [
    "# Test calling the model on some data.\n",
    "inputs, labels_ = next(iter(train_dataset))\n",
    "prediction = model.call(inputs)\n",
    "prediction.shape"
   ]
  },
  {
   "cell_type": "code",
   "execution_count": null,
   "metadata": {},
   "outputs": [],
   "source": [
    "# Test calling the model for n predictions\n",
    "full_dataset = load_dataset(sim_names=sim_names, batch_size=1)\n",
    "inputs, labels = next(iter(full_dataset))\n",
    "predictions = model.call_n(inputs, n=4)\n",
    "predictions.shape"
   ]
  },
  {
   "cell_type": "code",
   "execution_count": null,
   "metadata": {},
   "outputs": [],
   "source": []
  },
  {
   "cell_type": "code",
   "execution_count": null,
   "metadata": {},
   "outputs": [],
   "source": [
    "%load_ext autoreload\n",
    "%autoreload 2\n",
    "import tensorflow as tf\n",
    "import time\n",
    "import keras\n",
    "import logging\n",
    "from usl_models.flood_ml import constants\n",
    "from usl_models.flood_ml.model import FloodModel\n",
    "from usl_models.flood_ml.dataset import load_dataset_windowed, load_dataset\n",
    "\n",
    "# Configure GPU\n",
    "gpus = tf.config.list_physical_devices('GPU')\n",
    "if gpus:\n",
    "    try:\n",
    "        for gpu in gpus:\n",
    "            tf.config.experimental.set_memory_growth(gpu, True)\n",
    "    except RuntimeError as e:\n",
    "        print(e)\n",
    "\n",
    "logging.getLogger().setLevel(logging.WARNING)\n",
    "keras.utils.set_random_seed(812)\n",
    "\n",
    "# ===== DATA LOADING =====\n",
    "def remove_elevation_features(input_dict, label):\n",
    "    \"\"\"Remove elevation features (channels 0 and 1)\"\"\"\n",
    "    input_dict['geospatial'] = input_dict['geospatial'][..., 2:]  # Keep channels 2-8 (7 features)\n",
    "    return input_dict, label\n",
    "\n",
    "timestamp = time.strftime(\"%Y%m%d-%H%M%S\")\n",
    "sim_names = [\"Atlanta-Atlanta_config/Rainfall_Data_1.txt\"]\n",
    "\n",
    "# Load datasets\n",
    "train_dataset = load_dataset_windowed(\n",
    "    sim_names=sim_names,\n",
    "    batch_size=4,\n",
    "    dataset_split='train'\n",
    ").map(remove_elevation_features)\n",
    "\n",
    "validation_data = load_dataset_windowed(\n",
    "    sim_names=sim_names,\n",
    "    batch_size=4,\n",
    "    dataset_split='val'\n",
    ").map(remove_elevation_features)\n",
    "\n",
    "constants.GEO_FEATURES = 7  # Must match the number of features after removal\n",
    "\n",
    "# ===== MODEL SETUP =====\n",
    "standard_params = FloodModel.Params(\n",
    "    num_features=constants.GEO_FEATURES,\n",
    "    lstm_units=64,\n",
    "    lstm_kernel_size=3,\n",
    "    lstm_dropout=0.2,\n",
    "    lstm_recurrent_dropout=0.2,\n",
    "    n_flood_maps=5,\n",
    "    m_rainfall=6,\n",
    "    optimizer=keras.optimizers.Adam(learning_rate=0.001)\n",
    ")\n",
    "\n",
    "model = FloodModel(params=standard_params)\n",
    "\n",
    "# ===== TRAINING =====\n",
    "log_dir = f\"logs/training_{timestamp}\"\n",
    "print(f\"Training with {constants.GEO_FEATURES} features in {log_dir}\")\n",
    "\n",
    "# Verify data loading\n",
    "try:\n",
    "    sample = next(iter(train_dataset))\n",
    "    print(\"Sample input shapes:\")\n",
    "    print(f\"Geospatial: {sample[0]['geospatial'].shape} (should be (4, 1000, 1000, 9))\")\n",
    "    print(f\"Temporal: {sample[0]['temporal'].shape}\")\n",
    "    print(f\"Spatiotemporal: {sample[0]['spatiotemporal'].shape}\")\n",
    "except Exception as e:\n",
    "    print(f\"Data loading error: {str(e)}\")\n",
    "    raise\n",
    "\n",
    "# Train using the underlying Keras model\n",
    "history = model._model.fit(\n",
    "    train_dataset,\n",
    "    epochs=500,\n",
    "    callbacks=[keras.callbacks.TensorBoard(log_dir)]\n",
    ")\n",
    "\n",
    "# ===== EVALUATION =====\n",
    "model.save_model(log_dir + \"/model\")\n",
    "\n",
    "# # Manual validation\n",
    "# val_sample = next(iter(validation_data))\n",
    "# val_pred = model.call(val_sample[0])\n",
    "# val_loss = tf.keras.losses.MeanSquaredError()(val_sample[1], val_pred)\n",
    "# print(f\"Validation loss: {val_loss.numpy():.4f}\")\n",
    "\n",
    "# # Prediction test\n",
    "# test_dataset = load_dataset(sim_names=sim_names, batch_size=1,dataset_split='test').map(remove_elevation_features)\n",
    "# test_input, _ = next(iter(test_dataset))\n",
    "# predictions = model.call_n(test_input, n=4)\n",
    "# print(\"Autoregressive predictions shape:\", predictions.shape)"
   ]
  },
  {
   "cell_type": "code",
   "execution_count": null,
   "metadata": {},
   "outputs": [],
   "source": []
  }
 ],
 "metadata": {
  "kernelspec": {
   "display_name": "base",
   "language": "python",
   "name": "python3"
  },
  "language_info": {
   "codemirror_mode": {
    "name": "ipython",
    "version": 3
   },
   "file_extension": ".py",
   "mimetype": "text/x-python",
   "name": "python",
   "nbconvert_exporter": "python",
   "pygments_lexer": "ipython3",
   "version": "3.11.12"
  }
 },
 "nbformat": 4,
 "nbformat_minor": 2
}
