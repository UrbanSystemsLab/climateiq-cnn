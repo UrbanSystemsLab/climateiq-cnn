{
 "cells": [
  {
   "cell_type": "code",
   "execution_count": null,
   "metadata": {},
   "outputs": [],
   "source": [
    "# @title Setup\n",
    "%load_ext autoreload\n",
    "%autoreload 2\n",
    "import tensorflow as tf\n",
    "\n",
    "from usl_models.flood_ml.model import FloodModel\n",
    "from usl_models.flood_ml import dataset\n",
    "from usl_models.flood_ml import eval\n",
    "from usl_models.flood_ml import visualizer"
   ]
  },
  {
   "cell_type": "code",
   "execution_count": 4,
   "metadata": {},
   "outputs": [],
   "source": [
    "# @title Load model\n",
    "model_uri = \"gs://climateiq-vertexai/aiplatform-custom-training-2024-07-20-12:39:37.879/model\"  # @param { type: \"string\" }\n",
    "sim_names = \"Manhattan-config_v1/Rainfall_Data_13.txt\"  # @param { type: \"string\" }\n",
    "sim_names = sim_names.split(\",\")\n",
    "rainfall_durations = \"4\"  # @param { type: \"string\" }\n",
    "rainfall_durations = [int(n) for n in rainfall_durations.split(\",\")]\n",
    "max_chunks = None  # @param { type: \"number\" }\n",
    "batch_size = 2  # @param { type: \"number\" }\n",
    "\n",
    "model = FloodModel.from_checkpoint(model_uri)"
   ]
  },
  {
   "cell_type": "code",
   "execution_count": null,
   "metadata": {},
   "outputs": [],
   "source": [
    "# @title Visualize outputs\n",
    "for sim_name, rainfall_duration in zip(sim_names, rainfall_durations):\n",
    "    data = dataset.load_dataset(\n",
    "        sim_names=sim_names,\n",
    "        dataset_split=\"test\",\n",
    "        batch_size=batch_size,\n",
    "        max_chunks=max_chunks,\n",
    "    )\n",
    "    spatial_maes = []\n",
    "    temporal_mae, temporal_rmse = [], []\n",
    "    max_mae = 0.0\n",
    "    max_spatial_mae = None\n",
    "    highest_error_nse = None\n",
    "    highest_error_pred = None\n",
    "    highest_error_label = None\n",
    "\n",
    "    for input, labels in data:\n",
    "        predictions = model.call_n(input, n=rainfall_duration)\n",
    "        for prediction, label in zip(tf.unstack(predictions), tf.unstack(labels)):\n",
    "            max_pred = tf.reduce_max(prediction, axis=0)\n",
    "            max_label = tf.reduce_max(label, axis=0)\n",
    "            spatial_mae = eval.spatial_mae(max_pred, max_label)\n",
    "\n",
    "            temporal_mae.append(eval.temporal_mae(prediction, label))\n",
    "            temporal_rmse.append(eval.temporal_rmse(prediction, label))\n",
    "\n",
    "            spatial_maes.append(spatial_mae)\n",
    "\n",
    "            mae = tf.reduce_mean(spatial_mae)\n",
    "            if mae > max_mae:\n",
    "                max_mae = mae\n",
    "                max_spatial_mae = spatial_mae\n",
    "                max_mae_nse = eval.spatial_nse(prediction, label)\n",
    "                max_mae_pred = max_pred\n",
    "                max_mae_label = max_label\n",
    "\n",
    "    num_test_examples = len(spatial_maes)\n",
    "    overall_mae = tf.reduce_mean(tf.stack(spatial_maes))\n",
    "    temporal_mae = tf.reduce_mean(tf.stack(temporal_mae), axis=0)\n",
    "    temporal_rmse = tf.reduce_mean(tf.stack(temporal_rmse), axis=0)\n",
    "\n",
    "    visualizer.plot_temporal_errors(\n",
    "        sim_name,\n",
    "        rainfall_duration,\n",
    "        temporal_mae=temporal_mae,\n",
    "        temporal_rmse=temporal_rmse,\n",
    "    )\n",
    "    visualizer.plot_maps(\n",
    "        sim_name,\n",
    "        spatial_mae=max_spatial_mae,\n",
    "        nse=max_mae_nse,\n",
    "        pred=max_mae_pred,\n",
    "        label=max_mae_label,\n",
    "    )"
   ]
  }
 ],
 "metadata": {
  "kernelspec": {
   "display_name": "base",
   "language": "python",
   "name": "python3"
  },
  "language_info": {
   "codemirror_mode": {
    "name": "ipython",
    "version": 3
   },
   "file_extension": ".py",
   "mimetype": "text/x-python",
   "name": "python",
   "nbconvert_exporter": "python",
   "pygments_lexer": "ipython3",
   "version": "3.11.9"
  }
 },
 "nbformat": 4,
 "nbformat_minor": 2
}
