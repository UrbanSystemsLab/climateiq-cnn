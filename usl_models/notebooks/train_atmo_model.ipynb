{
 "cells": [
  {
   "cell_type": "markdown",
   "metadata": {},
   "source": [
    "# Atmo Model Training Notebook\n",
    "\n",
    "Train an Atmo Model using `usl_models` lib."
   ]
  },
  {
   "cell_type": "code",
   "execution_count": 1,
   "metadata": {},
   "outputs": [
    {
     "name": "stderr",
     "output_type": "stream",
     "text": [
      "2024-12-13 20:12:24.968461: I tensorflow/core/util/port.cc:113] oneDNN custom operations are on. You may see slightly different numerical results due to floating-point round-off errors from different computation orders. To turn them off, set the environment variable `TF_ENABLE_ONEDNN_OPTS=0`.\n",
      "2024-12-13 20:12:25.019090: E external/local_xla/xla/stream_executor/cuda/cuda_dnn.cc:9261] Unable to register cuDNN factory: Attempting to register factory for plugin cuDNN when one has already been registered\n",
      "2024-12-13 20:12:25.019128: E external/local_xla/xla/stream_executor/cuda/cuda_fft.cc:607] Unable to register cuFFT factory: Attempting to register factory for plugin cuFFT when one has already been registered\n",
      "2024-12-13 20:12:25.020434: E external/local_xla/xla/stream_executor/cuda/cuda_blas.cc:1515] Unable to register cuBLAS factory: Attempting to register factory for plugin cuBLAS when one has already been registered\n",
      "2024-12-13 20:12:25.028482: I tensorflow/core/platform/cpu_feature_guard.cc:182] This TensorFlow binary is optimized to use available CPU instructions in performance-critical operations.\n",
      "To enable the following instructions: AVX2 AVX512F AVX512_VNNI FMA, in other operations, rebuild TensorFlow with the appropriate compiler flags.\n"
     ]
    },
    {
     "name": "stdout",
     "output_type": "stream",
     "text": [
      "['NYC_Heat_Test/NYC_summer_2000_01p', 'NYC_Heat_Test/NYC_summer_2010_99p']\n"
     ]
    }
   ],
   "source": [
    "%load_ext autoreload\n",
    "%autoreload 2\n",
    "import tensorflow as tf\n",
    "import keras\n",
    "from usl_models.atmo_ml.model import AtmoModel, AtmoModelParams\n",
    "from usl_models.atmo_ml import dataset\n",
    "from google.cloud import storage\n",
    "\n",
    "import logging\n",
    "\n",
    "logging.getLogger().setLevel(logging.INFO)\n",
    "\n",
    "# climateiq-study-area-feature-chunks/NYC_Heat/NYC_summer_2000_01p\n",
    "# Define bucket names and folder paths\n",
    "data_bucket_name = \"climateiq-study-area-feature-chunks\"\n",
    "label_bucket_name = \"climateiq-study-area-label-chunks\"\n",
    "time_steps_per_day = 6\n",
    "batch_size = 2\n",
    "\n",
    "sim_dirs = [\n",
    "    ('NYC_Heat_Test', [\n",
    "        'NYC_summer_2000_01p',\n",
    "        'NYC_summer_2010_99p',\n",
    "        # 'NYC_summer_2015_50p',\n",
    "        # 'NYC_summer_2017_25p',\n",
    "        # 'NYC_summer_2018_75p'\n",
    "    ]),\n",
    "    # ('PHX_Heat_Test', [\n",
    "    #     'PHX_summer_2008_25p',\n",
    "    #     'PHX_summer_2009_50p',\n",
    "    #     'PHX_summer_2011_99p',\n",
    "    #     'PHX_summer_2015_75p',\n",
    "    #     'PHX_summer_2020_01p'\n",
    "    # ])\n",
    "]\n",
    "\n",
    "sim_names = []\n",
    "for sim_dir, subdirs in sim_dirs:\n",
    "    for subdir in subdirs:\n",
    "        sim_names.append(sim_dir + '/' + subdir)\n",
    "\n",
    "print(sim_names)\n",
    "client = storage.Client(project=\"climateiq\")\n"
   ]
  },
  {
   "cell_type": "code",
   "execution_count": 2,
   "metadata": {},
   "outputs": [
    {
     "name": "stderr",
     "output_type": "stream",
     "text": [
      "INFO:root:sim_name_dates [('NYC_Heat_Test/NYC_summer_2000_01p', '2000-06-07'), ('NYC_Heat_Test/NYC_summer_2000_01p', '2000-06-22'), ('NYC_Heat_Test/NYC_summer_2010_99p', '2010-07-13'), ('NYC_Heat_Test/NYC_summer_2010_99p', '2010-07-16'), ('NYC_Heat_Test/NYC_summer_2010_99p', '2010-06-18'), ('NYC_Heat_Test/NYC_summer_2000_01p', '2000-08-31'), ('NYC_Heat_Test/NYC_summer_2010_99p', '2010-08-02'), ('NYC_Heat_Test/NYC_summer_2000_01p', '2000-06-09'), ('NYC_Heat_Test/NYC_summer_2000_01p', '2000-07-03'), ('NYC_Heat_Test/NYC_summer_2000_01p', '2000-06-10'), ('NYC_Heat_Test/NYC_summer_2010_99p', '2010-06-13'), ('NYC_Heat_Test/NYC_summer_2000_01p', '2000-07-12'), ('NYC_Heat_Test/NYC_summer_2000_01p', '2000-06-13'), ('NYC_Heat_Test/NYC_summer_2010_99p', '2010-08-10'), ('NYC_Heat_Test/NYC_summer_2010_99p', '2010-07-01'), ('NYC_Heat_Test/NYC_summer_2000_01p', '2000-06-24'), ('NYC_Heat_Test/NYC_summer_2000_01p', '2000-06-11'), ('NYC_Heat_Test/NYC_summer_2010_99p', '2010-05-30'), ('NYC_Heat_Test/NYC_summer_2000_01p', '2000-07-18'), ('NYC_Heat_Test/NYC_summer_2010_99p', '2010-07-22'), ('NYC_Heat_Test/NYC_summer_2010_99p', '2010-07-20'), ('NYC_Heat_Test/NYC_summer_2010_99p', '2010-08-30'), ('NYC_Heat_Test/NYC_summer_2000_01p', '2000-08-29'), ('NYC_Heat_Test/NYC_summer_2010_99p', '2010-07-07'), ('NYC_Heat_Test/NYC_summer_2010_99p', '2010-06-22'), ('NYC_Heat_Test/NYC_summer_2000_01p', '2000-07-15'), ('NYC_Heat_Test/NYC_summer_2010_99p', '2010-08-01'), ('NYC_Heat_Test/NYC_summer_2000_01p', '2000-08-23'), ('NYC_Heat_Test/NYC_summer_2000_01p', '2000-07-29'), ('NYC_Heat_Test/NYC_summer_2000_01p', '2000-07-11'), ('NYC_Heat_Test/NYC_summer_2000_01p', '2000-07-25'), ('NYC_Heat_Test/NYC_summer_2010_99p', '2010-07-31'), ('NYC_Heat_Test/NYC_summer_2000_01p', '2000-07-09'), ('NYC_Heat_Test/NYC_summer_2010_99p', '2010-08-29'), ('NYC_Heat_Test/NYC_summer_2010_99p', '2010-07-06'), ('NYC_Heat_Test/NYC_summer_2010_99p', '2010-07-02'), ('NYC_Heat_Test/NYC_summer_2000_01p', '2000-08-12'), ('NYC_Heat_Test/NYC_summer_2000_01p', '2000-05-24'), ('NYC_Heat_Test/NYC_summer_2000_01p', '2000-08-21'), ('NYC_Heat_Test/NYC_summer_2000_01p', '2000-08-14'), ('NYC_Heat_Test/NYC_summer_2010_99p', '2010-08-24'), ('NYC_Heat_Test/NYC_summer_2010_99p', '2010-07-25'), ('NYC_Heat_Test/NYC_summer_2000_01p', '2000-07-21'), ('NYC_Heat_Test/NYC_summer_2010_99p', '2010-06-28'), ('NYC_Heat_Test/NYC_summer_2000_01p', '2000-06-14'), ('NYC_Heat_Test/NYC_summer_2000_01p', '2000-06-01'), ('NYC_Heat_Test/NYC_summer_2010_99p', '2010-07-19'), ('NYC_Heat_Test/NYC_summer_2000_01p', '2000-08-03'), ('NYC_Heat_Test/NYC_summer_2000_01p', '2000-08-02'), ('NYC_Heat_Test/NYC_summer_2000_01p', '2000-07-27'), ('NYC_Heat_Test/NYC_summer_2000_01p', '2000-08-01'), ('NYC_Heat_Test/NYC_summer_2000_01p', '2000-07-07'), ('NYC_Heat_Test/NYC_summer_2010_99p', '2010-05-26'), ('NYC_Heat_Test/NYC_summer_2000_01p', '2000-05-29'), ('NYC_Heat_Test/NYC_summer_2000_01p', '2000-07-24'), ('NYC_Heat_Test/NYC_summer_2010_99p', '2010-07-08'), ('NYC_Heat_Test/NYC_summer_2010_99p', '2010-08-04'), ('NYC_Heat_Test/NYC_summer_2010_99p', '2010-07-11'), ('NYC_Heat_Test/NYC_summer_2010_99p', '2010-08-09'), ('NYC_Heat_Test/NYC_summer_2000_01p', '2000-06-03'), ('NYC_Heat_Test/NYC_summer_2010_99p', '2010-05-27'), ('NYC_Heat_Test/NYC_summer_2010_99p', '2010-07-23'), ('NYC_Heat_Test/NYC_summer_2010_99p', '2010-08-27'), ('NYC_Heat_Test/NYC_summer_2000_01p', '2000-06-26'), ('NYC_Heat_Test/NYC_summer_2010_99p', '2010-06-26'), ('NYC_Heat_Test/NYC_summer_2000_01p', '2000-08-10'), ('NYC_Heat_Test/NYC_summer_2000_01p', '2000-07-13'), ('NYC_Heat_Test/NYC_summer_2010_99p', '2010-06-01'), ('NYC_Heat_Test/NYC_summer_2010_99p', '2010-08-16'), ('NYC_Heat_Test/NYC_summer_2010_99p', '2010-08-12'), ('NYC_Heat_Test/NYC_summer_2010_99p', '2010-05-25'), ('NYC_Heat_Test/NYC_summer_2000_01p', '2000-06-08'), ('NYC_Heat_Test/NYC_summer_2000_01p', '2000-06-16'), ('NYC_Heat_Test/NYC_summer_2000_01p', '2000-08-20'), ('NYC_Heat_Test/NYC_summer_2010_99p', '2010-07-14'), ('NYC_Heat_Test/NYC_summer_2010_99p', '2010-05-31'), ('NYC_Heat_Test/NYC_summer_2010_99p', '2010-08-25'), ('NYC_Heat_Test/NYC_summer_2000_01p', '2000-08-11'), ('NYC_Heat_Test/NYC_summer_2000_01p', '2000-06-05'), ('NYC_Heat_Test/NYC_summer_2000_01p', '2000-07-06'), ('NYC_Heat_Test/NYC_summer_2010_99p', '2010-06-19'), ('NYC_Heat_Test/NYC_summer_2000_01p', '2000-05-31'), ('NYC_Heat_Test/NYC_summer_2010_99p', '2010-08-07'), ('NYC_Heat_Test/NYC_summer_2000_01p', '2000-07-19'), ('NYC_Heat_Test/NYC_summer_2010_99p', '2010-07-12'), ('NYC_Heat_Test/NYC_summer_2010_99p', '2010-06-12'), ('NYC_Heat_Test/NYC_summer_2010_99p', '2010-07-15'), ('NYC_Heat_Test/NYC_summer_2010_99p', '2010-08-23'), ('NYC_Heat_Test/NYC_summer_2000_01p', '2000-07-02'), ('NYC_Heat_Test/NYC_summer_2010_99p', '2010-07-27'), ('NYC_Heat_Test/NYC_summer_2000_01p', '2000-08-27'), ('NYC_Heat_Test/NYC_summer_2000_01p', '2000-08-17'), ('NYC_Heat_Test/NYC_summer_2010_99p', '2010-08-08'), ('NYC_Heat_Test/NYC_summer_2000_01p', '2000-08-08'), ('NYC_Heat_Test/NYC_summer_2000_01p', '2000-08-26'), ('NYC_Heat_Test/NYC_summer_2010_99p', '2010-06-20'), ('NYC_Heat_Test/NYC_summer_2010_99p', '2010-06-16'), ('NYC_Heat_Test/NYC_summer_2010_99p', '2010-08-26'), ('NYC_Heat_Test/NYC_summer_2010_99p', '2010-06-04'), ('NYC_Heat_Test/NYC_summer_2010_99p', '2010-07-28'), ('NYC_Heat_Test/NYC_summer_2010_99p', '2010-05-29'), ('NYC_Heat_Test/NYC_summer_2010_99p', '2010-07-29'), ('NYC_Heat_Test/NYC_summer_2000_01p', '2000-07-01'), ('NYC_Heat_Test/NYC_summer_2010_99p', '2010-07-03'), ('NYC_Heat_Test/NYC_summer_2010_99p', '2010-07-05'), ('NYC_Heat_Test/NYC_summer_2010_99p', '2010-08-28'), ('NYC_Heat_Test/NYC_summer_2000_01p', '2000-06-27'), ('NYC_Heat_Test/NYC_summer_2010_99p', '2010-07-24'), ('NYC_Heat_Test/NYC_summer_2000_01p', '2000-06-25'), ('NYC_Heat_Test/NYC_summer_2010_99p', '2010-07-30'), ('NYC_Heat_Test/NYC_summer_2000_01p', '2000-06-29'), ('NYC_Heat_Test/NYC_summer_2000_01p', '2000-08-16'), ('NYC_Heat_Test/NYC_summer_2010_99p', '2010-06-09'), ('NYC_Heat_Test/NYC_summer_2010_99p', '2010-06-02'), ('NYC_Heat_Test/NYC_summer_2010_99p', '2010-06-29'), ('NYC_Heat_Test/NYC_summer_2010_99p', '2010-06-24'), ('NYC_Heat_Test/NYC_summer_2000_01p', '2000-06-28'), ('NYC_Heat_Test/NYC_summer_2000_01p', '2000-06-30'), ('NYC_Heat_Test/NYC_summer_2000_01p', '2000-07-04'), ('NYC_Heat_Test/NYC_summer_2000_01p', '2000-06-17'), ('NYC_Heat_Test/NYC_summer_2000_01p', '2000-08-19'), ('NYC_Heat_Test/NYC_summer_2000_01p', '2000-06-21'), ('NYC_Heat_Test/NYC_summer_2000_01p', '2000-08-05'), ('NYC_Heat_Test/NYC_summer_2010_99p', '2010-06-17'), ('NYC_Heat_Test/NYC_summer_2000_01p', '2000-05-26'), ('NYC_Heat_Test/NYC_summer_2000_01p', '2000-08-22'), ('NYC_Heat_Test/NYC_summer_2010_99p', '2010-08-31'), ('NYC_Heat_Test/NYC_summer_2000_01p', '2000-08-25'), ('NYC_Heat_Test/NYC_summer_2000_01p', '2000-06-19'), ('NYC_Heat_Test/NYC_summer_2010_99p', '2010-08-14'), ('NYC_Heat_Test/NYC_summer_2010_99p', '2010-06-30'), ('NYC_Heat_Test/NYC_summer_2010_99p', '2010-06-15'), ('NYC_Heat_Test/NYC_summer_2010_99p', '2010-06-06'), ('NYC_Heat_Test/NYC_summer_2000_01p', '2000-07-10'), ('NYC_Heat_Test/NYC_summer_2010_99p', '2010-06-05'), ('NYC_Heat_Test/NYC_summer_2000_01p', '2000-08-28'), ('NYC_Heat_Test/NYC_summer_2000_01p', '2000-08-09'), ('NYC_Heat_Test/NYC_summer_2000_01p', '2000-07-05'), ('NYC_Heat_Test/NYC_summer_2010_99p', '2010-06-25'), ('NYC_Heat_Test/NYC_summer_2010_99p', '2010-07-21'), ('NYC_Heat_Test/NYC_summer_2000_01p', '2000-07-26'), ('NYC_Heat_Test/NYC_summer_2000_01p', '2000-07-17'), ('NYC_Heat_Test/NYC_summer_2010_99p', '2010-08-15'), ('NYC_Heat_Test/NYC_summer_2010_99p', '2010-07-09'), ('NYC_Heat_Test/NYC_summer_2000_01p', '2000-06-23'), ('NYC_Heat_Test/NYC_summer_2000_01p', '2000-06-15'), ('NYC_Heat_Test/NYC_summer_2010_99p', '2010-06-08'), ('NYC_Heat_Test/NYC_summer_2010_99p', '2010-07-04'), ('NYC_Heat_Test/NYC_summer_2000_01p', '2000-07-20'), ('NYC_Heat_Test/NYC_summer_2010_99p', '2010-05-24'), ('NYC_Heat_Test/NYC_summer_2010_99p', '2010-06-21'), ('NYC_Heat_Test/NYC_summer_2000_01p', '2000-05-28'), ('NYC_Heat_Test/NYC_summer_2010_99p', '2010-08-22'), ('NYC_Heat_Test/NYC_summer_2000_01p', '2000-08-15'), ('NYC_Heat_Test/NYC_summer_2000_01p', '2000-08-18'), ('NYC_Heat_Test/NYC_summer_2010_99p', '2010-08-21'), ('NYC_Heat_Test/NYC_summer_2010_99p', '2010-08-17'), ('NYC_Heat_Test/NYC_summer_2010_99p', '2010-06-27'), ('NYC_Heat_Test/NYC_summer_2000_01p', '2000-07-28'), ('NYC_Heat_Test/NYC_summer_2010_99p', '2010-08-05'), ('NYC_Heat_Test/NYC_summer_2000_01p', '2000-06-18'), ('NYC_Heat_Test/NYC_summer_2010_99p', '2010-08-20'), ('NYC_Heat_Test/NYC_summer_2010_99p', '2010-06-03'), ('NYC_Heat_Test/NYC_summer_2000_01p', '2000-08-13'), ('NYC_Heat_Test/NYC_summer_2000_01p', '2000-06-04'), ('NYC_Heat_Test/NYC_summer_2010_99p', '2010-06-10'), ('NYC_Heat_Test/NYC_summer_2010_99p', '2010-07-18'), ('NYC_Heat_Test/NYC_summer_2010_99p', '2010-07-10'), ('NYC_Heat_Test/NYC_summer_2000_01p', '2000-07-31'), ('NYC_Heat_Test/NYC_summer_2010_99p', '2010-06-07'), ('NYC_Heat_Test/NYC_summer_2000_01p', '2000-07-16'), ('NYC_Heat_Test/NYC_summer_2000_01p', '2000-05-25'), ('NYC_Heat_Test/NYC_summer_2010_99p', '2010-08-03'), ('NYC_Heat_Test/NYC_summer_2010_99p', '2010-06-23'), ('NYC_Heat_Test/NYC_summer_2010_99p', '2010-07-26'), ('NYC_Heat_Test/NYC_summer_2000_01p', '2000-07-22'), ('NYC_Heat_Test/NYC_summer_2000_01p', '2000-07-23'), ('NYC_Heat_Test/NYC_summer_2010_99p', '2010-07-17'), ('NYC_Heat_Test/NYC_summer_2000_01p', '2000-08-24'), ('NYC_Heat_Test/NYC_summer_2000_01p', '2000-07-08'), ('NYC_Heat_Test/NYC_summer_2000_01p', '2000-05-27'), ('NYC_Heat_Test/NYC_summer_2000_01p', '2000-08-04'), ('NYC_Heat_Test/NYC_summer_2000_01p', '2000-08-06'), ('NYC_Heat_Test/NYC_summer_2000_01p', '2000-05-30'), ('NYC_Heat_Test/NYC_summer_2010_99p', '2010-08-11'), ('NYC_Heat_Test/NYC_summer_2010_99p', '2010-08-06'), ('NYC_Heat_Test/NYC_summer_2010_99p', '2010-08-18'), ('NYC_Heat_Test/NYC_summer_2000_01p', '2000-06-02'), ('NYC_Heat_Test/NYC_summer_2000_01p', '2000-06-20'), ('NYC_Heat_Test/NYC_summer_2010_99p', '2010-06-14'), ('NYC_Heat_Test/NYC_summer_2010_99p', '2010-08-19'), ('NYC_Heat_Test/NYC_summer_2000_01p', '2000-07-14'), ('NYC_Heat_Test/NYC_summer_2000_01p', '2000-07-30'), ('NYC_Heat_Test/NYC_summer_2000_01p', '2000-08-07'), ('NYC_Heat_Test/NYC_summer_2000_01p', '2000-06-12'), ('NYC_Heat_Test/NYC_summer_2010_99p', '2010-06-11'), ('NYC_Heat_Test/NYC_summer_2000_01p', '2000-06-06'), ('NYC_Heat_Test/NYC_summer_2010_99p', '2010-08-13'), ('NYC_Heat_Test/NYC_summer_2010_99p', '2010-05-28'), ('NYC_Heat_Test/NYC_summer_2000_01p', '2000-08-30')]\n",
      "2024-12-13 20:12:27.903234: I tensorflow/core/common_runtime/gpu/gpu_device.cc:1929] Created device /job:localhost/replica:0/task:0/device:GPU:0 with 38364 MB memory:  -> device: 0, name: NVIDIA A100-SXM4-40GB, pci bus id: 0000:00:04.0, compute capability: 8.0\n",
      "INFO:root:sim_name_dates [('NYC_Heat_Test/NYC_summer_2010_99p', '2010-07-12'), ('NYC_Heat_Test/NYC_summer_2010_99p', '2010-07-28'), ('NYC_Heat_Test/NYC_summer_2010_99p', '2010-08-09'), ('NYC_Heat_Test/NYC_summer_2010_99p', '2010-07-30'), ('NYC_Heat_Test/NYC_summer_2000_01p', '2000-07-24'), ('NYC_Heat_Test/NYC_summer_2010_99p', '2010-06-01'), ('NYC_Heat_Test/NYC_summer_2010_99p', '2010-08-15'), ('NYC_Heat_Test/NYC_summer_2000_01p', '2000-06-05'), ('NYC_Heat_Test/NYC_summer_2000_01p', '2000-06-29'), ('NYC_Heat_Test/NYC_summer_2010_99p', '2010-07-03'), ('NYC_Heat_Test/NYC_summer_2000_01p', '2000-08-28'), ('NYC_Heat_Test/NYC_summer_2010_99p', '2010-08-22'), ('NYC_Heat_Test/NYC_summer_2010_99p', '2010-06-07'), ('NYC_Heat_Test/NYC_summer_2010_99p', '2010-07-14'), ('NYC_Heat_Test/NYC_summer_2010_99p', '2010-06-29'), ('NYC_Heat_Test/NYC_summer_2010_99p', '2010-05-28'), ('NYC_Heat_Test/NYC_summer_2010_99p', '2010-05-30'), ('NYC_Heat_Test/NYC_summer_2000_01p', '2000-06-06'), ('NYC_Heat_Test/NYC_summer_2000_01p', '2000-07-05'), ('NYC_Heat_Test/NYC_summer_2000_01p', '2000-06-08'), ('NYC_Heat_Test/NYC_summer_2000_01p', '2000-08-30'), ('NYC_Heat_Test/NYC_summer_2000_01p', '2000-08-23'), ('NYC_Heat_Test/NYC_summer_2000_01p', '2000-08-06'), ('NYC_Heat_Test/NYC_summer_2010_99p', '2010-07-11'), ('NYC_Heat_Test/NYC_summer_2000_01p', '2000-07-09'), ('NYC_Heat_Test/NYC_summer_2000_01p', '2000-08-12'), ('NYC_Heat_Test/NYC_summer_2010_99p', '2010-06-27'), ('NYC_Heat_Test/NYC_summer_2000_01p', '2000-08-19'), ('NYC_Heat_Test/NYC_summer_2010_99p', '2010-08-11'), ('NYC_Heat_Test/NYC_summer_2010_99p', '2010-06-03'), ('NYC_Heat_Test/NYC_summer_2000_01p', '2000-05-26'), ('NYC_Heat_Test/NYC_summer_2010_99p', '2010-07-04'), ('NYC_Heat_Test/NYC_summer_2010_99p', '2010-08-23'), ('NYC_Heat_Test/NYC_summer_2010_99p', '2010-07-31'), ('NYC_Heat_Test/NYC_summer_2010_99p', '2010-07-10'), ('NYC_Heat_Test/NYC_summer_2000_01p', '2000-08-29'), ('NYC_Heat_Test/NYC_summer_2010_99p', '2010-06-22'), ('NYC_Heat_Test/NYC_summer_2010_99p', '2010-08-12'), ('NYC_Heat_Test/NYC_summer_2000_01p', '2000-07-16'), ('NYC_Heat_Test/NYC_summer_2010_99p', '2010-07-01'), ('NYC_Heat_Test/NYC_summer_2000_01p', '2000-08-03'), ('NYC_Heat_Test/NYC_summer_2000_01p', '2000-06-11'), ('NYC_Heat_Test/NYC_summer_2010_99p', '2010-08-04'), ('NYC_Heat_Test/NYC_summer_2010_99p', '2010-06-12'), ('NYC_Heat_Test/NYC_summer_2000_01p', '2000-06-10'), ('NYC_Heat_Test/NYC_summer_2000_01p', '2000-06-14'), ('NYC_Heat_Test/NYC_summer_2010_99p', '2010-06-25'), ('NYC_Heat_Test/NYC_summer_2000_01p', '2000-08-05'), ('NYC_Heat_Test/NYC_summer_2000_01p', '2000-07-06'), ('NYC_Heat_Test/NYC_summer_2010_99p', '2010-06-11'), ('NYC_Heat_Test/NYC_summer_2010_99p', '2010-06-17'), ('NYC_Heat_Test/NYC_summer_2000_01p', '2000-07-08'), ('NYC_Heat_Test/NYC_summer_2010_99p', '2010-06-23'), ('NYC_Heat_Test/NYC_summer_2010_99p', '2010-08-31'), ('NYC_Heat_Test/NYC_summer_2010_99p', '2010-08-14'), ('NYC_Heat_Test/NYC_summer_2000_01p', '2000-06-13'), ('NYC_Heat_Test/NYC_summer_2000_01p', '2000-06-23'), ('NYC_Heat_Test/NYC_summer_2010_99p', '2010-08-25'), ('NYC_Heat_Test/NYC_summer_2010_99p', '2010-06-14'), ('NYC_Heat_Test/NYC_summer_2010_99p', '2010-06-20'), ('NYC_Heat_Test/NYC_summer_2010_99p', '2010-08-05'), ('NYC_Heat_Test/NYC_summer_2000_01p', '2000-08-17'), ('NYC_Heat_Test/NYC_summer_2000_01p', '2000-06-04'), ('NYC_Heat_Test/NYC_summer_2000_01p', '2000-07-25'), ('NYC_Heat_Test/NYC_summer_2000_01p', '2000-06-12'), ('NYC_Heat_Test/NYC_summer_2000_01p', '2000-08-26'), ('NYC_Heat_Test/NYC_summer_2000_01p', '2000-08-18'), ('NYC_Heat_Test/NYC_summer_2000_01p', '2000-08-22'), ('NYC_Heat_Test/NYC_summer_2010_99p', '2010-08-20'), ('NYC_Heat_Test/NYC_summer_2000_01p', '2000-07-28'), ('NYC_Heat_Test/NYC_summer_2000_01p', '2000-07-30'), ('NYC_Heat_Test/NYC_summer_2000_01p', '2000-05-29'), ('NYC_Heat_Test/NYC_summer_2010_99p', '2010-07-23'), ('NYC_Heat_Test/NYC_summer_2000_01p', '2000-08-10'), ('NYC_Heat_Test/NYC_summer_2000_01p', '2000-07-26'), ('NYC_Heat_Test/NYC_summer_2010_99p', '2010-08-10'), ('NYC_Heat_Test/NYC_summer_2010_99p', '2010-07-16'), ('NYC_Heat_Test/NYC_summer_2010_99p', '2010-07-24'), ('NYC_Heat_Test/NYC_summer_2000_01p', '2000-05-31'), ('NYC_Heat_Test/NYC_summer_2010_99p', '2010-08-27'), ('NYC_Heat_Test/NYC_summer_2010_99p', '2010-07-20'), ('NYC_Heat_Test/NYC_summer_2000_01p', '2000-07-17'), ('NYC_Heat_Test/NYC_summer_2000_01p', '2000-07-01'), ('NYC_Heat_Test/NYC_summer_2000_01p', '2000-06-07'), ('NYC_Heat_Test/NYC_summer_2010_99p', '2010-08-30'), ('NYC_Heat_Test/NYC_summer_2010_99p', '2010-06-16'), ('NYC_Heat_Test/NYC_summer_2010_99p', '2010-06-18'), ('NYC_Heat_Test/NYC_summer_2010_99p', '2010-07-22'), ('NYC_Heat_Test/NYC_summer_2010_99p', '2010-06-02'), ('NYC_Heat_Test/NYC_summer_2010_99p', '2010-06-24'), ('NYC_Heat_Test/NYC_summer_2010_99p', '2010-07-27'), ('NYC_Heat_Test/NYC_summer_2010_99p', '2010-07-07'), ('NYC_Heat_Test/NYC_summer_2000_01p', '2000-06-09'), ('NYC_Heat_Test/NYC_summer_2010_99p', '2010-05-25'), ('NYC_Heat_Test/NYC_summer_2010_99p', '2010-07-15'), ('NYC_Heat_Test/NYC_summer_2010_99p', '2010-08-24'), ('NYC_Heat_Test/NYC_summer_2010_99p', '2010-08-03'), ('NYC_Heat_Test/NYC_summer_2010_99p', '2010-08-16'), ('NYC_Heat_Test/NYC_summer_2010_99p', '2010-08-13'), ('NYC_Heat_Test/NYC_summer_2010_99p', '2010-08-26'), ('NYC_Heat_Test/NYC_summer_2000_01p', '2000-07-18'), ('NYC_Heat_Test/NYC_summer_2000_01p', '2000-08-24'), ('NYC_Heat_Test/NYC_summer_2000_01p', '2000-08-20'), ('NYC_Heat_Test/NYC_summer_2010_99p', '2010-08-08'), ('NYC_Heat_Test/NYC_summer_2000_01p', '2000-06-02'), ('NYC_Heat_Test/NYC_summer_2010_99p', '2010-06-30'), ('NYC_Heat_Test/NYC_summer_2010_99p', '2010-05-27'), ('NYC_Heat_Test/NYC_summer_2000_01p', '2000-05-24'), ('NYC_Heat_Test/NYC_summer_2000_01p', '2000-07-31'), ('NYC_Heat_Test/NYC_summer_2010_99p', '2010-06-19'), ('NYC_Heat_Test/NYC_summer_2000_01p', '2000-05-28'), ('NYC_Heat_Test/NYC_summer_2000_01p', '2000-08-13'), ('NYC_Heat_Test/NYC_summer_2000_01p', '2000-07-04'), ('NYC_Heat_Test/NYC_summer_2000_01p', '2000-08-04'), ('NYC_Heat_Test/NYC_summer_2010_99p', '2010-08-06'), ('NYC_Heat_Test/NYC_summer_2000_01p', '2000-06-25'), ('NYC_Heat_Test/NYC_summer_2010_99p', '2010-08-28'), ('NYC_Heat_Test/NYC_summer_2010_99p', '2010-06-13'), ('NYC_Heat_Test/NYC_summer_2000_01p', '2000-08-02'), ('NYC_Heat_Test/NYC_summer_2010_99p', '2010-05-24'), ('NYC_Heat_Test/NYC_summer_2010_99p', '2010-06-05'), ('NYC_Heat_Test/NYC_summer_2000_01p', '2000-07-15'), ('NYC_Heat_Test/NYC_summer_2010_99p', '2010-07-19'), ('NYC_Heat_Test/NYC_summer_2000_01p', '2000-06-16'), ('NYC_Heat_Test/NYC_summer_2000_01p', '2000-08-11'), ('NYC_Heat_Test/NYC_summer_2000_01p', '2000-07-21'), ('NYC_Heat_Test/NYC_summer_2000_01p', '2000-07-03'), ('NYC_Heat_Test/NYC_summer_2010_99p', '2010-07-13'), ('NYC_Heat_Test/NYC_summer_2000_01p', '2000-06-24'), ('NYC_Heat_Test/NYC_summer_2000_01p', '2000-06-03'), ('NYC_Heat_Test/NYC_summer_2000_01p', '2000-08-07'), ('NYC_Heat_Test/NYC_summer_2010_99p', '2010-08-18'), ('NYC_Heat_Test/NYC_summer_2000_01p', '2000-07-23'), ('NYC_Heat_Test/NYC_summer_2000_01p', '2000-08-21'), ('NYC_Heat_Test/NYC_summer_2000_01p', '2000-07-14'), ('NYC_Heat_Test/NYC_summer_2010_99p', '2010-07-02'), ('NYC_Heat_Test/NYC_summer_2000_01p', '2000-08-09'), ('NYC_Heat_Test/NYC_summer_2000_01p', '2000-07-13'), ('NYC_Heat_Test/NYC_summer_2010_99p', '2010-07-09'), ('NYC_Heat_Test/NYC_summer_2000_01p', '2000-06-18'), ('NYC_Heat_Test/NYC_summer_2010_99p', '2010-06-21'), ('NYC_Heat_Test/NYC_summer_2010_99p', '2010-07-08'), ('NYC_Heat_Test/NYC_summer_2000_01p', '2000-06-22'), ('NYC_Heat_Test/NYC_summer_2010_99p', '2010-08-17'), ('NYC_Heat_Test/NYC_summer_2000_01p', '2000-07-27'), ('NYC_Heat_Test/NYC_summer_2000_01p', '2000-06-27'), ('NYC_Heat_Test/NYC_summer_2010_99p', '2010-06-04'), ('NYC_Heat_Test/NYC_summer_2000_01p', '2000-05-30'), ('NYC_Heat_Test/NYC_summer_2000_01p', '2000-06-17'), ('NYC_Heat_Test/NYC_summer_2010_99p', '2010-06-10'), ('NYC_Heat_Test/NYC_summer_2000_01p', '2000-07-02'), ('NYC_Heat_Test/NYC_summer_2010_99p', '2010-07-21'), ('NYC_Heat_Test/NYC_summer_2000_01p', '2000-07-07'), ('NYC_Heat_Test/NYC_summer_2000_01p', '2000-08-16'), ('NYC_Heat_Test/NYC_summer_2010_99p', '2010-06-15'), ('NYC_Heat_Test/NYC_summer_2000_01p', '2000-06-30'), ('NYC_Heat_Test/NYC_summer_2000_01p', '2000-07-20'), ('NYC_Heat_Test/NYC_summer_2000_01p', '2000-06-20'), ('NYC_Heat_Test/NYC_summer_2010_99p', '2010-05-31'), ('NYC_Heat_Test/NYC_summer_2000_01p', '2000-08-25'), ('NYC_Heat_Test/NYC_summer_2010_99p', '2010-07-29'), ('NYC_Heat_Test/NYC_summer_2000_01p', '2000-06-26'), ('NYC_Heat_Test/NYC_summer_2010_99p', '2010-07-17'), ('NYC_Heat_Test/NYC_summer_2000_01p', '2000-06-19'), ('NYC_Heat_Test/NYC_summer_2000_01p', '2000-08-14'), ('NYC_Heat_Test/NYC_summer_2000_01p', '2000-06-21'), ('NYC_Heat_Test/NYC_summer_2010_99p', '2010-07-06'), ('NYC_Heat_Test/NYC_summer_2000_01p', '2000-05-27'), ('NYC_Heat_Test/NYC_summer_2000_01p', '2000-07-29'), ('NYC_Heat_Test/NYC_summer_2010_99p', '2010-08-19'), ('NYC_Heat_Test/NYC_summer_2010_99p', '2010-08-07'), ('NYC_Heat_Test/NYC_summer_2000_01p', '2000-06-28'), ('NYC_Heat_Test/NYC_summer_2010_99p', '2010-07-05'), ('NYC_Heat_Test/NYC_summer_2000_01p', '2000-08-31'), ('NYC_Heat_Test/NYC_summer_2010_99p', '2010-08-01'), ('NYC_Heat_Test/NYC_summer_2010_99p', '2010-06-26'), ('NYC_Heat_Test/NYC_summer_2010_99p', '2010-06-09'), ('NYC_Heat_Test/NYC_summer_2000_01p', '2000-08-01'), ('NYC_Heat_Test/NYC_summer_2010_99p', '2010-07-18'), ('NYC_Heat_Test/NYC_summer_2010_99p', '2010-08-02'), ('NYC_Heat_Test/NYC_summer_2010_99p', '2010-05-26'), ('NYC_Heat_Test/NYC_summer_2010_99p', '2010-06-28'), ('NYC_Heat_Test/NYC_summer_2000_01p', '2000-08-08'), ('NYC_Heat_Test/NYC_summer_2000_01p', '2000-07-11'), ('NYC_Heat_Test/NYC_summer_2010_99p', '2010-06-08'), ('NYC_Heat_Test/NYC_summer_2000_01p', '2000-05-25'), ('NYC_Heat_Test/NYC_summer_2000_01p', '2000-07-12'), ('NYC_Heat_Test/NYC_summer_2000_01p', '2000-07-10'), ('NYC_Heat_Test/NYC_summer_2010_99p', '2010-06-06'), ('NYC_Heat_Test/NYC_summer_2000_01p', '2000-08-15'), ('NYC_Heat_Test/NYC_summer_2010_99p', '2010-07-25'), ('NYC_Heat_Test/NYC_summer_2000_01p', '2000-06-15'), ('NYC_Heat_Test/NYC_summer_2000_01p', '2000-06-01'), ('NYC_Heat_Test/NYC_summer_2010_99p', '2010-08-21'), ('NYC_Heat_Test/NYC_summer_2010_99p', '2010-05-29'), ('NYC_Heat_Test/NYC_summer_2000_01p', '2000-08-27'), ('NYC_Heat_Test/NYC_summer_2000_01p', '2000-07-22'), ('NYC_Heat_Test/NYC_summer_2010_99p', '2010-08-29'), ('NYC_Heat_Test/NYC_summer_2000_01p', '2000-07-19'), ('NYC_Heat_Test/NYC_summer_2010_99p', '2010-07-26')]\n"
     ]
    }
   ],
   "source": [
    "# Create the training dataset using create_atmo_dataset with sim_names\n",
    "train_frac = 0.8\n",
    "\n",
    "train_ds = dataset.load_dataset(\n",
    "    data_bucket_name=data_bucket_name,\n",
    "    label_bucket_name=label_bucket_name,\n",
    "    sim_names=sim_names,\n",
    "    hash_range=(0.0, train_frac),\n",
    ").batch(batch_size=batch_size)\n",
    "\n",
    "val_ds = dataset.load_dataset(\n",
    "    data_bucket_name=data_bucket_name,\n",
    "    label_bucket_name=label_bucket_name,\n",
    "    sim_names=sim_names,\n",
    "    hash_range=(train_frac, 1.0),\n",
    ").batch(batch_size=batch_size)"
   ]
  },
  {
   "cell_type": "code",
   "execution_count": 3,
   "metadata": {},
   "outputs": [],
   "source": [
    "# Initialize the Atmo Model\n",
    "model_params = AtmoModelParams()\n",
    "model = AtmoModel(model_params)"
   ]
  },
  {
   "cell_type": "code",
   "execution_count": 4,
   "metadata": {},
   "outputs": [
    {
     "name": "stdout",
     "output_type": "stream",
     "text": [
      "Split shape: (None, 50, 50, 5, 2, 256)\n",
      "Separated shape (pre-slice): (None, 50, 50, 10, 256)\n",
      "Reduced shape after removing outermost time steps: (None, 50, 50, 8, 256)\n",
      "Split shape: (None, 50, 50, 5, 2, 256)\n",
      "Separated shape (pre-slice): (None, 50, 50, 10, 256)\n",
      "Reduced shape after removing outermost time steps: (None, 50, 50, 8, 256)\n"
     ]
    },
    {
     "name": "stderr",
     "output_type": "stream",
     "text": [
      "2024-12-13 20:12:46.537737: E tensorflow/core/grappler/optimizers/meta_optimizer.cc:961] layout failed: INVALID_ARGUMENT: Size of values 0 does not match size of permutation 4 @ fanin shape inatmo_conv_lstm/conv_lstm/conv_lstm2d/while/body/_1/atmo_conv_lstm/conv_lstm/conv_lstm2d/while/dropout_7/SelectV2-2-TransposeNHWCToNCHW-LayoutOptimizer\n"
     ]
    },
    {
     "name": "stdout",
     "output_type": "stream",
     "text": [
      "Output shape: TensorShape([None, 8, 50, 50, 256])\n"
     ]
    },
    {
     "name": "stderr",
     "output_type": "stream",
     "text": [
      "INFO:root:load_day (2010-06-18, NYC_Heat_Test/NYC_summer_2010_99p)\n",
      "INFO:root:load_day (2000-05-24, NYC_Heat_Test/NYC_summer_2000_01p)\n",
      "INFO:root:load_day (2000-08-14, NYC_Heat_Test/NYC_summer_2000_01p)\n",
      "2024-12-13 20:12:51.752692: I external/local_xla/xla/stream_executor/cuda/cuda_dnn.cc:454] Loaded cuDNN version 8900\n",
      "WARNING:root:incomplete data!: 2000-08-14 NYC_Heat_Test/NYC_summer_2000_01p #1\n",
      "INFO:root:load_day (2000-07-21, NYC_Heat_Test/NYC_summer_2000_01p)\n",
      "INFO:root:load_day (2010-06-28, NYC_Heat_Test/NYC_summer_2010_99p)\n"
     ]
    },
    {
     "name": "stdout",
     "output_type": "stream",
     "text": [
      "      1/Unknown - 15s 15s/step - loss: 18248.9062 - mean_absolute_error: 74.0046 - root_mean_squared_error: 135.0885Output shape: TensorShape([None, 8, 50, 50, 256])\n"
     ]
    },
    {
     "name": "stderr",
     "output_type": "stream",
     "text": [
      "INFO:root:load_day (2000-08-02, NYC_Heat_Test/NYC_summer_2000_01p)\n"
     ]
    },
    {
     "name": "stdout",
     "output_type": "stream",
     "text": [
      "      2/Unknown - 16s 686ms/step - loss: 18530.6367 - mean_absolute_error: 74.8722 - root_mean_squared_error: 136.1273Output shape: TensorShape([None, 8, 50, 50, 256])\n"
     ]
    },
    {
     "name": "stderr",
     "output_type": "stream",
     "text": [
      "WARNING:root:incomplete data!: 2000-08-02 NYC_Heat_Test/NYC_summer_2000_01p #2\n",
      "INFO:root:load_day (2000-08-01, NYC_Heat_Test/NYC_summer_2000_01p)\n",
      "WARNING:root:incomplete data!: 2000-08-01 NYC_Heat_Test/NYC_summer_2000_01p #3\n",
      "INFO:root:load_day (2000-07-07, NYC_Heat_Test/NYC_summer_2000_01p)\n",
      "INFO:root:load_day (2000-07-24, NYC_Heat_Test/NYC_summer_2000_01p)\n",
      "INFO:root:load_day (2010-08-04, NYC_Heat_Test/NYC_summer_2010_99p)\n"
     ]
    },
    {
     "name": "stdout",
     "output_type": "stream",
     "text": [
      "      3/Unknown - 23s 4s/step - loss: 18349.3555 - mean_absolute_error: 73.8994 - root_mean_squared_error: 135.4598   Output shape: TensorShape([None, 8, 50, 50, 256])\n"
     ]
    },
    {
     "name": "stderr",
     "output_type": "stream",
     "text": [
      "INFO:root:load_day (2010-06-26, NYC_Heat_Test/NYC_summer_2010_99p)\n",
      "INFO:root:load_day (2010-05-25, NYC_Heat_Test/NYC_summer_2010_99p)\n"
     ]
    },
    {
     "name": "stdout",
     "output_type": "stream",
     "text": [
      "      4/Unknown - 27s 4s/step - loss: 18472.2578 - mean_absolute_error: 74.3006 - root_mean_squared_error: 135.9127Output shape: TensorShape([None, 8, 50, 50, 256])\n"
     ]
    },
    {
     "name": "stderr",
     "output_type": "stream",
     "text": [
      "INFO:root:load_day (2000-06-08, NYC_Heat_Test/NYC_summer_2000_01p)\n",
      "INFO:root:load_day (2010-05-31, NYC_Heat_Test/NYC_summer_2010_99p)\n"
     ]
    },
    {
     "name": "stdout",
     "output_type": "stream",
     "text": [
      "      5/Unknown - 31s 4s/step - loss: 18403.3965 - mean_absolute_error: 74.2029 - root_mean_squared_error: 135.6591Output shape: TensorShape([None, 8, 50, 50, 256])\n"
     ]
    },
    {
     "name": "stderr",
     "output_type": "stream",
     "text": [
      "INFO:root:load_day (2010-08-07, NYC_Heat_Test/NYC_summer_2010_99p)\n",
      "INFO:root:load_day (2010-07-27, NYC_Heat_Test/NYC_summer_2010_99p)\n"
     ]
    },
    {
     "name": "stdout",
     "output_type": "stream",
     "text": [
      "      6/Unknown - 35s 4s/step - loss: 18353.6582 - mean_absolute_error: 73.8637 - root_mean_squared_error: 135.4757Output shape: TensorShape([None, 8, 50, 50, 256])\n"
     ]
    },
    {
     "name": "stderr",
     "output_type": "stream",
     "text": [
      "INFO:root:load_day (2010-07-05, NYC_Heat_Test/NYC_summer_2010_99p)\n",
      "INFO:root:load_day (2010-07-24, NYC_Heat_Test/NYC_summer_2010_99p)\n"
     ]
    },
    {
     "name": "stdout",
     "output_type": "stream",
     "text": [
      "      7/Unknown - 39s 4s/step - loss: 18365.5527 - mean_absolute_error: 73.6334 - root_mean_squared_error: 135.5196Output shape: TensorShape([None, 8, 50, 50, 256])\n"
     ]
    },
    {
     "name": "stderr",
     "output_type": "stream",
     "text": [
      "INFO:root:load_day (2000-08-16, NYC_Heat_Test/NYC_summer_2000_01p)\n",
      "WARNING:root:incomplete data!: 2000-08-16 NYC_Heat_Test/NYC_summer_2000_01p #4\n",
      "INFO:root:load_day (2000-08-19, NYC_Heat_Test/NYC_summer_2000_01p)\n",
      "WARNING:root:incomplete data!: 2000-08-19 NYC_Heat_Test/NYC_summer_2000_01p #5\n",
      "INFO:root:load_day (2000-08-22, NYC_Heat_Test/NYC_summer_2000_01p)\n",
      "WARNING:root:incomplete data!: 2000-08-22 NYC_Heat_Test/NYC_summer_2000_01p #6\n",
      "INFO:root:load_day (2010-08-31, NYC_Heat_Test/NYC_summer_2010_99p)\n",
      "INFO:root:load_day (2010-06-30, NYC_Heat_Test/NYC_summer_2010_99p)\n"
     ]
    },
    {
     "name": "stdout",
     "output_type": "stream",
     "text": [
      "      8/Unknown - 47s 5s/step - loss: 18436.6953 - mean_absolute_error: 73.7338 - root_mean_squared_error: 135.7818Output shape: TensorShape([None, 8, 50, 50, 256])\n"
     ]
    },
    {
     "name": "stderr",
     "output_type": "stream",
     "text": [
      "INFO:root:load_day (2010-06-06, NYC_Heat_Test/NYC_summer_2010_99p)\n",
      "INFO:root:load_day (2000-08-28, NYC_Heat_Test/NYC_summer_2000_01p)\n"
     ]
    },
    {
     "name": "stdout",
     "output_type": "stream",
     "text": [
      "      9/Unknown - 51s 4s/step - loss: 18413.8301 - mean_absolute_error: 73.6682 - root_mean_squared_error: 135.6976Output shape: TensorShape([None, 8, 50, 50, 256])\n"
     ]
    },
    {
     "name": "stderr",
     "output_type": "stream",
     "text": [
      "WARNING:root:incomplete data!: 2000-08-28 NYC_Heat_Test/NYC_summer_2000_01p #7\n",
      "INFO:root:load_day (2000-08-09, NYC_Heat_Test/NYC_summer_2000_01p)\n",
      "WARNING:root:incomplete data!: 2000-08-09 NYC_Heat_Test/NYC_summer_2000_01p #8\n",
      "INFO:root:load_day (2010-07-21, NYC_Heat_Test/NYC_summer_2010_99p)\n",
      "INFO:root:load_day (2000-07-17, NYC_Heat_Test/NYC_summer_2000_01p)\n",
      "WARNING:root:incomplete data!: 2000-07-17 NYC_Heat_Test/NYC_summer_2000_01p #9\n",
      "INFO:root:load_day (2010-07-09, NYC_Heat_Test/NYC_summer_2010_99p)\n",
      "INFO:root:load_day (2010-08-22, NYC_Heat_Test/NYC_summer_2010_99p)\n"
     ]
    },
    {
     "name": "stdout",
     "output_type": "stream",
     "text": [
      "     10/Unknown - 59s 5s/step - loss: 18460.5703 - mean_absolute_error: 73.9636 - root_mean_squared_error: 135.8697Output shape: TensorShape([None, 8, 50, 50, 256])\n"
     ]
    },
    {
     "name": "stderr",
     "output_type": "stream",
     "text": [
      "INFO:root:load_day (2000-08-18, NYC_Heat_Test/NYC_summer_2000_01p)\n",
      "WARNING:root:incomplete data!: 2000-08-18 NYC_Heat_Test/NYC_summer_2000_01p #10\n",
      "INFO:root:load_day (2000-07-28, NYC_Heat_Test/NYC_summer_2000_01p)\n",
      "WARNING:root:incomplete data!: 2000-07-28 NYC_Heat_Test/NYC_summer_2000_01p #11\n",
      "INFO:root:load_day (2010-08-05, NYC_Heat_Test/NYC_summer_2010_99p)\n",
      "INFO:root:load_day (2010-06-07, NYC_Heat_Test/NYC_summer_2010_99p)\n"
     ]
    },
    {
     "name": "stdout",
     "output_type": "stream",
     "text": [
      "     11/Unknown - 66s 5s/step - loss: 18496.8027 - mean_absolute_error: 74.1353 - root_mean_squared_error: 136.0029Output shape: TensorShape([None, 8, 50, 50, 256])\n"
     ]
    },
    {
     "name": "stderr",
     "output_type": "stream",
     "text": [
      "INFO:root:load_day (2000-07-16, NYC_Heat_Test/NYC_summer_2000_01p)\n",
      "INFO:root:load_day (2010-06-23, NYC_Heat_Test/NYC_summer_2010_99p)\n"
     ]
    },
    {
     "name": "stdout",
     "output_type": "stream",
     "text": [
      "     12/Unknown - 70s 5s/step - loss: 18457.0332 - mean_absolute_error: 74.1640 - root_mean_squared_error: 135.8567Output shape: TensorShape([None, 8, 50, 50, 256])\n"
     ]
    },
    {
     "name": "stderr",
     "output_type": "stream",
     "text": [
      "INFO:root:load_day (2000-07-22, NYC_Heat_Test/NYC_summer_2000_01p)\n",
      "WARNING:root:incomplete data!: 2000-07-22 NYC_Heat_Test/NYC_summer_2000_01p #12\n",
      "INFO:root:load_day (2000-07-23, NYC_Heat_Test/NYC_summer_2000_01p)\n",
      "INFO:root:load_day (2010-07-17, NYC_Heat_Test/NYC_summer_2010_99p)\n"
     ]
    },
    {
     "name": "stdout",
     "output_type": "stream",
     "text": [
      "     13/Unknown - 75s 5s/step - loss: 18431.2773 - mean_absolute_error: 74.0827 - root_mean_squared_error: 135.7618Output shape: TensorShape([None, 8, 50, 50, 256])\n"
     ]
    },
    {
     "name": "stderr",
     "output_type": "stream",
     "text": [
      "INFO:root:load_day (2000-08-24, NYC_Heat_Test/NYC_summer_2000_01p)\n",
      "WARNING:root:incomplete data!: 2000-08-24 NYC_Heat_Test/NYC_summer_2000_01p #13\n",
      "INFO:root:load_day (2010-08-19, NYC_Heat_Test/NYC_summer_2010_99p)\n",
      "INFO:root:load_day (2000-06-12, NYC_Heat_Test/NYC_summer_2000_01p)\n"
     ]
    },
    {
     "name": "stdout",
     "output_type": "stream",
     "text": [
      "     14/Unknown - 81s 5s/step - loss: 18441.9121 - mean_absolute_error: 74.0954 - root_mean_squared_error: 135.8010Output shape: TensorShape([None, 8, 50, 50, 256])\n",
      "     15/Unknown - 84s 5s/step - loss: 18424.3574 - mean_absolute_error: 74.0701 - root_mean_squared_error: 135.7364Output shape: TensorShape([None, 8, 50, 50, 256])\n",
      "Split shape: (None, 50, 50, 5, 2, 256)\n",
      "Separated shape (pre-slice): (None, 50, 50, 10, 256)\n",
      "Reduced shape after removing outermost time steps: (None, 50, 50, 8, 256)\n",
      "Output shape: TensorShape([None, 8, 50, 50, 256])\n"
     ]
    },
    {
     "name": "stderr",
     "output_type": "stream",
     "text": [
      "INFO:root:load_day (2010-07-12, NYC_Heat_Test/NYC_summer_2010_99p)\n",
      "INFO:root:load_day (2010-07-28, NYC_Heat_Test/NYC_summer_2010_99p)\n",
      "INFO:root:load_day (2010-08-09, NYC_Heat_Test/NYC_summer_2010_99p)\n"
     ]
    },
    {
     "name": "stdout",
     "output_type": "stream",
     "text": [
      "Output shape: TensorShape([None, 8, 50, 50, 256])\n"
     ]
    },
    {
     "name": "stderr",
     "output_type": "stream",
     "text": [
      "INFO:root:load_day (2010-07-30, NYC_Heat_Test/NYC_summer_2010_99p)\n",
      "INFO:root:load_day (2010-06-01, NYC_Heat_Test/NYC_summer_2010_99p)\n"
     ]
    },
    {
     "name": "stdout",
     "output_type": "stream",
     "text": [
      "Output shape: TensorShape([None, 8, 50, 50, 256])\n"
     ]
    },
    {
     "name": "stderr",
     "output_type": "stream",
     "text": [
      "INFO:root:load_day (2010-08-15, NYC_Heat_Test/NYC_summer_2010_99p)\n"
     ]
    },
    {
     "name": "stdout",
     "output_type": "stream",
     "text": [
      "Output shape: TensorShape([None, 8, 50, 50, 256])\n"
     ]
    },
    {
     "name": "stderr",
     "output_type": "stream",
     "text": [
      "INFO:root:load_day (2000-06-05, NYC_Heat_Test/NYC_summer_2000_01p)\n",
      "INFO:root:load_day (2000-06-29, NYC_Heat_Test/NYC_summer_2000_01p)\n",
      "WARNING:root:incomplete data!: 2000-06-29 NYC_Heat_Test/NYC_summer_2000_01p #1\n",
      "INFO:root:load_day (2010-07-03, NYC_Heat_Test/NYC_summer_2010_99p)\n",
      "INFO:root:load_day (2010-07-14, NYC_Heat_Test/NYC_summer_2010_99p)\n"
     ]
    },
    {
     "name": "stdout",
     "output_type": "stream",
     "text": [
      "Output shape: TensorShape([None, 8, 50, 50, 256])\n"
     ]
    },
    {
     "name": "stderr",
     "output_type": "stream",
     "text": [
      "INFO:root:load_day (2010-06-29, NYC_Heat_Test/NYC_summer_2010_99p)\n",
      "INFO:root:load_day (2010-05-28, NYC_Heat_Test/NYC_summer_2010_99p)\n"
     ]
    },
    {
     "name": "stdout",
     "output_type": "stream",
     "text": [
      "Output shape: TensorShape([None, 8, 50, 50, 256])\n"
     ]
    },
    {
     "name": "stderr",
     "output_type": "stream",
     "text": [
      "INFO:root:load_day (2010-05-30, NYC_Heat_Test/NYC_summer_2010_99p)\n",
      "INFO:root:load_day (2000-06-06, NYC_Heat_Test/NYC_summer_2000_01p)\n"
     ]
    },
    {
     "name": "stdout",
     "output_type": "stream",
     "text": [
      "Output shape: TensorShape([None, 8, 50, 50, 256])\n"
     ]
    },
    {
     "name": "stderr",
     "output_type": "stream",
     "text": [
      "INFO:root:load_day (2000-07-05, NYC_Heat_Test/NYC_summer_2000_01p)\n",
      "WARNING:root:incomplete data!: 2000-07-05 NYC_Heat_Test/NYC_summer_2000_01p #2\n",
      "INFO:root:load_day (2000-08-30, NYC_Heat_Test/NYC_summer_2000_01p)\n",
      "WARNING:root:incomplete data!: 2000-08-30 NYC_Heat_Test/NYC_summer_2000_01p #3\n",
      "INFO:root:load_day (2000-08-23, NYC_Heat_Test/NYC_summer_2000_01p)\n",
      "WARNING:root:incomplete data!: 2000-08-23 NYC_Heat_Test/NYC_summer_2000_01p #4\n",
      "INFO:root:load_day (2000-08-06, NYC_Heat_Test/NYC_summer_2000_01p)\n",
      "WARNING:root:incomplete data!: 2000-08-06 NYC_Heat_Test/NYC_summer_2000_01p #5\n",
      "INFO:root:load_day (2010-07-11, NYC_Heat_Test/NYC_summer_2010_99p)\n",
      "INFO:root:load_day (2000-07-09, NYC_Heat_Test/NYC_summer_2000_01p)\n"
     ]
    },
    {
     "name": "stdout",
     "output_type": "stream",
     "text": [
      "Output shape: TensorShape([None, 8, 50, 50, 256])\n"
     ]
    },
    {
     "name": "stderr",
     "output_type": "stream",
     "text": [
      "WARNING:root:incomplete data!: 2000-07-09 NYC_Heat_Test/NYC_summer_2000_01p #6\n",
      "INFO:root:load_day (2000-08-12, NYC_Heat_Test/NYC_summer_2000_01p)\n",
      "WARNING:root:incomplete data!: 2000-08-12 NYC_Heat_Test/NYC_summer_2000_01p #7\n",
      "INFO:root:load_day (2010-06-27, NYC_Heat_Test/NYC_summer_2010_99p)\n",
      "INFO:root:load_day (2010-08-11, NYC_Heat_Test/NYC_summer_2010_99p)\n",
      "INFO:root:load_day (2010-06-03, NYC_Heat_Test/NYC_summer_2010_99p)\n"
     ]
    },
    {
     "name": "stdout",
     "output_type": "stream",
     "text": [
      "Output shape: TensorShape([None, 8, 50, 50, 256])\n"
     ]
    },
    {
     "name": "stderr",
     "output_type": "stream",
     "text": [
      "INFO:root:load_day (2000-05-26, NYC_Heat_Test/NYC_summer_2000_01p)\n",
      "INFO:root:load_day (2010-07-04, NYC_Heat_Test/NYC_summer_2010_99p)\n"
     ]
    },
    {
     "name": "stdout",
     "output_type": "stream",
     "text": [
      "Output shape: TensorShape([None, 8, 50, 50, 256])\n"
     ]
    },
    {
     "name": "stderr",
     "output_type": "stream",
     "text": [
      "INFO:root:load_day (2010-08-23, NYC_Heat_Test/NYC_summer_2010_99p)\n",
      "INFO:root:load_day (2010-07-31, NYC_Heat_Test/NYC_summer_2010_99p)\n"
     ]
    },
    {
     "name": "stdout",
     "output_type": "stream",
     "text": [
      "Output shape: TensorShape([None, 8, 50, 50, 256])\n"
     ]
    },
    {
     "name": "stderr",
     "output_type": "stream",
     "text": [
      "INFO:root:load_day (2010-07-10, NYC_Heat_Test/NYC_summer_2010_99p)\n",
      "INFO:root:load_day (2000-08-29, NYC_Heat_Test/NYC_summer_2000_01p)\n"
     ]
    },
    {
     "name": "stdout",
     "output_type": "stream",
     "text": [
      "Output shape: TensorShape([None, 8, 50, 50, 256])\n"
     ]
    },
    {
     "name": "stderr",
     "output_type": "stream",
     "text": [
      "WARNING:root:incomplete data!: 2000-08-29 NYC_Heat_Test/NYC_summer_2000_01p #8\n",
      "INFO:root:load_day (2010-06-22, NYC_Heat_Test/NYC_summer_2010_99p)\n",
      "INFO:root:load_day (2010-08-12, NYC_Heat_Test/NYC_summer_2010_99p)\n",
      "INFO:root:load_day (2010-07-01, NYC_Heat_Test/NYC_summer_2010_99p)\n"
     ]
    },
    {
     "name": "stdout",
     "output_type": "stream",
     "text": [
      "Output shape: TensorShape([None, 8, 50, 50, 256])\n"
     ]
    },
    {
     "name": "stderr",
     "output_type": "stream",
     "text": [
      "INFO:root:load_day (2000-08-03, NYC_Heat_Test/NYC_summer_2000_01p)\n",
      "INFO:root:load_day (2000-06-11, NYC_Heat_Test/NYC_summer_2000_01p)\n"
     ]
    },
    {
     "name": "stdout",
     "output_type": "stream",
     "text": [
      "Output shape: TensorShape([None, 8, 50, 50, 256])\n"
     ]
    },
    {
     "name": "stderr",
     "output_type": "stream",
     "text": [
      "INFO:root:load_day (2010-06-12, NYC_Heat_Test/NYC_summer_2010_99p)\n",
      "INFO:root:load_day (2000-06-10, NYC_Heat_Test/NYC_summer_2000_01p)\n"
     ]
    },
    {
     "name": "stdout",
     "output_type": "stream",
     "text": [
      "Output shape: TensorShape([None, 8, 50, 50, 256])\n"
     ]
    },
    {
     "name": "stderr",
     "output_type": "stream",
     "text": [
      "INFO:root:load_day (2000-06-14, NYC_Heat_Test/NYC_summer_2000_01p)\n",
      "INFO:root:load_day (2010-06-25, NYC_Heat_Test/NYC_summer_2010_99p)\n"
     ]
    },
    {
     "name": "stdout",
     "output_type": "stream",
     "text": [
      "Output shape: TensorShape([None, 8, 50, 50, 256])\n"
     ]
    },
    {
     "name": "stderr",
     "output_type": "stream",
     "text": [
      "INFO:root:load_day (2000-08-05, NYC_Heat_Test/NYC_summer_2000_01p)\n",
      "WARNING:root:incomplete data!: 2000-08-05 NYC_Heat_Test/NYC_summer_2000_01p #9\n",
      "INFO:root:load_day (2000-07-06, NYC_Heat_Test/NYC_summer_2000_01p)\n",
      "WARNING:root:incomplete data!: 2000-07-06 NYC_Heat_Test/NYC_summer_2000_01p #10\n",
      "INFO:root:load_day (2010-06-11, NYC_Heat_Test/NYC_summer_2010_99p)\n",
      "INFO:root:load_day (2010-06-17, NYC_Heat_Test/NYC_summer_2010_99p)\n"
     ]
    },
    {
     "name": "stdout",
     "output_type": "stream",
     "text": [
      "Output shape: TensorShape([None, 8, 50, 50, 256])\n"
     ]
    },
    {
     "name": "stderr",
     "output_type": "stream",
     "text": [
      "INFO:root:load_day (2000-07-08, NYC_Heat_Test/NYC_summer_2000_01p)\n",
      "INFO:root:load_day (2010-08-14, NYC_Heat_Test/NYC_summer_2010_99p)\n"
     ]
    },
    {
     "name": "stdout",
     "output_type": "stream",
     "text": [
      "Output shape: TensorShape([None, 8, 50, 50, 256])\n"
     ]
    },
    {
     "name": "stderr",
     "output_type": "stream",
     "text": [
      "INFO:root:load_day (2000-06-13, NYC_Heat_Test/NYC_summer_2000_01p)\n",
      "WARNING:root:incomplete data!: 2000-06-13 NYC_Heat_Test/NYC_summer_2000_01p #11\n",
      "INFO:root:load_day (2000-06-23, NYC_Heat_Test/NYC_summer_2000_01p)\n",
      "INFO:root:load_day (2010-08-25, NYC_Heat_Test/NYC_summer_2010_99p)\n"
     ]
    },
    {
     "name": "stdout",
     "output_type": "stream",
     "text": [
      "Output shape: TensorShape([None, 8, 50, 50, 256])\n"
     ]
    },
    {
     "name": "stderr",
     "output_type": "stream",
     "text": [
      "INFO:root:load_day (2010-06-14, NYC_Heat_Test/NYC_summer_2010_99p)\n",
      "INFO:root:load_day (2010-06-20, NYC_Heat_Test/NYC_summer_2010_99p)\n"
     ]
    },
    {
     "name": "stdout",
     "output_type": "stream",
     "text": [
      "Output shape: TensorShape([None, 8, 50, 50, 256])\n"
     ]
    },
    {
     "name": "stderr",
     "output_type": "stream",
     "text": [
      "INFO:root:load_day (2000-08-17, NYC_Heat_Test/NYC_summer_2000_01p)\n",
      "WARNING:root:incomplete data!: 2000-08-17 NYC_Heat_Test/NYC_summer_2000_01p #12\n",
      "INFO:root:load_day (2000-06-04, NYC_Heat_Test/NYC_summer_2000_01p)\n",
      "INFO:root:load_day (2000-07-25, NYC_Heat_Test/NYC_summer_2000_01p)\n"
     ]
    },
    {
     "name": "stdout",
     "output_type": "stream",
     "text": [
      "Output shape: TensorShape([None, 8, 50, 50, 256])\n"
     ]
    },
    {
     "name": "stderr",
     "output_type": "stream",
     "text": [
      "INFO:root:load_day (2000-08-26, NYC_Heat_Test/NYC_summer_2000_01p)\n",
      "WARNING:root:incomplete data!: 2000-08-26 NYC_Heat_Test/NYC_summer_2000_01p #13\n",
      "INFO:root:load_day (2010-08-20, NYC_Heat_Test/NYC_summer_2010_99p)\n",
      "INFO:root:load_day (2000-07-30, NYC_Heat_Test/NYC_summer_2000_01p)\n"
     ]
    },
    {
     "name": "stdout",
     "output_type": "stream",
     "text": [
      "Output shape: TensorShape([None, 8, 50, 50, 256])\n"
     ]
    },
    {
     "name": "stderr",
     "output_type": "stream",
     "text": [
      "WARNING:root:incomplete data!: 2000-07-30 NYC_Heat_Test/NYC_summer_2000_01p #14\n",
      "INFO:root:load_day (2000-05-29, NYC_Heat_Test/NYC_summer_2000_01p)\n",
      "INFO:root:load_day (2010-07-23, NYC_Heat_Test/NYC_summer_2010_99p)\n",
      "INFO:root:load_day (2000-08-10, NYC_Heat_Test/NYC_summer_2000_01p)\n"
     ]
    },
    {
     "name": "stdout",
     "output_type": "stream",
     "text": [
      "Output shape: TensorShape([None, 8, 50, 50, 256])\n"
     ]
    },
    {
     "name": "stderr",
     "output_type": "stream",
     "text": [
      "WARNING:root:incomplete data!: 2000-08-10 NYC_Heat_Test/NYC_summer_2000_01p #15\n",
      "INFO:root:load_day (2000-07-26, NYC_Heat_Test/NYC_summer_2000_01p)\n",
      "WARNING:root:incomplete data!: 2000-07-26 NYC_Heat_Test/NYC_summer_2000_01p #16\n",
      "INFO:root:load_day (2010-08-10, NYC_Heat_Test/NYC_summer_2010_99p)\n",
      "INFO:root:load_day (2010-07-16, NYC_Heat_Test/NYC_summer_2010_99p)\n",
      "INFO:root:load_day (2000-05-31, NYC_Heat_Test/NYC_summer_2000_01p)\n"
     ]
    },
    {
     "name": "stdout",
     "output_type": "stream",
     "text": [
      "Output shape: TensorShape([None, 8, 50, 50, 256])\n"
     ]
    },
    {
     "name": "stderr",
     "output_type": "stream",
     "text": [
      "INFO:root:load_day (2010-08-27, NYC_Heat_Test/NYC_summer_2010_99p)\n",
      "INFO:root:load_day (2010-07-20, NYC_Heat_Test/NYC_summer_2010_99p)\n"
     ]
    },
    {
     "name": "stdout",
     "output_type": "stream",
     "text": [
      "Output shape: TensorShape([None, 8, 50, 50, 256])\n"
     ]
    },
    {
     "name": "stderr",
     "output_type": "stream",
     "text": [
      "INFO:root:load_day (2000-07-01, NYC_Heat_Test/NYC_summer_2000_01p)\n",
      "WARNING:root:incomplete data!: 2000-07-01 NYC_Heat_Test/NYC_summer_2000_01p #17\n",
      "INFO:root:load_day (2000-06-07, NYC_Heat_Test/NYC_summer_2000_01p)\n",
      "INFO:root:load_day (2010-08-30, NYC_Heat_Test/NYC_summer_2010_99p)\n"
     ]
    },
    {
     "name": "stdout",
     "output_type": "stream",
     "text": [
      "Output shape: TensorShape([None, 8, 50, 50, 256])\n"
     ]
    },
    {
     "name": "stderr",
     "output_type": "stream",
     "text": [
      "INFO:root:load_day (2010-06-16, NYC_Heat_Test/NYC_summer_2010_99p)\n",
      "INFO:root:load_day (2010-07-22, NYC_Heat_Test/NYC_summer_2010_99p)\n"
     ]
    },
    {
     "name": "stdout",
     "output_type": "stream",
     "text": [
      "Output shape: TensorShape([None, 8, 50, 50, 256])\n"
     ]
    },
    {
     "name": "stderr",
     "output_type": "stream",
     "text": [
      "INFO:root:load_day (2010-06-02, NYC_Heat_Test/NYC_summer_2010_99p)\n",
      "INFO:root:load_day (2010-06-24, NYC_Heat_Test/NYC_summer_2010_99p)\n"
     ]
    },
    {
     "name": "stdout",
     "output_type": "stream",
     "text": [
      "Output shape: TensorShape([None, 8, 50, 50, 256])\n"
     ]
    },
    {
     "name": "stderr",
     "output_type": "stream",
     "text": [
      "INFO:root:load_day (2010-07-07, NYC_Heat_Test/NYC_summer_2010_99p)\n",
      "INFO:root:load_day (2000-06-09, NYC_Heat_Test/NYC_summer_2000_01p)\n"
     ]
    },
    {
     "name": "stdout",
     "output_type": "stream",
     "text": [
      "Output shape: TensorShape([None, 8, 50, 50, 256])\n"
     ]
    },
    {
     "name": "stderr",
     "output_type": "stream",
     "text": [
      "INFO:root:load_day (2010-07-15, NYC_Heat_Test/NYC_summer_2010_99p)\n",
      "INFO:root:load_day (2010-08-24, NYC_Heat_Test/NYC_summer_2010_99p)\n"
     ]
    },
    {
     "name": "stdout",
     "output_type": "stream",
     "text": [
      "Output shape: TensorShape([None, 8, 50, 50, 256])\n"
     ]
    },
    {
     "name": "stderr",
     "output_type": "stream",
     "text": [
      "INFO:root:load_day (2010-08-03, NYC_Heat_Test/NYC_summer_2010_99p)\n",
      "INFO:root:load_day (2010-08-16, NYC_Heat_Test/NYC_summer_2010_99p)\n"
     ]
    },
    {
     "name": "stdout",
     "output_type": "stream",
     "text": [
      "Output shape: TensorShape([None, 8, 50, 50, 256])\n"
     ]
    },
    {
     "name": "stderr",
     "output_type": "stream",
     "text": [
      "INFO:root:load_day (2010-08-13, NYC_Heat_Test/NYC_summer_2010_99p)\n",
      "INFO:root:load_day (2010-08-26, NYC_Heat_Test/NYC_summer_2010_99p)\n"
     ]
    },
    {
     "name": "stdout",
     "output_type": "stream",
     "text": [
      "Output shape: TensorShape([None, 8, 50, 50, 256])\n"
     ]
    },
    {
     "name": "stderr",
     "output_type": "stream",
     "text": [
      "INFO:root:load_day (2000-07-18, NYC_Heat_Test/NYC_summer_2000_01p)\n",
      "WARNING:root:incomplete data!: 2000-07-18 NYC_Heat_Test/NYC_summer_2000_01p #18\n",
      "INFO:root:load_day (2000-08-20, NYC_Heat_Test/NYC_summer_2000_01p)\n",
      "WARNING:root:incomplete data!: 2000-08-20 NYC_Heat_Test/NYC_summer_2000_01p #19\n",
      "INFO:root:load_day (2010-08-08, NYC_Heat_Test/NYC_summer_2010_99p)\n",
      "INFO:root:load_day (2000-06-02, NYC_Heat_Test/NYC_summer_2000_01p)\n"
     ]
    },
    {
     "name": "stdout",
     "output_type": "stream",
     "text": [
      "Output shape: TensorShape([None, 8, 50, 50, 256])\n"
     ]
    },
    {
     "name": "stderr",
     "output_type": "stream",
     "text": [
      "INFO:root:load_day (2010-05-27, NYC_Heat_Test/NYC_summer_2010_99p)\n",
      "INFO:root:load_day (2000-07-31, NYC_Heat_Test/NYC_summer_2000_01p)\n"
     ]
    },
    {
     "name": "stdout",
     "output_type": "stream",
     "text": [
      "Output shape: TensorShape([None, 8, 50, 50, 256])\n"
     ]
    },
    {
     "name": "stderr",
     "output_type": "stream",
     "text": [
      "INFO:root:load_day (2010-06-19, NYC_Heat_Test/NYC_summer_2010_99p)\n",
      "INFO:root:load_day (2000-05-28, NYC_Heat_Test/NYC_summer_2000_01p)\n"
     ]
    },
    {
     "name": "stdout",
     "output_type": "stream",
     "text": [
      "Output shape: TensorShape([None, 8, 50, 50, 256])\n"
     ]
    },
    {
     "name": "stderr",
     "output_type": "stream",
     "text": [
      "INFO:root:load_day (2000-08-13, NYC_Heat_Test/NYC_summer_2000_01p)\n",
      "WARNING:root:incomplete data!: 2000-08-13 NYC_Heat_Test/NYC_summer_2000_01p #20\n",
      "INFO:root:load_day (2000-07-04, NYC_Heat_Test/NYC_summer_2000_01p)\n",
      "WARNING:root:incomplete data!: 2000-07-04 NYC_Heat_Test/NYC_summer_2000_01p #21\n",
      "INFO:root:load_day (2000-08-04, NYC_Heat_Test/NYC_summer_2000_01p)\n",
      "WARNING:root:incomplete data!: 2000-08-04 NYC_Heat_Test/NYC_summer_2000_01p #22\n",
      "INFO:root:load_day (2010-08-06, NYC_Heat_Test/NYC_summer_2010_99p)\n",
      "INFO:root:load_day (2000-06-25, NYC_Heat_Test/NYC_summer_2000_01p)\n"
     ]
    },
    {
     "name": "stdout",
     "output_type": "stream",
     "text": [
      "Output shape: TensorShape([None, 8, 50, 50, 256])\n"
     ]
    },
    {
     "name": "stderr",
     "output_type": "stream",
     "text": [
      "WARNING:root:incomplete data!: 2000-06-25 NYC_Heat_Test/NYC_summer_2000_01p #23\n",
      "INFO:root:load_day (2010-08-28, NYC_Heat_Test/NYC_summer_2010_99p)\n",
      "INFO:root:load_day (2010-06-13, NYC_Heat_Test/NYC_summer_2010_99p)\n",
      "INFO:root:load_day (2010-05-24, NYC_Heat_Test/NYC_summer_2010_99p)\n"
     ]
    },
    {
     "name": "stdout",
     "output_type": "stream",
     "text": [
      "Output shape: TensorShape([None, 8, 50, 50, 256])\n"
     ]
    },
    {
     "name": "stderr",
     "output_type": "stream",
     "text": [
      "INFO:root:load_day (2010-06-05, NYC_Heat_Test/NYC_summer_2010_99p)\n",
      "INFO:root:load_day (2000-07-15, NYC_Heat_Test/NYC_summer_2000_01p)\n"
     ]
    },
    {
     "name": "stdout",
     "output_type": "stream",
     "text": [
      "Output shape: TensorShape([None, 8, 50, 50, 256])\n"
     ]
    },
    {
     "name": "stderr",
     "output_type": "stream",
     "text": [
      "WARNING:root:incomplete data!: 2000-07-15 NYC_Heat_Test/NYC_summer_2000_01p #24\n",
      "INFO:root:load_day (2010-07-19, NYC_Heat_Test/NYC_summer_2010_99p)\n",
      "WARNING:root:incomplete data!: 2010-07-19 NYC_Heat_Test/NYC_summer_2010_99p #25\n",
      "INFO:root:load_day (2000-06-16, NYC_Heat_Test/NYC_summer_2000_01p)\n",
      "INFO:root:load_day (2000-08-11, NYC_Heat_Test/NYC_summer_2000_01p)\n",
      "WARNING:root:incomplete data!: 2000-08-11 NYC_Heat_Test/NYC_summer_2000_01p #26\n",
      "INFO:root:load_day (2000-07-03, NYC_Heat_Test/NYC_summer_2000_01p)\n",
      "WARNING:root:incomplete data!: 2000-07-03 NYC_Heat_Test/NYC_summer_2000_01p #27\n",
      "INFO:root:load_day (2010-07-13, NYC_Heat_Test/NYC_summer_2010_99p)\n",
      "INFO:root:load_day (2000-06-24, NYC_Heat_Test/NYC_summer_2000_01p)\n"
     ]
    },
    {
     "name": "stdout",
     "output_type": "stream",
     "text": [
      "Output shape: TensorShape([None, 8, 50, 50, 256])\n"
     ]
    },
    {
     "name": "stderr",
     "output_type": "stream",
     "text": [
      "WARNING:root:incomplete data!: 2000-06-24 NYC_Heat_Test/NYC_summer_2000_01p #28\n",
      "INFO:root:load_day (2000-06-03, NYC_Heat_Test/NYC_summer_2000_01p)\n",
      "INFO:root:load_day (2000-08-07, NYC_Heat_Test/NYC_summer_2000_01p)\n",
      "WARNING:root:incomplete data!: 2000-08-07 NYC_Heat_Test/NYC_summer_2000_01p #29\n",
      "INFO:root:load_day (2010-08-18, NYC_Heat_Test/NYC_summer_2010_99p)\n",
      "INFO:root:load_day (2000-08-21, NYC_Heat_Test/NYC_summer_2000_01p)\n"
     ]
    },
    {
     "name": "stdout",
     "output_type": "stream",
     "text": [
      "Output shape: TensorShape([None, 8, 50, 50, 256])\n"
     ]
    },
    {
     "name": "stderr",
     "output_type": "stream",
     "text": [
      "WARNING:root:incomplete data!: 2000-08-21 NYC_Heat_Test/NYC_summer_2000_01p #30\n",
      "INFO:root:load_day (2000-07-14, NYC_Heat_Test/NYC_summer_2000_01p)\n",
      "INFO:root:load_day (2010-07-02, NYC_Heat_Test/NYC_summer_2010_99p)\n",
      "INFO:root:load_day (2000-07-13, NYC_Heat_Test/NYC_summer_2000_01p)\n"
     ]
    },
    {
     "name": "stdout",
     "output_type": "stream",
     "text": [
      "Output shape: TensorShape([None, 8, 50, 50, 256])\n"
     ]
    },
    {
     "name": "stderr",
     "output_type": "stream",
     "text": [
      "WARNING:root:incomplete data!: 2000-07-13 NYC_Heat_Test/NYC_summer_2000_01p #31\n",
      "INFO:root:load_day (2000-06-18, NYC_Heat_Test/NYC_summer_2000_01p)\n",
      "WARNING:root:incomplete data!: 2000-06-18 NYC_Heat_Test/NYC_summer_2000_01p #32\n",
      "INFO:root:load_day (2010-06-21, NYC_Heat_Test/NYC_summer_2010_99p)\n",
      "INFO:root:load_day (2010-07-08, NYC_Heat_Test/NYC_summer_2010_99p)\n",
      "INFO:root:load_day (2000-06-22, NYC_Heat_Test/NYC_summer_2000_01p)\n"
     ]
    },
    {
     "name": "stdout",
     "output_type": "stream",
     "text": [
      "Output shape: TensorShape([None, 8, 50, 50, 256])\n"
     ]
    },
    {
     "name": "stderr",
     "output_type": "stream",
     "text": [
      "INFO:root:load_day (2010-08-17, NYC_Heat_Test/NYC_summer_2010_99p)\n",
      "INFO:root:load_day (2000-07-27, NYC_Heat_Test/NYC_summer_2000_01p)\n"
     ]
    },
    {
     "name": "stdout",
     "output_type": "stream",
     "text": [
      "Output shape: TensorShape([None, 8, 50, 50, 256])\n"
     ]
    },
    {
     "name": "stderr",
     "output_type": "stream",
     "text": [
      "WARNING:root:incomplete data!: 2000-07-27 NYC_Heat_Test/NYC_summer_2000_01p #33\n",
      "INFO:root:load_day (2000-06-27, NYC_Heat_Test/NYC_summer_2000_01p)\n",
      "INFO:root:load_day (2010-06-04, NYC_Heat_Test/NYC_summer_2010_99p)\n",
      "INFO:root:load_day (2000-05-30, NYC_Heat_Test/NYC_summer_2000_01p)\n"
     ]
    },
    {
     "name": "stdout",
     "output_type": "stream",
     "text": [
      "Output shape: TensorShape([None, 8, 50, 50, 256])\n"
     ]
    },
    {
     "name": "stderr",
     "output_type": "stream",
     "text": [
      "INFO:root:load_day (2000-06-17, NYC_Heat_Test/NYC_summer_2000_01p)\n",
      "INFO:root:load_day (2010-06-10, NYC_Heat_Test/NYC_summer_2010_99p)\n"
     ]
    },
    {
     "name": "stdout",
     "output_type": "stream",
     "text": [
      "Output shape: TensorShape([None, 8, 50, 50, 256])\n"
     ]
    },
    {
     "name": "stderr",
     "output_type": "stream",
     "text": [
      "INFO:root:load_day (2000-07-02, NYC_Heat_Test/NYC_summer_2000_01p)\n",
      "INFO:root:load_day (2010-06-15, NYC_Heat_Test/NYC_summer_2010_99p)\n"
     ]
    },
    {
     "name": "stdout",
     "output_type": "stream",
     "text": [
      "Output shape: TensorShape([None, 8, 50, 50, 256])\n"
     ]
    },
    {
     "name": "stderr",
     "output_type": "stream",
     "text": [
      "INFO:root:load_day (2000-06-30, NYC_Heat_Test/NYC_summer_2000_01p)\n",
      "WARNING:root:incomplete data!: 2000-06-30 NYC_Heat_Test/NYC_summer_2000_01p #34\n",
      "INFO:root:load_day (2000-07-20, NYC_Heat_Test/NYC_summer_2000_01p)\n",
      "INFO:root:load_day (2000-06-20, NYC_Heat_Test/NYC_summer_2000_01p)\n"
     ]
    },
    {
     "name": "stdout",
     "output_type": "stream",
     "text": [
      "Output shape: TensorShape([None, 8, 50, 50, 256])\n"
     ]
    },
    {
     "name": "stderr",
     "output_type": "stream",
     "text": [
      "INFO:root:load_day (2000-08-25, NYC_Heat_Test/NYC_summer_2000_01p)\n",
      "WARNING:root:incomplete data!: 2000-08-25 NYC_Heat_Test/NYC_summer_2000_01p #35\n",
      "INFO:root:load_day (2010-07-29, NYC_Heat_Test/NYC_summer_2010_99p)\n",
      "INFO:root:load_day (2000-06-26, NYC_Heat_Test/NYC_summer_2000_01p)\n"
     ]
    },
    {
     "name": "stdout",
     "output_type": "stream",
     "text": [
      "Output shape: TensorShape([None, 8, 50, 50, 256])\n"
     ]
    },
    {
     "name": "stderr",
     "output_type": "stream",
     "text": [
      "WARNING:root:incomplete data!: 2000-06-26 NYC_Heat_Test/NYC_summer_2000_01p #36\n",
      "INFO:root:load_day (2000-06-19, NYC_Heat_Test/NYC_summer_2000_01p)\n",
      "WARNING:root:incomplete data!: 2000-06-19 NYC_Heat_Test/NYC_summer_2000_01p #37\n",
      "INFO:root:load_day (2000-06-21, NYC_Heat_Test/NYC_summer_2000_01p)\n",
      "INFO:root:load_day (2010-07-06, NYC_Heat_Test/NYC_summer_2010_99p)\n",
      "INFO:root:load_day (2000-05-27, NYC_Heat_Test/NYC_summer_2000_01p)\n"
     ]
    },
    {
     "name": "stdout",
     "output_type": "stream",
     "text": [
      "Output shape: TensorShape([None, 8, 50, 50, 256])\n"
     ]
    },
    {
     "name": "stderr",
     "output_type": "stream",
     "text": [
      "INFO:root:load_day (2000-07-29, NYC_Heat_Test/NYC_summer_2000_01p)\n",
      "WARNING:root:incomplete data!: 2000-07-29 NYC_Heat_Test/NYC_summer_2000_01p #38\n",
      "INFO:root:load_day (2000-06-28, NYC_Heat_Test/NYC_summer_2000_01p)\n",
      "WARNING:root:incomplete data!: 2000-06-28 NYC_Heat_Test/NYC_summer_2000_01p #39\n",
      "INFO:root:load_day (2000-08-31, NYC_Heat_Test/NYC_summer_2000_01p)\n",
      "WARNING:root:incomplete data!: 2000-08-31 NYC_Heat_Test/NYC_summer_2000_01p #40\n",
      "INFO:root:load_day (2010-08-01, NYC_Heat_Test/NYC_summer_2010_99p)\n",
      "INFO:root:load_day (2010-06-09, NYC_Heat_Test/NYC_summer_2010_99p)\n"
     ]
    },
    {
     "name": "stdout",
     "output_type": "stream",
     "text": [
      "Output shape: TensorShape([None, 8, 50, 50, 256])\n"
     ]
    },
    {
     "name": "stderr",
     "output_type": "stream",
     "text": [
      "INFO:root:load_day (2010-07-18, NYC_Heat_Test/NYC_summer_2010_99p)\n",
      "INFO:root:load_day (2010-08-02, NYC_Heat_Test/NYC_summer_2010_99p)\n"
     ]
    },
    {
     "name": "stdout",
     "output_type": "stream",
     "text": [
      "Output shape: TensorShape([None, 8, 50, 50, 256])\n"
     ]
    },
    {
     "name": "stderr",
     "output_type": "stream",
     "text": [
      "INFO:root:load_day (2010-05-26, NYC_Heat_Test/NYC_summer_2010_99p)\n",
      "INFO:root:load_day (2000-08-08, NYC_Heat_Test/NYC_summer_2000_01p)\n"
     ]
    },
    {
     "name": "stdout",
     "output_type": "stream",
     "text": [
      "Output shape: TensorShape([None, 8, 50, 50, 256])\n"
     ]
    },
    {
     "name": "stderr",
     "output_type": "stream",
     "text": [
      "WARNING:root:incomplete data!: 2000-08-08 NYC_Heat_Test/NYC_summer_2000_01p #41\n",
      "INFO:root:load_day (2000-07-11, NYC_Heat_Test/NYC_summer_2000_01p)\n",
      "WARNING:root:incomplete data!: 2000-07-11 NYC_Heat_Test/NYC_summer_2000_01p #42\n",
      "INFO:root:load_day (2010-06-08, NYC_Heat_Test/NYC_summer_2010_99p)\n",
      "INFO:root:load_day (2000-05-25, NYC_Heat_Test/NYC_summer_2000_01p)\n",
      "INFO:root:load_day (2000-07-12, NYC_Heat_Test/NYC_summer_2000_01p)\n"
     ]
    },
    {
     "name": "stdout",
     "output_type": "stream",
     "text": [
      "Output shape: TensorShape([None, 8, 50, 50, 256])\n"
     ]
    },
    {
     "name": "stderr",
     "output_type": "stream",
     "text": [
      "WARNING:root:incomplete data!: 2000-07-12 NYC_Heat_Test/NYC_summer_2000_01p #43\n",
      "INFO:root:load_day (2000-07-10, NYC_Heat_Test/NYC_summer_2000_01p)\n",
      "INFO:root:load_day (2000-08-15, NYC_Heat_Test/NYC_summer_2000_01p)\n",
      "INFO:root:load_day (2010-07-25, NYC_Heat_Test/NYC_summer_2010_99p)\n"
     ]
    },
    {
     "name": "stdout",
     "output_type": "stream",
     "text": [
      "Output shape: TensorShape([None, 8, 50, 50, 256])\n"
     ]
    },
    {
     "name": "stderr",
     "output_type": "stream",
     "text": [
      "INFO:root:load_day (2000-06-15, NYC_Heat_Test/NYC_summer_2000_01p)\n",
      "INFO:root:load_day (2000-06-01, NYC_Heat_Test/NYC_summer_2000_01p)\n"
     ]
    },
    {
     "name": "stdout",
     "output_type": "stream",
     "text": [
      "Output shape: TensorShape([None, 8, 50, 50, 256])\n"
     ]
    },
    {
     "name": "stderr",
     "output_type": "stream",
     "text": [
      "INFO:root:load_day (2010-08-21, NYC_Heat_Test/NYC_summer_2010_99p)\n",
      "INFO:root:load_day (2010-05-29, NYC_Heat_Test/NYC_summer_2010_99p)\n"
     ]
    },
    {
     "name": "stdout",
     "output_type": "stream",
     "text": [
      "Output shape: TensorShape([None, 8, 50, 50, 256])\n"
     ]
    },
    {
     "name": "stderr",
     "output_type": "stream",
     "text": [
      "INFO:root:load_day (2000-08-27, NYC_Heat_Test/NYC_summer_2000_01p)\n",
      "WARNING:root:incomplete data!: 2000-08-27 NYC_Heat_Test/NYC_summer_2000_01p #44\n",
      "INFO:root:load_day (2010-08-29, NYC_Heat_Test/NYC_summer_2010_99p)\n",
      "INFO:root:load_day (2000-07-19, NYC_Heat_Test/NYC_summer_2000_01p)\n"
     ]
    },
    {
     "name": "stdout",
     "output_type": "stream",
     "text": [
      "Output shape: TensorShape([None, 8, 50, 50, 256])\n"
     ]
    },
    {
     "name": "stderr",
     "output_type": "stream",
     "text": [
      "WARNING:root:incomplete data!: 2000-07-19 NYC_Heat_Test/NYC_summer_2000_01p #45\n",
      "INFO:root:load_day (2010-07-26, NYC_Heat_Test/NYC_summer_2010_99p)\n"
     ]
    },
    {
     "name": "stdout",
     "output_type": "stream",
     "text": [
      "Output shape: TensorShape([None, 8, 50, 50, 256])\n"
     ]
    },
    {
     "name": "stderr",
     "output_type": "stream",
     "text": [
      "2024-12-13 20:18:49.331424: I tensorflow/core/framework/local_rendezvous.cc:421] Local rendezvous recv item cancelled. Key hash: 14741129010360194129\n",
      "2024-12-13 20:18:49.331468: I tensorflow/core/framework/local_rendezvous.cc:421] Local rendezvous recv item cancelled. Key hash: 12283461792789415023\n",
      "2024-12-13 20:18:49.331477: I tensorflow/core/framework/local_rendezvous.cc:421] Local rendezvous recv item cancelled. Key hash: 4826752829124410403\n",
      "2024-12-13 20:18:49.331483: I tensorflow/core/framework/local_rendezvous.cc:421] Local rendezvous recv item cancelled. Key hash: 15402361440212274947\n",
      "2024-12-13 20:18:49.331504: I tensorflow/core/framework/local_rendezvous.cc:421] Local rendezvous recv item cancelled. Key hash: 13682838528160178272\n"
     ]
    },
    {
     "name": "stdout",
     "output_type": "stream",
     "text": [
      "15/15 [==============================] - 367s 25s/step - loss: 18424.3574 - mean_absolute_error: 74.0701 - root_mean_squared_error: 135.7364 - val_loss: 18029.3652 - val_mean_absolute_error: 73.2409 - val_root_mean_squared_error: 134.2735\n"
     ]
    },
    {
     "data": {
      "text/plain": [
       "<keras.src.callbacks.History at 0x7f21d2187d10>"
      ]
     },
     "execution_count": 4,
     "metadata": {},
     "output_type": "execute_result"
    }
   ],
   "source": [
    "# Train the model\n",
    "tb_callback = keras.callbacks.TensorBoard(log_dir=\"./logs\")\n",
    "model.fit(train_ds, val_ds, epochs=1, callbacks=[tb_callback])"
   ]
  },
  {
   "cell_type": "code",
   "execution_count": 5,
   "metadata": {},
   "outputs": [
    {
     "name": "stdout",
     "output_type": "stream",
     "text": [
      "Model: \"atmo_conv_lstm\"\n",
      "_________________________________________________________________\n",
      " Layer (type)                Output Shape              Param #   \n",
      "=================================================================\n",
      " embedding (Embedding)       multiple                  488       \n",
      "                                                                 \n",
      " spatial_cnn (Sequential)    (None, 50, 50, 128)       252992    \n",
      "                                                                 \n",
      " spatiotemporal_cnn (Sequen  (None, None, 50, 50, 64   30480     \n",
      " tial)                       )                                   \n",
      "                                                                 \n",
      " conv_lstm (Sequential)      (None, None, 50, 50, 51   45877248  \n",
      "                             2)                                  \n",
      "                                                                 \n",
      " t2_output_cnn (Sequential)  (None, None, 200, 200,    69729     \n",
      "                             1)                                  \n",
      "                                                                 \n",
      " rh2_output_cnn (Sequential  (None, None, 200, 200,    69729     \n",
      " )                           1)                                  \n",
      "                                                                 \n",
      " wspd10_output_cnn (Sequent  (None, None, 200, 200,    69729     \n",
      " ial)                        1)                                  \n",
      "                                                                 \n",
      " wdir10_output_cnn (Sequent  (None, None, 200, 200,    69746     \n",
      " ial)                        2)                                  \n",
      "                                                                 \n",
      "=================================================================\n",
      "Total params: 46440141 (177.16 MB)\n",
      "Trainable params: 46440141 (177.16 MB)\n",
      "Non-trainable params: 0 (0.00 Byte)\n",
      "_________________________________________________________________\n"
     ]
    }
   ],
   "source": [
    "model._model.summary()"
   ]
  },
  {
   "cell_type": "code",
   "execution_count": 6,
   "metadata": {},
   "outputs": [
    {
     "ename": "NameError",
     "evalue": "name 'train_dataset' is not defined",
     "output_type": "error",
     "traceback": [
      "\u001b[0;31m---------------------------------------------------------------------------\u001b[0m",
      "\u001b[0;31mNameError\u001b[0m                                 Traceback (most recent call last)",
      "Cell \u001b[0;32mIn[6], line 2\u001b[0m\n\u001b[1;32m      1\u001b[0m \u001b[38;5;66;03m# Test calling the model on some training data\u001b[39;00m\n\u001b[0;32m----> 2\u001b[0m inputs, labels \u001b[38;5;241m=\u001b[39m \u001b[38;5;28mnext\u001b[39m(\u001b[38;5;28miter\u001b[39m(\u001b[43mtrain_dataset\u001b[49m))\n\u001b[1;32m      3\u001b[0m prediction \u001b[38;5;241m=\u001b[39m model\u001b[38;5;241m.\u001b[39mcall(inputs)\n\u001b[1;32m      4\u001b[0m \u001b[38;5;28mprint\u001b[39m(\u001b[38;5;124m\"\u001b[39m\u001b[38;5;124mPrediction shape:\u001b[39m\u001b[38;5;124m\"\u001b[39m, prediction\u001b[38;5;241m.\u001b[39mshape)\n",
      "\u001b[0;31mNameError\u001b[0m: name 'train_dataset' is not defined"
     ]
    }
   ],
   "source": [
    "# Test calling the model on some training data\n",
    "inputs, labels = next(iter(train_dataset))\n",
    "prediction = model.call(inputs)\n",
    "print(\"Prediction shape:\", prediction.shape)"
   ]
  }
 ],
 "metadata": {
  "kernelspec": {
   "display_name": "base",
   "language": "python",
   "name": "python3"
  },
  "language_info": {
   "codemirror_mode": {
    "name": "ipython",
    "version": 3
   },
   "file_extension": ".py",
   "mimetype": "text/x-python",
   "name": "python",
   "nbconvert_exporter": "python",
   "pygments_lexer": "ipython3",
   "version": "3.11.9"
  }
 },
 "nbformat": 4,
 "nbformat_minor": 2
}
