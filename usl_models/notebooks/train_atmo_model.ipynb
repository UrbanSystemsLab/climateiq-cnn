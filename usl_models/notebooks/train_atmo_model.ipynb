{
 "cells": [
  {
   "cell_type": "markdown",
   "metadata": {},
   "source": [
    "# Atmo Model Training Notebook\n",
    "\n",
    "Train an Atmo Model using `usl_models` lib."
   ]
  },
  {
   "cell_type": "code",
   "execution_count": null,
   "metadata": {},
   "outputs": [],
   "source": [
    "%load_ext autoreload\n",
    "%autoreload 2\n",
    "import tensorflow as tf\n",
    "from usl_models.atmo_ml.model import AtmoModel, AtmoModelParams\n",
    "from usl_models.atmo_ml.datasets import create_atmo_dataset\n",
    "\n",
    "# Define bucket names and folder paths\n",
    "data_bucket_name = \"climateiq-atmospheric-simulation-input\"\n",
    "label_bucket_name = \"climateiq-atmospheric-simulation-output\"\n",
    "spatiotemporal_folder = \"spatiotemporal\"\n",
    "spatial_folder = \"spatial\"\n",
    "lu_index_folder = \"lu_index\"\n",
    "label_folder = \"labels\"\n",
    "time_steps_per_day = 6\n",
    "batch_size = 4"
   ]
  },
  {
   "cell_type": "code",
   "execution_count": null,
   "metadata": {},
   "outputs": [],
   "source": [
    "\n",
    "# Create the training dataset using create_atmo_dataset with sim_names\n",
    "train_dataset, val_dataset, test_dataset = create_atmo_dataset(\n",
    "    data_bucket_name=data_bucket_name,\n",
    "    label_bucket_name=label_bucket_name,\n",
    "    spatiotemporal_folder=spatiotemporal_folder,\n",
    "    spatial_folder=spatial_folder,\n",
    "    lu_index_folder=lu_index_folder,\n",
    "    label_folder=label_folder,\n",
    "    time_steps_per_day=time_steps_per_day,\n",
    "    batch_size=batch_size,\n",
    "\n",
    ")"
   ]
  },
  {
   "cell_type": "code",
   "execution_count": null,
   "metadata": {},
   "outputs": [],
   "source": [
    "# Check the structure of the dataset\n",
    "for model_input, labels in train_dataset.take(1):\n",
    "    print(f\"Spatiotemporal data shape: {model_input['spatiotemporal'].shape}\")\n",
    "    print(f\"Spatial data shape: {model_input['spatial'].shape}\")\n",
    "    print(f\"LU Index data shape: {model_input['lu_index'].shape}\")\n",
    "    print(f\"Labels shape: {labels.shape}\")"
   ]
  },
  {
   "cell_type": "code",
   "execution_count": null,
   "metadata": {},
   "outputs": [],
   "source": [
    "# Initialize the Atmo Model\n",
    "model_params = AtmoModelParams()\n",
    "model = AtmoModel(model_params)\n",
    "# Compile the model with appropriate optimizer and loss\n",
    "model.compile(optimizer='adam', loss='mse')"
   ]
  },
  {
   "cell_type": "code",
   "execution_count": null,
   "metadata": {},
   "outputs": [],
   "source": [
    "# Train the model\n",
    "model.fit(train_dataset, epochs=1)"
   ]
  },
  {
   "cell_type": "code",
   "execution_count": null,
   "metadata": {},
   "outputs": [],
   "source": [
    "# Test calling the model on some training data\n",
    "inputs, labels = next(iter(train_dataset))\n",
    "prediction = model.call(inputs)\n",
    "print(\"Prediction shape:\", prediction.shape)"
   ]
  }
 ],
 "metadata": {
  "kernelspec": {
   "display_name": "base",
   "language": "python",
   "name": "python3"
  },
  "language_info": {
   "codemirror_mode": {
    "name": "ipython",
    "version": 3
   },
   "file_extension": ".py",
   "mimetype": "text/x-python",
   "name": "python",
   "nbconvert_exporter": "python",
   "pygments_lexer": "ipython3",
   "version": "3.10.14"
  }
 },
 "nbformat": 4,
 "nbformat_minor": 2
}
