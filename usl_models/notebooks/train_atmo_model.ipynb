{
   "cells": [
      {
         "cell_type": "markdown",
         "metadata": {},
         "source": [
            "# Atmo Model Training Notebook\n",
            "\n",
            "Train an Atmo Model using `usl_models` lib."
         ]
      },
      {
         "cell_type": "code",
         "execution_count": null,
         "metadata": {},
         "outputs": [],
         "source": [
            "%load_ext autoreload\n",
            "%autoreload 2\n",
            "import logging\n",
            "import os, time\n",
            "import pathlib\n",
            "\n",
            "import keras\n",
            "\n",
            "from usl_models.atmo_ml.model import AtmoModel\n",
            "from usl_models.atmo_ml import dataset, visualizer, vars\n",
            "\n",
            "\n",
            "logging.getLogger().setLevel(logging.WARNING)\n",
            "visualizer.init_plt()\n",
            "\n",
            "\n",
            "batch_size = 4\n",
            "\n",
            "filecache_path = pathlib.Path(\"/home/shared/climateiq/filecache\")\n",
            "example_keys=[\n",
            "    (\"NYC_Heat_Test/NYC_summer_2000_01p\", \"2000-05-25\"),\n",
            "    (\"NYC_Heat_Test/NYC_summer_2000_01p\", \"2000-05-26\"),\n",
            "    (\"NYC_Heat_Test/NYC_summer_2000_01p\", \"2000-05-27\"),\n",
            "    (\"NYC_Heat_Test/NYC_summer_2000_01p\", \"2000-05-28\")\n",
            "]\n",
            "train_frac = 0.8\n",
            "train_ds = dataset.load_dataset_cached(\n",
            "    filecache_path,\n",
            "    example_keys=example_keys\n",
            ").batch(batch_size=batch_size)\n",
            "val_ds = dataset.load_dataset_cached(\n",
            "    filecache_path,\n",
            "    example_keys=example_keys\n",
            ").batch(batch_size=batch_size)"
         ]
      },
      {
         "cell_type": "code",
         "execution_count": null,
         "metadata": {},
         "outputs": [],
         "source": [
            "# Initialize the Atmo Model\n",
            "model = AtmoModel()\n",
            "model.summary(expand_nested=True)"
         ]
      },
      {
         "cell_type": "code",
         "execution_count": null,
         "metadata": {},
         "outputs": [],
         "source": [
            "# Train the model\n",
            "# Create a unique log directory by appending the current timestamp\n",
            "log_dir = os.path.join(\"./logs\", \"run_\" + time.strftime(\"%Y%m%d-%H%M%S\"))\n",
            "print(log_dir)\n",
            "tb_callback = keras.callbacks.TensorBoard(log_dir=log_dir)\n",
            "model.fit(train_ds, val_ds, epochs=2, callbacks=[tb_callback], validation_freq=10)\n",
            "model.save_model(log_dir + \"/model\")"
         ]
      },
      {
         "cell_type": "code",
         "execution_count": null,
         "metadata": {},
         "outputs": [],
         "source": [
            "# Visualize model outputs for the given variables.\n",
            "\n",
            "st_var = vars.Spatiotemporal.TT\n",
            "sto_var = vars.SpatiotemporalOutput.T2\n",
            "\n",
            "# To load a previous model.\n",
            "# model = AtmoModel.from_checkpoint(log_dir + \"/model\")\n",
            "\n",
            "for input_batch, label_batch in val_ds:\n",
            "    pred_batch = model.call(input_batch)\n",
            "    for b, _ in enumerate(label_batch):\n",
            "        figs = visualizer.plot(\n",
            "            inputs={k: v[b] for k, v in input_batch.items()},\n",
            "            label=label_batch[b],\n",
            "            pred=pred_batch[b],\n",
            "            st_var=st_var,\n",
            "            sto_var=sto_var,\n",
            "        )\n",
            "        for fig in figs:\n",
            "            fig.show()"
         ]
      }
   ],
   "metadata": {
      "kernelspec": {
         "display_name": "base",
         "language": "python",
         "name": "python3"
      },
      "language_info": {
         "codemirror_mode": {
            "name": "ipython",
            "version": 3
         },
         "file_extension": ".py",
         "mimetype": "text/x-python",
         "name": "python",
         "nbconvert_exporter": "python",
         "pygments_lexer": "ipython3",
         "version": "3.11.9"
      }
   },
   "nbformat": 4,
   "nbformat_minor": 2
}
