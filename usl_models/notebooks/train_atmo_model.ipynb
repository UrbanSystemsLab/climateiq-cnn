{
   "cells": [
      {
         "cell_type": "markdown",
         "metadata": {},
         "source": [
            "# Atmo Model Training Notebook\n",
            "\n",
            "Train an Atmo Model using `usl_models` lib."
         ]
      },
      {
         "cell_type": "code",
         "execution_count": null,
         "metadata": {},
         "outputs": [],
         "source": [
            "%load_ext autoreload\n",
            "%autoreload 2\n",
            "import logging\n",
            "import os, time\n",
            "import pathlib\n",
            "\n",
            "import keras\n",
            "\n",
            "from usl_models.atmo_ml.model import AtmoModel\n",
            "from usl_models.atmo_ml import dataset, visualizer, vars\n",
            "\n",
            "\n",
            "logging.getLogger().setLevel(logging.WARNING)\n",
            "visualizer.init_plt()\n",
            "keras.utils.set_random_seed(812)\n",
            "\n",
            "batch_size = 4\n",
            "filecache_path = pathlib.Path(\"/home/shared/climateiq/filecache\")\n",
            "example_keys=[\n",
            "    (\"NYC_Heat_Test/NYC_summer_2000_01p\", \"2000-05-25\"),\n",
            "    (\"NYC_Heat_Test/NYC_summer_2000_01p\", \"2000-05-26\"),\n",
            "    (\"NYC_Heat_Test/NYC_summer_2000_01p\", \"2000-05-27\"),\n",
            "    (\"NYC_Heat_Test/NYC_summer_2000_01p\", \"2000-05-28\"),\n",
            "]\n",
            "ds_config = dataset.Config(\n",
            "    input_width=200, input_height=200,\n",
            "    output_width=200, output_height=200)\n",
            "train_frac = 0.8\n",
            "train_ds = dataset.load_dataset_cached(\n",
            "    filecache_path,\n",
            "    example_keys=example_keys,\n",
            "    config=ds_config\n",
            ").batch(batch_size=batch_size)\n",
            "val_ds = dataset.load_dataset_cached(\n",
            "    filecache_path,\n",
            "    example_keys=example_keys,\n",
            "    config=ds_config\n",
            ").batch(batch_size=batch_size)"
         ]
      },
      {
         "cell_type": "code",
         "execution_count": null,
         "metadata": {},
         "outputs": [],
         "source": [
            "lstm_dropout = 0.2\n",
            "run_name = \"46x46_clipnorm100x\"\n",
            "params = AtmoModel.dataset_config_params(ds_config)\n",
            "params.update(\n",
            "    {\n",
            "        \"lstm_dropout\": lstm_dropout,\n",
            "        \"lstm_recurrent_dropout\": lstm_dropout,\n",
            "    }\n",
            ")\n",
            "model = AtmoModel(params=params)\n",
            "\n",
            "log_dir = os.path.join(\"./logs\", run_name)\n",
            "print(log_dir)\n",
            "\n",
            "tb_callback = keras.callbacks.TensorBoard(log_dir=log_dir)\n",
            "model.fit(train_ds, val_ds, epochs=10, callbacks=[tb_callback], validation_freq=5)\n",
            "model.save_model(log_dir + \"/model\")"
         ]
      },
      {
         "cell_type": "code",
         "execution_count": null,
         "metadata": {},
         "outputs": [],
         "source": [
            "# Visualize model outputs for the given variables.\n",
            "\n",
            "st_var = vars.Spatiotemporal.RH\n",
            "sto_var = vars.SpatiotemporalOutput.RH2\n",
            "\n",
            "# To load a previous model:\n",
            "# model = AtmoModel.from_checkpoint(\"logs/lstm_dropout_0.2/model\")\n",
            "\n",
            "for input_batch, label_batch in val_ds:\n",
            "    pred_batch = model.call(input_batch)\n",
            "    for b, _ in enumerate(label_batch):\n",
            "        figs = visualizer.plot(\n",
            "            inputs={k: v[b] for k, v in input_batch.items()},\n",
            "            label=label_batch[b],\n",
            "            pred=pred_batch[b],\n",
            "            st_var=st_var,\n",
            "            sto_var=sto_var,\n",
            "        )\n",
            "        for fig in figs:\n",
            "            fig.show()"
         ]
      }
   ],
   "metadata": {
      "kernelspec": {
         "display_name": "base",
         "language": "python",
         "name": "python3"
      },
      "language_info": {
         "codemirror_mode": {
            "name": "ipython",
            "version": 3
         },
         "file_extension": ".py",
         "mimetype": "text/x-python",
         "name": "python",
         "nbconvert_exporter": "python",
         "pygments_lexer": "ipython3",
         "version": "3.11.9"
      }
   },
   "nbformat": 4,
   "nbformat_minor": 2
}
