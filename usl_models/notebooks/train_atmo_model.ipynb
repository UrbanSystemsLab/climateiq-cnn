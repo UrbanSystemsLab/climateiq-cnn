{
 "cells": [
  {
   "cell_type": "markdown",
   "metadata": {},
   "source": [
    "# Atmo Model Training Notebook\n",
    "\n",
    "Train an Atmo Model using `usl_models` lib."
   ]
  },
  {
   "cell_type": "code",
   "execution_count": 1,
   "metadata": {},
   "outputs": [
    {
     "name": "stderr",
     "output_type": "stream",
     "text": [
      "2025-01-24 23:32:45.387287: I tensorflow/core/util/port.cc:113] oneDNN custom operations are on. You may see slightly different numerical results due to floating-point round-off errors from different computation orders. To turn them off, set the environment variable `TF_ENABLE_ONEDNN_OPTS=0`.\n",
      "2025-01-24 23:32:45.439479: E external/local_xla/xla/stream_executor/cuda/cuda_dnn.cc:9261] Unable to register cuDNN factory: Attempting to register factory for plugin cuDNN when one has already been registered\n",
      "2025-01-24 23:32:45.439510: E external/local_xla/xla/stream_executor/cuda/cuda_fft.cc:607] Unable to register cuFFT factory: Attempting to register factory for plugin cuFFT when one has already been registered\n",
      "2025-01-24 23:32:45.440660: E external/local_xla/xla/stream_executor/cuda/cuda_blas.cc:1515] Unable to register cuBLAS factory: Attempting to register factory for plugin cuBLAS when one has already been registered\n",
      "2025-01-24 23:32:45.447962: I tensorflow/core/platform/cpu_feature_guard.cc:182] This TensorFlow binary is optimized to use available CPU instructions in performance-critical operations.\n",
      "To enable the following instructions: AVX2 AVX512F AVX512_VNNI FMA, in other operations, rebuild TensorFlow with the appropriate compiler flags.\n"
     ]
    },
    {
     "name": "stdout",
     "output_type": "stream",
     "text": [
      "['NYC_Heat_Test/NYC_summer_2000_01p']\n"
     ]
    }
   ],
   "source": [
    "%load_ext autoreload\n",
    "%autoreload 2\n",
    "import tensorflow as tf\n",
    "import keras\n",
    "from datetime import datetime, timedelta\n",
    "import os, time\n",
    "import pathlib\n",
    "from usl_models.atmo_ml.model import AtmoModel, AtmoModelParams\n",
    "from usl_models.atmo_ml import dataset\n",
    "from google.cloud import storage\n",
    "\n",
    "import logging\n",
    "\n",
    "logging.getLogger().setLevel(logging.INFO)\n",
    "\n",
    "# climateiq-study-area-feature-chunks/NYC_Heat/NYC_summer_2000_01p\n",
    "# Define bucket names and folder paths\n",
    "data_bucket_name = \"climateiq-study-area-feature-chunks\"\n",
    "label_bucket_name = \"climateiq-study-area-label-chunks\"\n",
    "time_steps_per_day = 6\n",
    "batch_size = 4\n",
    "\n",
    "sim_dirs = [\n",
    "    ('NYC_Heat_Test', [\n",
    "        'NYC_summer_2000_01p',\n",
    "        # 'NYC_summer_2010_99p',\n",
    "        # 'NYC_summer_2015_50p',\n",
    "        # 'NYC_summer_2017_25p',\n",
    "        # 'NYC_summer_2018_75p'\n",
    "    ]),\n",
    "    ('PHX_Heat_Test', [\n",
    "        # 'PHX_summer_2008_25p',\n",
    "        # 'PHX_summer_2009_50p',\n",
    "        # 'PHX_summer_2011_99p',\n",
    "        # 'PHX_summer_2015_75p',\n",
    "        # 'PHX_summer_2020_01p'\n",
    "    ])\n",
    "]\n",
    "\n",
    "sim_names = []\n",
    "for sim_dir, subdirs in sim_dirs:\n",
    "    for subdir in subdirs:\n",
    "        sim_names.append(sim_dir + '/' + subdir)\n",
    "\n",
    "print(sim_names)\n",
    "client = storage.Client(project=\"climateiq\")\n",
    "feature_bucket = client.bucket(data_bucket_name)\n",
    "label_bucket = client.bucket(label_bucket_name)\n"
   ]
  },
  {
   "cell_type": "code",
   "execution_count": 2,
   "metadata": {},
   "outputs": [
    {
     "name": "stderr",
     "output_type": "stream",
     "text": [
      "2025-01-24 23:32:48.230151: I tensorflow/core/common_runtime/gpu/gpu_device.cc:1929] Created device /job:localhost/replica:0/task:0/device:GPU:0 with 38364 MB memory:  -> device: 0, name: NVIDIA A100-SXM4-40GB, pci bus id: 0000:00:04.0, compute capability: 8.0\n"
     ]
    },
    {
     "data": {
      "text/plain": [
       "(TensorShape([6, 200, 200, 12]), TensorShape([8, 200, 200, 5]))"
      ]
     },
     "execution_count": 2,
     "metadata": {},
     "output_type": "execute_result"
    }
   ],
   "source": [
    "inputs, label = dataset.load_day_cached(\n",
    "    date=datetime.strptime(\"2000-05-25\", dataset.DATE_FORMAT),\n",
    "    path=pathlib.Path('data/filecache') / sim_names[0],\n",
    ")\n",
    "inputs['spatiotemporal'].shape, label.shape"
   ]
  },
  {
   "cell_type": "code",
   "execution_count": 3,
   "metadata": {},
   "outputs": [
    {
     "name": "stderr",
     "output_type": "stream",
     "text": [
      "INFO:root:Total generated samples: 1\n"
     ]
    },
    {
     "name": "stdout",
     "output_type": "stream",
     "text": [
      "(1, 8, 200, 200, 5)\n"
     ]
    }
   ],
   "source": [
    "train_frac = 0.8\n",
    "\n",
    "# Create training dataset with fused spatiotemporal data\n",
    "train_ds = dataset.load_dataset_cached(\n",
    "    pathlib.Path('data/filecache'),\n",
    "    example_keys=[(\"NYC_Heat_Test/NYC_summer_2000_01p\", \"2000-05-25\")],\n",
    ").batch(batch_size=1)\n",
    "for inputs, labels in train_ds:\n",
    "    print(labels.shape)\n",
    "    break"
   ]
  },
  {
   "cell_type": "code",
   "execution_count": 4,
   "metadata": {},
   "outputs": [
    {
     "name": "stderr",
     "output_type": "stream",
     "text": [
      "INFO:root:Total simulation days before filtering: 1\n",
      "INFO:root:Selected 1/1 days (100.00%) based on hash range (0.0, 1.0).\n",
      "INFO:root:Total simulation days before filtering: 1\n",
      "INFO:root:Selected 1/1 days (100.00%) based on hash range (0.0, 1.0).\n"
     ]
    },
    {
     "name": "stdout",
     "output_type": "stream",
     "text": [
      "sim_name_dates [('NYC_Heat_Test/NYC_summer_2000_01p', '2000-05-25')]\n",
      "sim_name_dates [('NYC_Heat_Test/NYC_summer_2000_01p', '2000-05-25')]\n"
     ]
    }
   ],
   "source": [
    "# Create training dataset with fused spatiotemporal data\n",
    "train_ds = dataset.load_dataset(\n",
    "    data_bucket_name=data_bucket_name,\n",
    "    label_bucket_name=label_bucket_name,\n",
    "    sim_names=sim_names,\n",
    "    dates=[\"2000-05-25\"],\n",
    ").batch(batch_size=batch_size)\n",
    "\n",
    "# Create validation dataset with fused spatiotemporal data\n",
    "val_ds = dataset.load_dataset(\n",
    "    data_bucket_name=data_bucket_name,\n",
    "    label_bucket_name=label_bucket_name,\n",
    "    sim_names=sim_names,\n",
    "    dates=[\"2000-05-25\"],\n",
    ").batch(batch_size=batch_size)"
   ]
  },
  {
   "cell_type": "code",
   "execution_count": 5,
   "metadata": {},
   "outputs": [],
   "source": [
    "# Initialize the Atmo Model\n",
    "model_params = AtmoModelParams()\n",
    "model = AtmoModel(model_params)"
   ]
  },
  {
   "cell_type": "code",
   "execution_count": 6,
   "metadata": {},
   "outputs": [
    {
     "name": "stdout",
     "output_type": "stream",
     "text": [
      "./logs/run_20250124-233304\n"
     ]
    }
   ],
   "source": [
    "# Create a unique log directory by appending the current timestamp\n",
    "log_dir = os.path.join(\"./logs\", \"run_\" + time.strftime(\"%Y%m%d-%H%M%S\"))\n",
    "\n",
    "# Set up TensorBoard callback\n",
    "tb_callback = keras.callbacks.TensorBoard(log_dir=log_dir)\n",
    "print(log_dir)"
   ]
  },
  {
   "cell_type": "code",
   "execution_count": 7,
   "metadata": {},
   "outputs": [
    {
     "name": "stdout",
     "output_type": "stream",
     "text": [
      "Epoch 1/150\n",
      "Split shape: (None, 50, 50, 5, 2, 256)\n",
      "Separated shape (pre-slice): (None, 50, 50, 10, 256)\n",
      "Reduced shape after removing outermost time steps: (None, 50, 50, 8, 256)\n",
      "Split shape: (None, 50, 50, 5, 2, 256)\n",
      "Separated shape (pre-slice): (None, 50, 50, 10, 256)\n",
      "Reduced shape after removing outermost time steps: (None, 50, 50, 8, 256)\n"
     ]
    },
    {
     "name": "stderr",
     "output_type": "stream",
     "text": [
      "2025-01-24 23:33:08.982113: E tensorflow/core/grappler/optimizers/meta_optimizer.cc:961] layout failed: INVALID_ARGUMENT: Size of values 0 does not match size of permutation 4 @ fanin shape inatmo_conv_lstm/conv_lstm/conv_lstm2d/while/body/_1/atmo_conv_lstm/conv_lstm/conv_lstm2d/while/dropout_7/SelectV2-2-TransposeNHWCToNCHW-LayoutOptimizer\n"
     ]
    },
    {
     "name": "stdout",
     "output_type": "stream",
     "text": [
      "Output shape: TensorShape([None, 8, 50, 50, 256])\n"
     ]
    },
    {
     "name": "stderr",
     "output_type": "stream",
     "text": [
      "INFO:root:load_day('NYC_Heat_Test/NYC_summer_2000_01p', '2000-05-25')\n",
      "INFO:root:Total generated samples: 1\n",
      "2025-01-24 23:33:12.833221: I external/local_xla/xla/stream_executor/cuda/cuda_dnn.cc:454] Loaded cuDNN version 8900\n"
     ]
    },
    {
     "name": "stdout",
     "output_type": "stream",
     "text": [
      "      1/Unknown - 14s 14s/step - loss: 18196.9414 - mean_absolute_error: 73.4619 - root_mean_squared_error: 134.8960Output shape: TensorShape([None, 8, 50, 50, 256])\n",
      "Split shape: (None, 50, 50, 5, 2, 256)\n",
      "Separated shape (pre-slice): (None, 50, 50, 10, 256)\n",
      "Reduced shape after removing outermost time steps: (None, 50, 50, 8, 256)\n",
      "Output shape: TensorShape([None, 8, 50, 50, 256])\n"
     ]
    },
    {
     "name": "stderr",
     "output_type": "stream",
     "text": [
      "INFO:root:load_day('NYC_Heat_Test/NYC_summer_2000_01p', '2000-05-25')\n",
      "INFO:root:Total generated samples: 1\n"
     ]
    },
    {
     "name": "stdout",
     "output_type": "stream",
     "text": [
      "Output shape: TensorShape([None, 8, 50, 50, 256])\n"
     ]
    },
    {
     "name": "stderr",
     "output_type": "stream",
     "text": [
      "2025-01-24 23:33:22.746316: I tensorflow/core/framework/local_rendezvous.cc:421] Local rendezvous recv item cancelled. Key hash: 860204493177383509\n",
      "2025-01-24 23:33:22.746371: I tensorflow/core/framework/local_rendezvous.cc:421] Local rendezvous recv item cancelled. Key hash: 6956207112695136837\n"
     ]
    },
    {
     "name": "stdout",
     "output_type": "stream",
     "text": [
      "1/1 [==============================] - 18s 18s/step - loss: 18196.9414 - mean_absolute_error: 73.4619 - root_mean_squared_error: 134.8960 - val_loss: 18186.2930 - val_mean_absolute_error: 73.4167 - val_root_mean_squared_error: 134.8566\n",
      "Epoch 2/150\n",
      "Output shape: TensorShape([None, 8, 50, 50, 256])\n"
     ]
    },
    {
     "name": "stderr",
     "output_type": "stream",
     "text": [
      "INFO:root:load_day('NYC_Heat_Test/NYC_summer_2000_01p', '2000-05-25')\n",
      "INFO:root:Total generated samples: 1\n"
     ]
    },
    {
     "name": "stdout",
     "output_type": "stream",
     "text": [
      "1/1 [==============================] - ETA: 0s - loss: 18186.3164 - mean_absolute_error: 73.4168 - root_mean_squared_error: 134.8566Output shape: TensorShape([None, 8, 50, 50, 256])\n"
     ]
    },
    {
     "name": "stderr",
     "output_type": "stream",
     "text": [
      "INFO:root:load_day('NYC_Heat_Test/NYC_summer_2000_01p', '2000-05-25')\n",
      "INFO:root:Total generated samples: 1\n"
     ]
    },
    {
     "name": "stdout",
     "output_type": "stream",
     "text": [
      "1/1 [==============================] - 5s 5s/step - loss: 18186.3164 - mean_absolute_error: 73.4168 - root_mean_squared_error: 134.8566 - val_loss: 18165.0508 - val_mean_absolute_error: 73.3284 - val_root_mean_squared_error: 134.7778\n",
      "Epoch 3/150\n",
      "Output shape: TensorShape([None, 8, 50, 50, 256])\n"
     ]
    },
    {
     "name": "stderr",
     "output_type": "stream",
     "text": [
      "INFO:root:load_day('NYC_Heat_Test/NYC_summer_2000_01p', '2000-05-25')\n",
      "INFO:root:Total generated samples: 1\n"
     ]
    },
    {
     "name": "stdout",
     "output_type": "stream",
     "text": [
      "1/1 [==============================] - ETA: 0s - loss: 18165.0645 - mean_absolute_error: 73.3285 - root_mean_squared_error: 134.7778Output shape: TensorShape([None, 8, 50, 50, 256])\n"
     ]
    },
    {
     "name": "stderr",
     "output_type": "stream",
     "text": [
      "INFO:root:load_day('NYC_Heat_Test/NYC_summer_2000_01p', '2000-05-25')\n",
      "INFO:root:Total generated samples: 1\n"
     ]
    },
    {
     "name": "stdout",
     "output_type": "stream",
     "text": [
      "1/1 [==============================] - 5s 5s/step - loss: 18165.0645 - mean_absolute_error: 73.3285 - root_mean_squared_error: 134.7778 - val_loss: 18151.3848 - val_mean_absolute_error: 73.2370 - val_root_mean_squared_error: 134.7271\n",
      "Epoch 4/150\n",
      "Output shape: TensorShape([None, 8, 50, 50, 256])\n"
     ]
    },
    {
     "name": "stderr",
     "output_type": "stream",
     "text": [
      "INFO:root:load_day('NYC_Heat_Test/NYC_summer_2000_01p', '2000-05-25')\n",
      "INFO:root:Total generated samples: 1\n"
     ]
    },
    {
     "name": "stdout",
     "output_type": "stream",
     "text": [
      "1/1 [==============================] - ETA: 0s - loss: 18151.3867 - mean_absolute_error: 73.2370 - root_mean_squared_error: 134.7271Output shape: TensorShape([None, 8, 50, 50, 256])\n"
     ]
    },
    {
     "name": "stderr",
     "output_type": "stream",
     "text": [
      "INFO:root:load_day('NYC_Heat_Test/NYC_summer_2000_01p', '2000-05-25')\n",
      "INFO:root:Total generated samples: 1\n"
     ]
    },
    {
     "name": "stdout",
     "output_type": "stream",
     "text": [
      "1/1 [==============================] - 5s 5s/step - loss: 18151.3867 - mean_absolute_error: 73.2370 - root_mean_squared_error: 134.7271 - val_loss: 18139.7090 - val_mean_absolute_error: 73.1620 - val_root_mean_squared_error: 134.6837\n",
      "Epoch 5/150\n",
      "Output shape: TensorShape([None, 8, 50, 50, 256])\n"
     ]
    },
    {
     "name": "stderr",
     "output_type": "stream",
     "text": [
      "INFO:root:load_day('NYC_Heat_Test/NYC_summer_2000_01p', '2000-05-25')\n",
      "INFO:root:Total generated samples: 1\n"
     ]
    },
    {
     "name": "stdout",
     "output_type": "stream",
     "text": [
      "1/1 [==============================] - ETA: 0s - loss: 18139.7090 - mean_absolute_error: 73.1620 - root_mean_squared_error: 134.6837Output shape: TensorShape([None, 8, 50, 50, 256])\n"
     ]
    },
    {
     "name": "stderr",
     "output_type": "stream",
     "text": [
      "INFO:root:load_day('NYC_Heat_Test/NYC_summer_2000_01p', '2000-05-25')\n",
      "INFO:root:Total generated samples: 1\n"
     ]
    },
    {
     "name": "stdout",
     "output_type": "stream",
     "text": [
      "1/1 [==============================] - 5s 5s/step - loss: 18139.7090 - mean_absolute_error: 73.1620 - root_mean_squared_error: 134.6837 - val_loss: 18127.3809 - val_mean_absolute_error: 73.0869 - val_root_mean_squared_error: 134.6380\n",
      "Epoch 6/150\n",
      "Output shape: TensorShape([None, 8, 50, 50, 256])\n"
     ]
    },
    {
     "name": "stderr",
     "output_type": "stream",
     "text": [
      "INFO:root:load_day('NYC_Heat_Test/NYC_summer_2000_01p', '2000-05-25')\n",
      "INFO:root:Total generated samples: 1\n"
     ]
    },
    {
     "name": "stdout",
     "output_type": "stream",
     "text": [
      "1/1 [==============================] - ETA: 0s - loss: 18127.3809 - mean_absolute_error: 73.0869 - root_mean_squared_error: 134.6380Output shape: TensorShape([None, 8, 50, 50, 256])\n"
     ]
    },
    {
     "name": "stderr",
     "output_type": "stream",
     "text": [
      "INFO:root:load_day('NYC_Heat_Test/NYC_summer_2000_01p', '2000-05-25')\n",
      "INFO:root:Total generated samples: 1\n"
     ]
    },
    {
     "name": "stdout",
     "output_type": "stream",
     "text": [
      "1/1 [==============================] - 5s 5s/step - loss: 18127.3809 - mean_absolute_error: 73.0869 - root_mean_squared_error: 134.6380 - val_loss: 18114.0195 - val_mean_absolute_error: 73.0086 - val_root_mean_squared_error: 134.5883\n",
      "Epoch 7/150\n",
      "Output shape: TensorShape([None, 8, 50, 50, 256])\n"
     ]
    },
    {
     "name": "stderr",
     "output_type": "stream",
     "text": [
      "INFO:root:load_day('NYC_Heat_Test/NYC_summer_2000_01p', '2000-05-25')\n",
      "INFO:root:Total generated samples: 1\n"
     ]
    },
    {
     "name": "stdout",
     "output_type": "stream",
     "text": [
      "1/1 [==============================] - ETA: 0s - loss: 18114.0195 - mean_absolute_error: 73.0086 - root_mean_squared_error: 134.5883Output shape: TensorShape([None, 8, 50, 50, 256])\n"
     ]
    },
    {
     "name": "stderr",
     "output_type": "stream",
     "text": [
      "INFO:root:load_day('NYC_Heat_Test/NYC_summer_2000_01p', '2000-05-25')\n",
      "INFO:root:Total generated samples: 1\n"
     ]
    },
    {
     "name": "stdout",
     "output_type": "stream",
     "text": [
      "1/1 [==============================] - 5s 5s/step - loss: 18114.0195 - mean_absolute_error: 73.0086 - root_mean_squared_error: 134.5883 - val_loss: 18099.0645 - val_mean_absolute_error: 72.9251 - val_root_mean_squared_error: 134.5328\n",
      "Epoch 8/150\n",
      "Output shape: TensorShape([None, 8, 50, 50, 256])\n"
     ]
    },
    {
     "name": "stderr",
     "output_type": "stream",
     "text": [
      "INFO:root:load_day('NYC_Heat_Test/NYC_summer_2000_01p', '2000-05-25')\n",
      "INFO:root:Total generated samples: 1\n"
     ]
    },
    {
     "name": "stdout",
     "output_type": "stream",
     "text": [
      "1/1 [==============================] - ETA: 0s - loss: 18099.0645 - mean_absolute_error: 72.9251 - root_mean_squared_error: 134.5328Output shape: TensorShape([None, 8, 50, 50, 256])\n"
     ]
    },
    {
     "name": "stderr",
     "output_type": "stream",
     "text": [
      "INFO:root:load_day('NYC_Heat_Test/NYC_summer_2000_01p', '2000-05-25')\n",
      "INFO:root:Total generated samples: 1\n"
     ]
    },
    {
     "name": "stdout",
     "output_type": "stream",
     "text": [
      "1/1 [==============================] - 5s 5s/step - loss: 18099.0645 - mean_absolute_error: 72.9251 - root_mean_squared_error: 134.5328 - val_loss: 18082.4961 - val_mean_absolute_error: 72.8381 - val_root_mean_squared_error: 134.4712\n",
      "Epoch 9/150\n",
      "Output shape: TensorShape([None, 8, 50, 50, 256])\n"
     ]
    },
    {
     "name": "stderr",
     "output_type": "stream",
     "text": [
      "INFO:root:load_day('NYC_Heat_Test/NYC_summer_2000_01p', '2000-05-25')\n",
      "INFO:root:Total generated samples: 1\n"
     ]
    },
    {
     "name": "stdout",
     "output_type": "stream",
     "text": [
      "1/1 [==============================] - ETA: 0s - loss: 18082.5000 - mean_absolute_error: 72.8381 - root_mean_squared_error: 134.4712Output shape: TensorShape([None, 8, 50, 50, 256])\n"
     ]
    },
    {
     "name": "stderr",
     "output_type": "stream",
     "text": [
      "INFO:root:load_day('NYC_Heat_Test/NYC_summer_2000_01p', '2000-05-25')\n",
      "INFO:root:Total generated samples: 1\n"
     ]
    },
    {
     "name": "stdout",
     "output_type": "stream",
     "text": [
      "1/1 [==============================] - 5s 5s/step - loss: 18082.5000 - mean_absolute_error: 72.8381 - root_mean_squared_error: 134.4712 - val_loss: 18064.5977 - val_mean_absolute_error: 72.7495 - val_root_mean_squared_error: 134.4046\n",
      "Epoch 10/150\n",
      "Output shape: TensorShape([None, 8, 50, 50, 256])\n"
     ]
    },
    {
     "name": "stderr",
     "output_type": "stream",
     "text": [
      "INFO:root:load_day('NYC_Heat_Test/NYC_summer_2000_01p', '2000-05-25')\n",
      "INFO:root:Total generated samples: 1\n"
     ]
    },
    {
     "name": "stdout",
     "output_type": "stream",
     "text": [
      "1/1 [==============================] - ETA: 0s - loss: 18064.5977 - mean_absolute_error: 72.7495 - root_mean_squared_error: 134.4046Output shape: TensorShape([None, 8, 50, 50, 256])\n"
     ]
    },
    {
     "name": "stderr",
     "output_type": "stream",
     "text": [
      "INFO:root:load_day('NYC_Heat_Test/NYC_summer_2000_01p', '2000-05-25')\n",
      "INFO:root:Total generated samples: 1\n"
     ]
    },
    {
     "name": "stdout",
     "output_type": "stream",
     "text": [
      "1/1 [==============================] - 5s 5s/step - loss: 18064.5977 - mean_absolute_error: 72.7495 - root_mean_squared_error: 134.4046 - val_loss: 18044.2734 - val_mean_absolute_error: 72.6573 - val_root_mean_squared_error: 134.3290\n",
      "Epoch 11/150\n",
      "Output shape: TensorShape([None, 8, 50, 50, 256])\n"
     ]
    },
    {
     "name": "stderr",
     "output_type": "stream",
     "text": [
      "INFO:root:load_day('NYC_Heat_Test/NYC_summer_2000_01p', '2000-05-25')\n",
      "INFO:root:Total generated samples: 1\n"
     ]
    },
    {
     "name": "stdout",
     "output_type": "stream",
     "text": [
      "1/1 [==============================] - ETA: 0s - loss: 18044.2754 - mean_absolute_error: 72.6573 - root_mean_squared_error: 134.3290Output shape: TensorShape([None, 8, 50, 50, 256])\n"
     ]
    },
    {
     "name": "stderr",
     "output_type": "stream",
     "text": [
      "INFO:root:load_day('NYC_Heat_Test/NYC_summer_2000_01p', '2000-05-25')\n",
      "INFO:root:Total generated samples: 1\n"
     ]
    },
    {
     "name": "stdout",
     "output_type": "stream",
     "text": [
      "1/1 [==============================] - 5s 5s/step - loss: 18044.2754 - mean_absolute_error: 72.6573 - root_mean_squared_error: 134.3290 - val_loss: 18021.5820 - val_mean_absolute_error: 72.5641 - val_root_mean_squared_error: 134.2445\n",
      "Epoch 12/150\n",
      "Output shape: TensorShape([None, 8, 50, 50, 256])\n"
     ]
    },
    {
     "name": "stderr",
     "output_type": "stream",
     "text": [
      "INFO:root:load_day('NYC_Heat_Test/NYC_summer_2000_01p', '2000-05-25')\n",
      "INFO:root:Total generated samples: 1\n"
     ]
    },
    {
     "name": "stdout",
     "output_type": "stream",
     "text": [
      "1/1 [==============================] - ETA: 0s - loss: 18021.5859 - mean_absolute_error: 72.5641 - root_mean_squared_error: 134.2445Output shape: TensorShape([None, 8, 50, 50, 256])\n"
     ]
    },
    {
     "name": "stderr",
     "output_type": "stream",
     "text": [
      "INFO:root:load_day('NYC_Heat_Test/NYC_summer_2000_01p', '2000-05-25')\n",
      "INFO:root:Total generated samples: 1\n"
     ]
    },
    {
     "name": "stdout",
     "output_type": "stream",
     "text": [
      "1/1 [==============================] - 5s 5s/step - loss: 18021.5859 - mean_absolute_error: 72.5641 - root_mean_squared_error: 134.2445 - val_loss: 17996.7266 - val_mean_absolute_error: 72.4708 - val_root_mean_squared_error: 134.1519\n",
      "Epoch 13/150\n",
      "Output shape: TensorShape([None, 8, 50, 50, 256])\n"
     ]
    },
    {
     "name": "stderr",
     "output_type": "stream",
     "text": [
      "INFO:root:load_day('NYC_Heat_Test/NYC_summer_2000_01p', '2000-05-25')\n",
      "INFO:root:Total generated samples: 1\n"
     ]
    },
    {
     "name": "stdout",
     "output_type": "stream",
     "text": [
      "1/1 [==============================] - ETA: 0s - loss: 17996.7305 - mean_absolute_error: 72.4708 - root_mean_squared_error: 134.1519Output shape: TensorShape([None, 8, 50, 50, 256])\n"
     ]
    },
    {
     "name": "stderr",
     "output_type": "stream",
     "text": [
      "INFO:root:load_day('NYC_Heat_Test/NYC_summer_2000_01p', '2000-05-25')\n",
      "INFO:root:Total generated samples: 1\n"
     ]
    },
    {
     "name": "stdout",
     "output_type": "stream",
     "text": [
      "1/1 [==============================] - 5s 5s/step - loss: 17996.7305 - mean_absolute_error: 72.4708 - root_mean_squared_error: 134.1519 - val_loss: 17970.5898 - val_mean_absolute_error: 72.3796 - val_root_mean_squared_error: 134.0544\n",
      "Epoch 14/150\n",
      "Output shape: TensorShape([None, 8, 50, 50, 256])\n"
     ]
    },
    {
     "name": "stderr",
     "output_type": "stream",
     "text": [
      "INFO:root:load_day('NYC_Heat_Test/NYC_summer_2000_01p', '2000-05-25')\n",
      "INFO:root:Total generated samples: 1\n"
     ]
    },
    {
     "name": "stdout",
     "output_type": "stream",
     "text": [
      "1/1 [==============================] - ETA: 0s - loss: 17970.5918 - mean_absolute_error: 72.3796 - root_mean_squared_error: 134.0544Output shape: TensorShape([None, 8, 50, 50, 256])\n"
     ]
    },
    {
     "name": "stderr",
     "output_type": "stream",
     "text": [
      "INFO:root:load_day('NYC_Heat_Test/NYC_summer_2000_01p', '2000-05-25')\n",
      "INFO:root:Total generated samples: 1\n"
     ]
    },
    {
     "name": "stdout",
     "output_type": "stream",
     "text": [
      "1/1 [==============================] - 5s 5s/step - loss: 17970.5918 - mean_absolute_error: 72.3796 - root_mean_squared_error: 134.0544 - val_loss: 17943.6523 - val_mean_absolute_error: 72.2907 - val_root_mean_squared_error: 133.9539\n",
      "Epoch 15/150\n",
      "Output shape: TensorShape([None, 8, 50, 50, 256])\n"
     ]
    },
    {
     "name": "stderr",
     "output_type": "stream",
     "text": [
      "INFO:root:load_day('NYC_Heat_Test/NYC_summer_2000_01p', '2000-05-25')\n",
      "INFO:root:Total generated samples: 1\n"
     ]
    },
    {
     "name": "stdout",
     "output_type": "stream",
     "text": [
      "1/1 [==============================] - ETA: 0s - loss: 17943.6484 - mean_absolute_error: 72.2907 - root_mean_squared_error: 133.9539Output shape: TensorShape([None, 8, 50, 50, 256])\n"
     ]
    },
    {
     "name": "stderr",
     "output_type": "stream",
     "text": [
      "INFO:root:load_day('NYC_Heat_Test/NYC_summer_2000_01p', '2000-05-25')\n",
      "INFO:root:Total generated samples: 1\n"
     ]
    },
    {
     "name": "stdout",
     "output_type": "stream",
     "text": [
      "1/1 [==============================] - 5s 5s/step - loss: 17943.6484 - mean_absolute_error: 72.2907 - root_mean_squared_error: 133.9539 - val_loss: 17914.8828 - val_mean_absolute_error: 72.1996 - val_root_mean_squared_error: 133.8465\n",
      "Epoch 16/150\n",
      "Output shape: TensorShape([None, 8, 50, 50, 256])\n"
     ]
    },
    {
     "name": "stderr",
     "output_type": "stream",
     "text": [
      "INFO:root:load_day('NYC_Heat_Test/NYC_summer_2000_01p', '2000-05-25')\n",
      "INFO:root:Total generated samples: 1\n"
     ]
    },
    {
     "name": "stdout",
     "output_type": "stream",
     "text": [
      "1/1 [==============================] - ETA: 0s - loss: 17914.8828 - mean_absolute_error: 72.1996 - root_mean_squared_error: 133.8465Output shape: TensorShape([None, 8, 50, 50, 256])\n"
     ]
    },
    {
     "name": "stderr",
     "output_type": "stream",
     "text": [
      "INFO:root:load_day('NYC_Heat_Test/NYC_summer_2000_01p', '2000-05-25')\n",
      "INFO:root:Total generated samples: 1\n"
     ]
    },
    {
     "name": "stdout",
     "output_type": "stream",
     "text": [
      "1/1 [==============================] - 5s 5s/step - loss: 17914.8828 - mean_absolute_error: 72.1996 - root_mean_squared_error: 133.8465 - val_loss: 17882.3027 - val_mean_absolute_error: 72.0997 - val_root_mean_squared_error: 133.7247\n",
      "Epoch 17/150\n",
      "Output shape: TensorShape([None, 8, 50, 50, 256])\n"
     ]
    },
    {
     "name": "stderr",
     "output_type": "stream",
     "text": [
      "INFO:root:load_day('NYC_Heat_Test/NYC_summer_2000_01p', '2000-05-25')\n",
      "INFO:root:Total generated samples: 1\n"
     ]
    },
    {
     "name": "stdout",
     "output_type": "stream",
     "text": [
      "1/1 [==============================] - ETA: 0s - loss: 17882.3047 - mean_absolute_error: 72.0997 - root_mean_squared_error: 133.7247Output shape: TensorShape([None, 8, 50, 50, 256])\n"
     ]
    },
    {
     "name": "stderr",
     "output_type": "stream",
     "text": [
      "INFO:root:load_day('NYC_Heat_Test/NYC_summer_2000_01p', '2000-05-25')\n",
      "INFO:root:Total generated samples: 1\n"
     ]
    },
    {
     "name": "stdout",
     "output_type": "stream",
     "text": [
      "1/1 [==============================] - 5s 5s/step - loss: 17882.3047 - mean_absolute_error: 72.0997 - root_mean_squared_error: 133.7247 - val_loss: 17845.9316 - val_mean_absolute_error: 71.9867 - val_root_mean_squared_error: 133.5887\n",
      "Epoch 18/150\n",
      "Output shape: TensorShape([None, 8, 50, 50, 256])\n"
     ]
    },
    {
     "name": "stderr",
     "output_type": "stream",
     "text": [
      "INFO:root:load_day('NYC_Heat_Test/NYC_summer_2000_01p', '2000-05-25')\n",
      "INFO:root:Total generated samples: 1\n"
     ]
    },
    {
     "name": "stdout",
     "output_type": "stream",
     "text": [
      "1/1 [==============================] - ETA: 0s - loss: 17845.9336 - mean_absolute_error: 71.9867 - root_mean_squared_error: 133.5887Output shape: TensorShape([None, 8, 50, 50, 256])\n"
     ]
    },
    {
     "name": "stderr",
     "output_type": "stream",
     "text": [
      "INFO:root:load_day('NYC_Heat_Test/NYC_summer_2000_01p', '2000-05-25')\n",
      "INFO:root:Total generated samples: 1\n"
     ]
    },
    {
     "name": "stdout",
     "output_type": "stream",
     "text": [
      "1/1 [==============================] - 5s 5s/step - loss: 17845.9336 - mean_absolute_error: 71.9867 - root_mean_squared_error: 133.5887 - val_loss: 17807.5820 - val_mean_absolute_error: 71.8626 - val_root_mean_squared_error: 133.4450\n",
      "Epoch 19/150\n",
      "Output shape: TensorShape([None, 8, 50, 50, 256])\n"
     ]
    },
    {
     "name": "stderr",
     "output_type": "stream",
     "text": [
      "INFO:root:load_day('NYC_Heat_Test/NYC_summer_2000_01p', '2000-05-25')\n",
      "INFO:root:Total generated samples: 1\n"
     ]
    },
    {
     "name": "stdout",
     "output_type": "stream",
     "text": [
      "1/1 [==============================] - ETA: 0s - loss: 17807.5781 - mean_absolute_error: 71.8626 - root_mean_squared_error: 133.4450Output shape: TensorShape([None, 8, 50, 50, 256])\n"
     ]
    },
    {
     "name": "stderr",
     "output_type": "stream",
     "text": [
      "INFO:root:load_day('NYC_Heat_Test/NYC_summer_2000_01p', '2000-05-25')\n",
      "INFO:root:Total generated samples: 1\n"
     ]
    },
    {
     "name": "stdout",
     "output_type": "stream",
     "text": [
      "1/1 [==============================] - 5s 5s/step - loss: 17807.5781 - mean_absolute_error: 71.8626 - root_mean_squared_error: 133.4450 - val_loss: 17766.2598 - val_mean_absolute_error: 71.7230 - val_root_mean_squared_error: 133.2901\n",
      "Epoch 20/150\n",
      "Output shape: TensorShape([None, 8, 50, 50, 256])\n"
     ]
    },
    {
     "name": "stderr",
     "output_type": "stream",
     "text": [
      "INFO:root:load_day('NYC_Heat_Test/NYC_summer_2000_01p', '2000-05-25')\n",
      "INFO:root:Total generated samples: 1\n"
     ]
    },
    {
     "name": "stdout",
     "output_type": "stream",
     "text": [
      "1/1 [==============================] - ETA: 0s - loss: 17766.2598 - mean_absolute_error: 71.7230 - root_mean_squared_error: 133.2901Output shape: TensorShape([None, 8, 50, 50, 256])\n"
     ]
    },
    {
     "name": "stderr",
     "output_type": "stream",
     "text": [
      "INFO:root:load_day('NYC_Heat_Test/NYC_summer_2000_01p', '2000-05-25')\n",
      "INFO:root:Total generated samples: 1\n"
     ]
    },
    {
     "name": "stdout",
     "output_type": "stream",
     "text": [
      "1/1 [==============================] - 5s 5s/step - loss: 17766.2598 - mean_absolute_error: 71.7230 - root_mean_squared_error: 133.2901 - val_loss: 17721.7422 - val_mean_absolute_error: 71.5658 - val_root_mean_squared_error: 133.1230\n",
      "Epoch 21/150\n",
      "Output shape: TensorShape([None, 8, 50, 50, 256])\n"
     ]
    },
    {
     "name": "stderr",
     "output_type": "stream",
     "text": [
      "INFO:root:load_day('NYC_Heat_Test/NYC_summer_2000_01p', '2000-05-25')\n",
      "INFO:root:Total generated samples: 1\n"
     ]
    },
    {
     "name": "stdout",
     "output_type": "stream",
     "text": [
      "1/1 [==============================] - ETA: 0s - loss: 17721.7598 - mean_absolute_error: 71.5659 - root_mean_squared_error: 133.1231Output shape: TensorShape([None, 8, 50, 50, 256])\n"
     ]
    },
    {
     "name": "stderr",
     "output_type": "stream",
     "text": [
      "INFO:root:load_day('NYC_Heat_Test/NYC_summer_2000_01p', '2000-05-25')\n",
      "INFO:root:Total generated samples: 1\n"
     ]
    },
    {
     "name": "stdout",
     "output_type": "stream",
     "text": [
      "1/1 [==============================] - 4s 4s/step - loss: 17721.7598 - mean_absolute_error: 71.5659 - root_mean_squared_error: 133.1231 - val_loss: 17675.8535 - val_mean_absolute_error: 71.3972 - val_root_mean_squared_error: 132.9506\n",
      "Epoch 22/150\n",
      "Output shape: TensorShape([None, 8, 50, 50, 256])\n"
     ]
    },
    {
     "name": "stderr",
     "output_type": "stream",
     "text": [
      "INFO:root:load_day('NYC_Heat_Test/NYC_summer_2000_01p', '2000-05-25')\n",
      "INFO:root:Total generated samples: 1\n"
     ]
    },
    {
     "name": "stdout",
     "output_type": "stream",
     "text": [
      "1/1 [==============================] - ETA: 0s - loss: 17675.8535 - mean_absolute_error: 71.3972 - root_mean_squared_error: 132.9506Output shape: TensorShape([None, 8, 50, 50, 256])\n"
     ]
    },
    {
     "name": "stderr",
     "output_type": "stream",
     "text": [
      "INFO:root:load_day('NYC_Heat_Test/NYC_summer_2000_01p', '2000-05-25')\n",
      "INFO:root:Total generated samples: 1\n"
     ]
    },
    {
     "name": "stdout",
     "output_type": "stream",
     "text": [
      "1/1 [==============================] - 5s 5s/step - loss: 17675.8535 - mean_absolute_error: 71.3972 - root_mean_squared_error: 132.9506 - val_loss: 17628.1641 - val_mean_absolute_error: 71.2179 - val_root_mean_squared_error: 132.7711\n",
      "Epoch 23/150\n",
      "Output shape: TensorShape([None, 8, 50, 50, 256])\n"
     ]
    },
    {
     "name": "stderr",
     "output_type": "stream",
     "text": [
      "INFO:root:load_day('NYC_Heat_Test/NYC_summer_2000_01p', '2000-05-25')\n",
      "INFO:root:Total generated samples: 1\n"
     ]
    },
    {
     "name": "stdout",
     "output_type": "stream",
     "text": [
      "1/1 [==============================] - ETA: 0s - loss: 17628.1641 - mean_absolute_error: 71.2179 - root_mean_squared_error: 132.7711Output shape: TensorShape([None, 8, 50, 50, 256])\n"
     ]
    },
    {
     "name": "stderr",
     "output_type": "stream",
     "text": [
      "INFO:root:load_day('NYC_Heat_Test/NYC_summer_2000_01p', '2000-05-25')\n",
      "INFO:root:Total generated samples: 1\n"
     ]
    },
    {
     "name": "stdout",
     "output_type": "stream",
     "text": [
      "1/1 [==============================] - 5s 5s/step - loss: 17628.1641 - mean_absolute_error: 71.2179 - root_mean_squared_error: 132.7711 - val_loss: 17578.3164 - val_mean_absolute_error: 71.0272 - val_root_mean_squared_error: 132.5832\n",
      "Epoch 24/150\n",
      "Output shape: TensorShape([None, 8, 50, 50, 256])\n"
     ]
    },
    {
     "name": "stderr",
     "output_type": "stream",
     "text": [
      "INFO:root:load_day('NYC_Heat_Test/NYC_summer_2000_01p', '2000-05-25')\n",
      "INFO:root:Total generated samples: 1\n"
     ]
    },
    {
     "name": "stdout",
     "output_type": "stream",
     "text": [
      "1/1 [==============================] - ETA: 0s - loss: 17578.3066 - mean_absolute_error: 71.0272 - root_mean_squared_error: 132.5832Output shape: TensorShape([None, 8, 50, 50, 256])\n"
     ]
    },
    {
     "name": "stderr",
     "output_type": "stream",
     "text": [
      "INFO:root:load_day('NYC_Heat_Test/NYC_summer_2000_01p', '2000-05-25')\n",
      "INFO:root:Total generated samples: 1\n"
     ]
    },
    {
     "name": "stdout",
     "output_type": "stream",
     "text": [
      "1/1 [==============================] - 5s 5s/step - loss: 17578.3066 - mean_absolute_error: 71.0272 - root_mean_squared_error: 132.5832 - val_loss: 17525.5898 - val_mean_absolute_error: 70.8241 - val_root_mean_squared_error: 132.3842\n",
      "Epoch 25/150\n",
      "Output shape: TensorShape([None, 8, 50, 50, 256])\n"
     ]
    },
    {
     "name": "stderr",
     "output_type": "stream",
     "text": [
      "INFO:root:load_day('NYC_Heat_Test/NYC_summer_2000_01p', '2000-05-25')\n",
      "INFO:root:Total generated samples: 1\n"
     ]
    },
    {
     "name": "stdout",
     "output_type": "stream",
     "text": [
      "1/1 [==============================] - ETA: 0s - loss: 17525.5898 - mean_absolute_error: 70.8241 - root_mean_squared_error: 132.3842Output shape: TensorShape([None, 8, 50, 50, 256])\n"
     ]
    },
    {
     "name": "stderr",
     "output_type": "stream",
     "text": [
      "INFO:root:load_day('NYC_Heat_Test/NYC_summer_2000_01p', '2000-05-25')\n",
      "INFO:root:Total generated samples: 1\n"
     ]
    },
    {
     "name": "stdout",
     "output_type": "stream",
     "text": [
      "1/1 [==============================] - 5s 5s/step - loss: 17525.5898 - mean_absolute_error: 70.8241 - root_mean_squared_error: 132.3842 - val_loss: 17469.9121 - val_mean_absolute_error: 70.6083 - val_root_mean_squared_error: 132.1738\n",
      "Epoch 26/150\n",
      "Output shape: TensorShape([None, 8, 50, 50, 256])\n"
     ]
    },
    {
     "name": "stderr",
     "output_type": "stream",
     "text": [
      "INFO:root:load_day('NYC_Heat_Test/NYC_summer_2000_01p', '2000-05-25')\n",
      "INFO:root:Total generated samples: 1\n"
     ]
    },
    {
     "name": "stdout",
     "output_type": "stream",
     "text": [
      "1/1 [==============================] - ETA: 0s - loss: 17469.9336 - mean_absolute_error: 70.6084 - root_mean_squared_error: 132.1739Output shape: TensorShape([None, 8, 50, 50, 256])\n"
     ]
    },
    {
     "name": "stderr",
     "output_type": "stream",
     "text": [
      "INFO:root:load_day('NYC_Heat_Test/NYC_summer_2000_01p', '2000-05-25')\n",
      "INFO:root:Total generated samples: 1\n"
     ]
    },
    {
     "name": "stdout",
     "output_type": "stream",
     "text": [
      "1/1 [==============================] - 5s 5s/step - loss: 17469.9336 - mean_absolute_error: 70.6084 - root_mean_squared_error: 132.1739 - val_loss: 17412.6309 - val_mean_absolute_error: 70.3858 - val_root_mean_squared_error: 131.9569\n",
      "Epoch 27/150\n",
      "Output shape: TensorShape([None, 8, 50, 50, 256])\n"
     ]
    },
    {
     "name": "stderr",
     "output_type": "stream",
     "text": [
      "INFO:root:load_day('NYC_Heat_Test/NYC_summer_2000_01p', '2000-05-25')\n",
      "INFO:root:Total generated samples: 1\n"
     ]
    },
    {
     "name": "stdout",
     "output_type": "stream",
     "text": [
      "1/1 [==============================] - ETA: 0s - loss: 17412.6309 - mean_absolute_error: 70.3858 - root_mean_squared_error: 131.9569Output shape: TensorShape([None, 8, 50, 50, 256])\n"
     ]
    },
    {
     "name": "stderr",
     "output_type": "stream",
     "text": [
      "INFO:root:load_day('NYC_Heat_Test/NYC_summer_2000_01p', '2000-05-25')\n",
      "INFO:root:Total generated samples: 1\n"
     ]
    },
    {
     "name": "stdout",
     "output_type": "stream",
     "text": [
      "1/1 [==============================] - 5s 5s/step - loss: 17412.6309 - mean_absolute_error: 70.3858 - root_mean_squared_error: 131.9569 - val_loss: 17352.6953 - val_mean_absolute_error: 70.1531 - val_root_mean_squared_error: 131.7296\n",
      "Epoch 28/150\n",
      "Output shape: TensorShape([None, 8, 50, 50, 256])\n"
     ]
    },
    {
     "name": "stderr",
     "output_type": "stream",
     "text": [
      "INFO:root:load_day('NYC_Heat_Test/NYC_summer_2000_01p', '2000-05-25')\n",
      "INFO:root:Total generated samples: 1\n"
     ]
    },
    {
     "name": "stdout",
     "output_type": "stream",
     "text": [
      "1/1 [==============================] - ETA: 0s - loss: 17352.6953 - mean_absolute_error: 70.1531 - root_mean_squared_error: 131.7296Output shape: TensorShape([None, 8, 50, 50, 256])\n"
     ]
    },
    {
     "name": "stderr",
     "output_type": "stream",
     "text": [
      "INFO:root:load_day('NYC_Heat_Test/NYC_summer_2000_01p', '2000-05-25')\n",
      "INFO:root:Total generated samples: 1\n"
     ]
    },
    {
     "name": "stdout",
     "output_type": "stream",
     "text": [
      "1/1 [==============================] - 5s 5s/step - loss: 17352.6953 - mean_absolute_error: 70.1531 - root_mean_squared_error: 131.7296 - val_loss: 17289.8789 - val_mean_absolute_error: 69.9091 - val_root_mean_squared_error: 131.4910\n",
      "Epoch 29/150\n",
      "Output shape: TensorShape([None, 8, 50, 50, 256])\n"
     ]
    },
    {
     "name": "stderr",
     "output_type": "stream",
     "text": [
      "INFO:root:load_day('NYC_Heat_Test/NYC_summer_2000_01p', '2000-05-25')\n",
      "INFO:root:Total generated samples: 1\n"
     ]
    },
    {
     "name": "stdout",
     "output_type": "stream",
     "text": [
      "1/1 [==============================] - ETA: 0s - loss: 17289.8789 - mean_absolute_error: 69.9091 - root_mean_squared_error: 131.4910Output shape: TensorShape([None, 8, 50, 50, 256])\n"
     ]
    },
    {
     "name": "stderr",
     "output_type": "stream",
     "text": [
      "INFO:root:load_day('NYC_Heat_Test/NYC_summer_2000_01p', '2000-05-25')\n",
      "INFO:root:Total generated samples: 1\n"
     ]
    },
    {
     "name": "stdout",
     "output_type": "stream",
     "text": [
      "1/1 [==============================] - 5s 5s/step - loss: 17289.8789 - mean_absolute_error: 69.9091 - root_mean_squared_error: 131.4910 - val_loss: 17224.1113 - val_mean_absolute_error: 69.6535 - val_root_mean_squared_error: 131.2407\n",
      "Epoch 30/150\n",
      "Output shape: TensorShape([None, 8, 50, 50, 256])\n"
     ]
    },
    {
     "name": "stderr",
     "output_type": "stream",
     "text": [
      "INFO:root:load_day('NYC_Heat_Test/NYC_summer_2000_01p', '2000-05-25')\n",
      "INFO:root:Total generated samples: 1\n"
     ]
    },
    {
     "name": "stdout",
     "output_type": "stream",
     "text": [
      "1/1 [==============================] - ETA: 0s - loss: 17224.1113 - mean_absolute_error: 69.6535 - root_mean_squared_error: 131.2407Output shape: TensorShape([None, 8, 50, 50, 256])\n"
     ]
    },
    {
     "name": "stderr",
     "output_type": "stream",
     "text": [
      "INFO:root:load_day('NYC_Heat_Test/NYC_summer_2000_01p', '2000-05-25')\n",
      "INFO:root:Total generated samples: 1\n"
     ]
    },
    {
     "name": "stdout",
     "output_type": "stream",
     "text": [
      "1/1 [==============================] - 4s 4s/step - loss: 17224.1113 - mean_absolute_error: 69.6535 - root_mean_squared_error: 131.2407 - val_loss: 17155.4121 - val_mean_absolute_error: 69.3857 - val_root_mean_squared_error: 130.9787\n",
      "Epoch 31/150\n",
      "Output shape: TensorShape([None, 8, 50, 50, 256])\n"
     ]
    },
    {
     "name": "stderr",
     "output_type": "stream",
     "text": [
      "INFO:root:load_day('NYC_Heat_Test/NYC_summer_2000_01p', '2000-05-25')\n",
      "INFO:root:Total generated samples: 1\n"
     ]
    },
    {
     "name": "stdout",
     "output_type": "stream",
     "text": [
      "1/1 [==============================] - ETA: 0s - loss: 17155.4121 - mean_absolute_error: 69.3857 - root_mean_squared_error: 130.9787Output shape: TensorShape([None, 8, 50, 50, 256])\n"
     ]
    },
    {
     "name": "stderr",
     "output_type": "stream",
     "text": [
      "INFO:root:load_day('NYC_Heat_Test/NYC_summer_2000_01p', '2000-05-25')\n",
      "INFO:root:Total generated samples: 1\n"
     ]
    },
    {
     "name": "stdout",
     "output_type": "stream",
     "text": [
      "1/1 [==============================] - 4s 4s/step - loss: 17155.4121 - mean_absolute_error: 69.3857 - root_mean_squared_error: 130.9787 - val_loss: 17083.8711 - val_mean_absolute_error: 69.1052 - val_root_mean_squared_error: 130.7053\n",
      "Epoch 32/150\n",
      "Output shape: TensorShape([None, 8, 50, 50, 256])\n"
     ]
    },
    {
     "name": "stderr",
     "output_type": "stream",
     "text": [
      "INFO:root:load_day('NYC_Heat_Test/NYC_summer_2000_01p', '2000-05-25')\n",
      "INFO:root:Total generated samples: 1\n"
     ]
    },
    {
     "name": "stdout",
     "output_type": "stream",
     "text": [
      "1/1 [==============================] - ETA: 0s - loss: 17083.8711 - mean_absolute_error: 69.1052 - root_mean_squared_error: 130.7053Output shape: TensorShape([None, 8, 50, 50, 256])\n"
     ]
    },
    {
     "name": "stderr",
     "output_type": "stream",
     "text": [
      "INFO:root:load_day('NYC_Heat_Test/NYC_summer_2000_01p', '2000-05-25')\n",
      "INFO:root:Total generated samples: 1\n"
     ]
    },
    {
     "name": "stdout",
     "output_type": "stream",
     "text": [
      "1/1 [==============================] - 5s 5s/step - loss: 17083.8711 - mean_absolute_error: 69.1052 - root_mean_squared_error: 130.7053 - val_loss: 17009.3633 - val_mean_absolute_error: 68.8112 - val_root_mean_squared_error: 130.4200\n",
      "Epoch 33/150\n",
      "Output shape: TensorShape([None, 8, 50, 50, 256])\n"
     ]
    },
    {
     "name": "stderr",
     "output_type": "stream",
     "text": [
      "INFO:root:load_day('NYC_Heat_Test/NYC_summer_2000_01p', '2000-05-25')\n",
      "INFO:root:Total generated samples: 1\n"
     ]
    },
    {
     "name": "stdout",
     "output_type": "stream",
     "text": [
      "1/1 [==============================] - ETA: 0s - loss: 17009.3633 - mean_absolute_error: 68.8112 - root_mean_squared_error: 130.4200Output shape: TensorShape([None, 8, 50, 50, 256])\n"
     ]
    },
    {
     "name": "stderr",
     "output_type": "stream",
     "text": [
      "INFO:root:load_day('NYC_Heat_Test/NYC_summer_2000_01p', '2000-05-25')\n",
      "INFO:root:Total generated samples: 1\n"
     ]
    },
    {
     "name": "stdout",
     "output_type": "stream",
     "text": [
      "1/1 [==============================] - 5s 5s/step - loss: 17009.3633 - mean_absolute_error: 68.8112 - root_mean_squared_error: 130.4200 - val_loss: 16931.8281 - val_mean_absolute_error: 68.5036 - val_root_mean_squared_error: 130.1224\n",
      "Epoch 34/150\n",
      "Output shape: TensorShape([None, 8, 50, 50, 256])\n"
     ]
    },
    {
     "name": "stderr",
     "output_type": "stream",
     "text": [
      "INFO:root:load_day('NYC_Heat_Test/NYC_summer_2000_01p', '2000-05-25')\n",
      "INFO:root:Total generated samples: 1\n"
     ]
    },
    {
     "name": "stdout",
     "output_type": "stream",
     "text": [
      "1/1 [==============================] - ETA: 0s - loss: 16931.8281 - mean_absolute_error: 68.5036 - root_mean_squared_error: 130.1224Output shape: TensorShape([None, 8, 50, 50, 256])\n"
     ]
    },
    {
     "name": "stderr",
     "output_type": "stream",
     "text": [
      "INFO:root:load_day('NYC_Heat_Test/NYC_summer_2000_01p', '2000-05-25')\n",
      "INFO:root:Total generated samples: 1\n"
     ]
    },
    {
     "name": "stdout",
     "output_type": "stream",
     "text": [
      "1/1 [==============================] - 5s 5s/step - loss: 16931.8281 - mean_absolute_error: 68.5036 - root_mean_squared_error: 130.1224 - val_loss: 16851.1836 - val_mean_absolute_error: 68.1816 - val_root_mean_squared_error: 129.8121\n",
      "Epoch 35/150\n",
      "Output shape: TensorShape([None, 8, 50, 50, 256])\n"
     ]
    },
    {
     "name": "stderr",
     "output_type": "stream",
     "text": [
      "INFO:root:load_day('NYC_Heat_Test/NYC_summer_2000_01p', '2000-05-25')\n",
      "INFO:root:Total generated samples: 1\n"
     ]
    },
    {
     "name": "stdout",
     "output_type": "stream",
     "text": [
      "1/1 [==============================] - ETA: 0s - loss: 16851.1836 - mean_absolute_error: 68.1816 - root_mean_squared_error: 129.8121Output shape: TensorShape([None, 8, 50, 50, 256])\n"
     ]
    },
    {
     "name": "stderr",
     "output_type": "stream",
     "text": [
      "INFO:root:load_day('NYC_Heat_Test/NYC_summer_2000_01p', '2000-05-25')\n",
      "INFO:root:Total generated samples: 1\n"
     ]
    },
    {
     "name": "stdout",
     "output_type": "stream",
     "text": [
      "1/1 [==============================] - 5s 5s/step - loss: 16851.1836 - mean_absolute_error: 68.1816 - root_mean_squared_error: 129.8121 - val_loss: 16767.6934 - val_mean_absolute_error: 67.8456 - val_root_mean_squared_error: 129.4901\n",
      "Epoch 36/150\n",
      "Output shape: TensorShape([None, 8, 50, 50, 256])\n"
     ]
    },
    {
     "name": "stderr",
     "output_type": "stream",
     "text": [
      "INFO:root:load_day('NYC_Heat_Test/NYC_summer_2000_01p', '2000-05-25')\n",
      "INFO:root:Total generated samples: 1\n"
     ]
    },
    {
     "name": "stdout",
     "output_type": "stream",
     "text": [
      "1/1 [==============================] - ETA: 0s - loss: 16767.6934 - mean_absolute_error: 67.8456 - root_mean_squared_error: 129.4901Output shape: TensorShape([None, 8, 50, 50, 256])\n"
     ]
    },
    {
     "name": "stderr",
     "output_type": "stream",
     "text": [
      "INFO:root:load_day('NYC_Heat_Test/NYC_summer_2000_01p', '2000-05-25')\n",
      "INFO:root:Total generated samples: 1\n"
     ]
    },
    {
     "name": "stdout",
     "output_type": "stream",
     "text": [
      "1/1 [==============================] - 5s 5s/step - loss: 16767.6934 - mean_absolute_error: 67.8456 - root_mean_squared_error: 129.4901 - val_loss: 16681.1562 - val_mean_absolute_error: 67.4954 - val_root_mean_squared_error: 129.1555\n",
      "Epoch 37/150\n",
      "Output shape: TensorShape([None, 8, 50, 50, 256])\n"
     ]
    },
    {
     "name": "stderr",
     "output_type": "stream",
     "text": [
      "INFO:root:load_day('NYC_Heat_Test/NYC_summer_2000_01p', '2000-05-25')\n",
      "INFO:root:Total generated samples: 1\n"
     ]
    },
    {
     "name": "stdout",
     "output_type": "stream",
     "text": [
      "1/1 [==============================] - ETA: 0s - loss: 16681.1562 - mean_absolute_error: 67.4954 - root_mean_squared_error: 129.1555Output shape: TensorShape([None, 8, 50, 50, 256])\n"
     ]
    },
    {
     "name": "stderr",
     "output_type": "stream",
     "text": [
      "INFO:root:load_day('NYC_Heat_Test/NYC_summer_2000_01p', '2000-05-25')\n",
      "INFO:root:Total generated samples: 1\n"
     ]
    },
    {
     "name": "stdout",
     "output_type": "stream",
     "text": [
      "1/1 [==============================] - 5s 5s/step - loss: 16681.1562 - mean_absolute_error: 67.4954 - root_mean_squared_error: 129.1555 - val_loss: 16591.5391 - val_mean_absolute_error: 67.1310 - val_root_mean_squared_error: 128.8082\n",
      "Epoch 38/150\n",
      "Output shape: TensorShape([None, 8, 50, 50, 256])\n"
     ]
    },
    {
     "name": "stderr",
     "output_type": "stream",
     "text": [
      "INFO:root:load_day('NYC_Heat_Test/NYC_summer_2000_01p', '2000-05-25')\n",
      "INFO:root:Total generated samples: 1\n"
     ]
    },
    {
     "name": "stdout",
     "output_type": "stream",
     "text": [
      "1/1 [==============================] - ETA: 0s - loss: 16591.5391 - mean_absolute_error: 67.1310 - root_mean_squared_error: 128.8082Output shape: TensorShape([None, 8, 50, 50, 256])\n"
     ]
    },
    {
     "name": "stderr",
     "output_type": "stream",
     "text": [
      "INFO:root:load_day('NYC_Heat_Test/NYC_summer_2000_01p', '2000-05-25')\n",
      "INFO:root:Total generated samples: 1\n"
     ]
    },
    {
     "name": "stdout",
     "output_type": "stream",
     "text": [
      "1/1 [==============================] - 5s 5s/step - loss: 16591.5391 - mean_absolute_error: 67.1310 - root_mean_squared_error: 128.8082 - val_loss: 16498.7617 - val_mean_absolute_error: 66.7532 - val_root_mean_squared_error: 128.4475\n",
      "Epoch 39/150\n",
      "Output shape: TensorShape([None, 8, 50, 50, 256])\n"
     ]
    },
    {
     "name": "stderr",
     "output_type": "stream",
     "text": [
      "INFO:root:load_day('NYC_Heat_Test/NYC_summer_2000_01p', '2000-05-25')\n",
      "INFO:root:Total generated samples: 1\n"
     ]
    },
    {
     "name": "stdout",
     "output_type": "stream",
     "text": [
      "1/1 [==============================] - ETA: 0s - loss: 16498.7715 - mean_absolute_error: 66.7532 - root_mean_squared_error: 128.4475Output shape: TensorShape([None, 8, 50, 50, 256])\n"
     ]
    },
    {
     "name": "stderr",
     "output_type": "stream",
     "text": [
      "INFO:root:load_day('NYC_Heat_Test/NYC_summer_2000_01p', '2000-05-25')\n",
      "INFO:root:Total generated samples: 1\n"
     ]
    },
    {
     "name": "stdout",
     "output_type": "stream",
     "text": [
      "1/1 [==============================] - 4s 4s/step - loss: 16498.7715 - mean_absolute_error: 66.7532 - root_mean_squared_error: 128.4475 - val_loss: 16399.5176 - val_mean_absolute_error: 66.3503 - val_root_mean_squared_error: 128.0606\n",
      "Epoch 40/150\n",
      "Output shape: TensorShape([None, 8, 50, 50, 256])\n"
     ]
    },
    {
     "name": "stderr",
     "output_type": "stream",
     "text": [
      "INFO:root:load_day('NYC_Heat_Test/NYC_summer_2000_01p', '2000-05-25')\n",
      "INFO:root:Total generated samples: 1\n"
     ]
    },
    {
     "name": "stdout",
     "output_type": "stream",
     "text": [
      "1/1 [==============================] - ETA: 0s - loss: 16399.5684 - mean_absolute_error: 66.3505 - root_mean_squared_error: 128.0608Output shape: TensorShape([None, 8, 50, 50, 256])\n"
     ]
    },
    {
     "name": "stderr",
     "output_type": "stream",
     "text": [
      "INFO:root:load_day('NYC_Heat_Test/NYC_summer_2000_01p', '2000-05-25')\n",
      "INFO:root:Total generated samples: 1\n"
     ]
    },
    {
     "name": "stdout",
     "output_type": "stream",
     "text": [
      "1/1 [==============================] - 5s 5s/step - loss: 16399.5684 - mean_absolute_error: 66.3505 - root_mean_squared_error: 128.0608 - val_loss: 16300.1055 - val_mean_absolute_error: 65.9483 - val_root_mean_squared_error: 127.6719\n",
      "Epoch 41/150\n",
      "Output shape: TensorShape([None, 8, 50, 50, 256])\n"
     ]
    },
    {
     "name": "stderr",
     "output_type": "stream",
     "text": [
      "INFO:root:load_day('NYC_Heat_Test/NYC_summer_2000_01p', '2000-05-25')\n",
      "INFO:root:Total generated samples: 1\n"
     ]
    },
    {
     "name": "stdout",
     "output_type": "stream",
     "text": [
      "1/1 [==============================] - ETA: 0s - loss: 16300.1035 - mean_absolute_error: 65.9483 - root_mean_squared_error: 127.6719Output shape: TensorShape([None, 8, 50, 50, 256])\n"
     ]
    },
    {
     "name": "stderr",
     "output_type": "stream",
     "text": [
      "INFO:root:load_day('NYC_Heat_Test/NYC_summer_2000_01p', '2000-05-25')\n",
      "INFO:root:Total generated samples: 1\n"
     ]
    },
    {
     "name": "stdout",
     "output_type": "stream",
     "text": [
      "1/1 [==============================] - 4s 4s/step - loss: 16300.1035 - mean_absolute_error: 65.9483 - root_mean_squared_error: 127.6719 - val_loss: 16197.5713 - val_mean_absolute_error: 65.5367 - val_root_mean_squared_error: 127.2697\n",
      "Epoch 42/150\n",
      "Output shape: TensorShape([None, 8, 50, 50, 256])\n"
     ]
    },
    {
     "name": "stderr",
     "output_type": "stream",
     "text": [
      "INFO:root:load_day('NYC_Heat_Test/NYC_summer_2000_01p', '2000-05-25')\n",
      "INFO:root:Total generated samples: 1\n"
     ]
    },
    {
     "name": "stdout",
     "output_type": "stream",
     "text": [
      "1/1 [==============================] - ETA: 0s - loss: 16197.5791 - mean_absolute_error: 65.5367 - root_mean_squared_error: 127.2697Output shape: TensorShape([None, 8, 50, 50, 256])\n"
     ]
    },
    {
     "name": "stderr",
     "output_type": "stream",
     "text": [
      "INFO:root:load_day('NYC_Heat_Test/NYC_summer_2000_01p', '2000-05-25')\n",
      "INFO:root:Total generated samples: 1\n"
     ]
    },
    {
     "name": "stdout",
     "output_type": "stream",
     "text": [
      "1/1 [==============================] - 5s 5s/step - loss: 16197.5791 - mean_absolute_error: 65.5367 - root_mean_squared_error: 127.2697 - val_loss: 16093.2803 - val_mean_absolute_error: 65.1223 - val_root_mean_squared_error: 126.8593\n",
      "Epoch 43/150\n",
      "Output shape: TensorShape([None, 8, 50, 50, 256])\n"
     ]
    },
    {
     "name": "stderr",
     "output_type": "stream",
     "text": [
      "INFO:root:load_day('NYC_Heat_Test/NYC_summer_2000_01p', '2000-05-25')\n",
      "INFO:root:Total generated samples: 1\n"
     ]
    },
    {
     "name": "stdout",
     "output_type": "stream",
     "text": [
      "1/1 [==============================] - ETA: 0s - loss: 16093.2861 - mean_absolute_error: 65.1224 - root_mean_squared_error: 126.8593Output shape: TensorShape([None, 8, 50, 50, 256])\n"
     ]
    },
    {
     "name": "stderr",
     "output_type": "stream",
     "text": [
      "INFO:root:load_day('NYC_Heat_Test/NYC_summer_2000_01p', '2000-05-25')\n",
      "INFO:root:Total generated samples: 1\n"
     ]
    },
    {
     "name": "stdout",
     "output_type": "stream",
     "text": [
      "1/1 [==============================] - 5s 5s/step - loss: 16093.2861 - mean_absolute_error: 65.1224 - root_mean_squared_error: 126.8593 - val_loss: 15985.5039 - val_mean_absolute_error: 64.6992 - val_root_mean_squared_error: 126.4338\n",
      "Epoch 44/150\n",
      "Output shape: TensorShape([None, 8, 50, 50, 256])\n"
     ]
    },
    {
     "name": "stderr",
     "output_type": "stream",
     "text": [
      "INFO:root:load_day('NYC_Heat_Test/NYC_summer_2000_01p', '2000-05-25')\n",
      "INFO:root:Total generated samples: 1\n"
     ]
    },
    {
     "name": "stdout",
     "output_type": "stream",
     "text": [
      "1/1 [==============================] - ETA: 0s - loss: 15985.5068 - mean_absolute_error: 64.6992 - root_mean_squared_error: 126.4338Output shape: TensorShape([None, 8, 50, 50, 256])\n"
     ]
    },
    {
     "name": "stderr",
     "output_type": "stream",
     "text": [
      "INFO:root:load_day('NYC_Heat_Test/NYC_summer_2000_01p', '2000-05-25')\n",
      "INFO:root:Total generated samples: 1\n"
     ]
    },
    {
     "name": "stdout",
     "output_type": "stream",
     "text": [
      "1/1 [==============================] - 5s 5s/step - loss: 15985.5068 - mean_absolute_error: 64.6992 - root_mean_squared_error: 126.4338 - val_loss: 15874.9570 - val_mean_absolute_error: 64.2714 - val_root_mean_squared_error: 125.9959\n",
      "Epoch 45/150\n",
      "Output shape: TensorShape([None, 8, 50, 50, 256])\n"
     ]
    },
    {
     "name": "stderr",
     "output_type": "stream",
     "text": [
      "INFO:root:load_day('NYC_Heat_Test/NYC_summer_2000_01p', '2000-05-25')\n",
      "INFO:root:Total generated samples: 1\n"
     ]
    },
    {
     "name": "stdout",
     "output_type": "stream",
     "text": [
      "1/1 [==============================] - ETA: 0s - loss: 15874.9404 - mean_absolute_error: 64.2714 - root_mean_squared_error: 125.9958Output shape: TensorShape([None, 8, 50, 50, 256])\n"
     ]
    },
    {
     "name": "stderr",
     "output_type": "stream",
     "text": [
      "INFO:root:load_day('NYC_Heat_Test/NYC_summer_2000_01p', '2000-05-25')\n",
      "INFO:root:Total generated samples: 1\n"
     ]
    },
    {
     "name": "stdout",
     "output_type": "stream",
     "text": [
      "1/1 [==============================] - 5s 5s/step - loss: 15874.9404 - mean_absolute_error: 64.2714 - root_mean_squared_error: 125.9958 - val_loss: 15760.2979 - val_mean_absolute_error: 63.8343 - val_root_mean_squared_error: 125.5400\n",
      "Epoch 46/150\n",
      "Output shape: TensorShape([None, 8, 50, 50, 256])\n"
     ]
    },
    {
     "name": "stderr",
     "output_type": "stream",
     "text": [
      "INFO:root:load_day('NYC_Heat_Test/NYC_summer_2000_01p', '2000-05-25')\n",
      "INFO:root:Total generated samples: 1\n"
     ]
    },
    {
     "name": "stdout",
     "output_type": "stream",
     "text": [
      "1/1 [==============================] - ETA: 0s - loss: 15760.3057 - mean_absolute_error: 63.8343 - root_mean_squared_error: 125.5401Output shape: TensorShape([None, 8, 50, 50, 256])\n"
     ]
    },
    {
     "name": "stderr",
     "output_type": "stream",
     "text": [
      "INFO:root:load_day('NYC_Heat_Test/NYC_summer_2000_01p', '2000-05-25')\n",
      "INFO:root:Total generated samples: 1\n"
     ]
    },
    {
     "name": "stdout",
     "output_type": "stream",
     "text": [
      "1/1 [==============================] - 5s 5s/step - loss: 15760.3057 - mean_absolute_error: 63.8343 - root_mean_squared_error: 125.5401 - val_loss: 15640.9717 - val_mean_absolute_error: 63.3893 - val_root_mean_squared_error: 125.0639\n",
      "Epoch 47/150\n",
      "Output shape: TensorShape([None, 8, 50, 50, 256])\n"
     ]
    },
    {
     "name": "stderr",
     "output_type": "stream",
     "text": [
      "INFO:root:load_day('NYC_Heat_Test/NYC_summer_2000_01p', '2000-05-25')\n",
      "INFO:root:Total generated samples: 1\n"
     ]
    },
    {
     "name": "stdout",
     "output_type": "stream",
     "text": [
      "1/1 [==============================] - ETA: 0s - loss: 15640.9795 - mean_absolute_error: 63.3893 - root_mean_squared_error: 125.0639Output shape: TensorShape([None, 8, 50, 50, 256])\n"
     ]
    },
    {
     "name": "stderr",
     "output_type": "stream",
     "text": [
      "INFO:root:load_day('NYC_Heat_Test/NYC_summer_2000_01p', '2000-05-25')\n",
      "INFO:root:Total generated samples: 1\n"
     ]
    },
    {
     "name": "stdout",
     "output_type": "stream",
     "text": [
      "1/1 [==============================] - 5s 5s/step - loss: 15640.9795 - mean_absolute_error: 63.3893 - root_mean_squared_error: 125.0639 - val_loss: 15522.8721 - val_mean_absolute_error: 62.9568 - val_root_mean_squared_error: 124.5908\n",
      "Epoch 48/150\n",
      "Output shape: TensorShape([None, 8, 50, 50, 256])\n"
     ]
    },
    {
     "name": "stderr",
     "output_type": "stream",
     "text": [
      "INFO:root:load_day('NYC_Heat_Test/NYC_summer_2000_01p', '2000-05-25')\n",
      "INFO:root:Total generated samples: 1\n"
     ]
    },
    {
     "name": "stdout",
     "output_type": "stream",
     "text": [
      "1/1 [==============================] - ETA: 0s - loss: 15522.8721 - mean_absolute_error: 62.9568 - root_mean_squared_error: 124.5908Output shape: TensorShape([None, 8, 50, 50, 256])\n"
     ]
    },
    {
     "name": "stderr",
     "output_type": "stream",
     "text": [
      "INFO:root:load_day('NYC_Heat_Test/NYC_summer_2000_01p', '2000-05-25')\n",
      "INFO:root:Total generated samples: 1\n"
     ]
    },
    {
     "name": "stdout",
     "output_type": "stream",
     "text": [
      "1/1 [==============================] - 4s 4s/step - loss: 15522.8721 - mean_absolute_error: 62.9568 - root_mean_squared_error: 124.5908 - val_loss: 15402.3564 - val_mean_absolute_error: 62.5245 - val_root_mean_squared_error: 124.1062\n",
      "Epoch 49/150\n",
      "Output shape: TensorShape([None, 8, 50, 50, 256])\n"
     ]
    },
    {
     "name": "stderr",
     "output_type": "stream",
     "text": [
      "INFO:root:load_day('NYC_Heat_Test/NYC_summer_2000_01p', '2000-05-25')\n",
      "INFO:root:Total generated samples: 1\n"
     ]
    },
    {
     "name": "stdout",
     "output_type": "stream",
     "text": [
      "1/1 [==============================] - ETA: 0s - loss: 15402.3564 - mean_absolute_error: 62.5245 - root_mean_squared_error: 124.1062Output shape: TensorShape([None, 8, 50, 50, 256])\n"
     ]
    },
    {
     "name": "stderr",
     "output_type": "stream",
     "text": [
      "INFO:root:load_day('NYC_Heat_Test/NYC_summer_2000_01p', '2000-05-25')\n",
      "INFO:root:Total generated samples: 1\n"
     ]
    },
    {
     "name": "stdout",
     "output_type": "stream",
     "text": [
      "1/1 [==============================] - 4s 4s/step - loss: 15402.3564 - mean_absolute_error: 62.5245 - root_mean_squared_error: 124.1062 - val_loss: 15279.2959 - val_mean_absolute_error: 62.0912 - val_root_mean_squared_error: 123.6094\n",
      "Epoch 50/150\n",
      "Output shape: TensorShape([None, 8, 50, 50, 256])\n"
     ]
    },
    {
     "name": "stderr",
     "output_type": "stream",
     "text": [
      "INFO:root:load_day('NYC_Heat_Test/NYC_summer_2000_01p', '2000-05-25')\n",
      "INFO:root:Total generated samples: 1\n"
     ]
    },
    {
     "name": "stdout",
     "output_type": "stream",
     "text": [
      "1/1 [==============================] - ETA: 0s - loss: 15279.2578 - mean_absolute_error: 62.0910 - root_mean_squared_error: 123.6093Output shape: TensorShape([None, 8, 50, 50, 256])\n"
     ]
    },
    {
     "name": "stderr",
     "output_type": "stream",
     "text": [
      "INFO:root:load_day('NYC_Heat_Test/NYC_summer_2000_01p', '2000-05-25')\n",
      "INFO:root:Total generated samples: 1\n"
     ]
    },
    {
     "name": "stdout",
     "output_type": "stream",
     "text": [
      "1/1 [==============================] - 5s 5s/step - loss: 15279.2578 - mean_absolute_error: 62.0910 - root_mean_squared_error: 123.6093 - val_loss: 15152.7520 - val_mean_absolute_error: 61.6541 - val_root_mean_squared_error: 123.0965\n",
      "Epoch 51/150\n",
      "Output shape: TensorShape([None, 8, 50, 50, 256])\n"
     ]
    },
    {
     "name": "stderr",
     "output_type": "stream",
     "text": [
      "INFO:root:load_day('NYC_Heat_Test/NYC_summer_2000_01p', '2000-05-25')\n",
      "INFO:root:Total generated samples: 1\n"
     ]
    },
    {
     "name": "stdout",
     "output_type": "stream",
     "text": [
      "1/1 [==============================] - ETA: 0s - loss: 15152.7568 - mean_absolute_error: 61.6541 - root_mean_squared_error: 123.0965Output shape: TensorShape([None, 8, 50, 50, 256])\n"
     ]
    },
    {
     "name": "stderr",
     "output_type": "stream",
     "text": [
      "INFO:root:load_day('NYC_Heat_Test/NYC_summer_2000_01p', '2000-05-25')\n",
      "INFO:root:Total generated samples: 1\n"
     ]
    },
    {
     "name": "stdout",
     "output_type": "stream",
     "text": [
      "1/1 [==============================] - 5s 5s/step - loss: 15152.7568 - mean_absolute_error: 61.6541 - root_mean_squared_error: 123.0965 - val_loss: 15025.2812 - val_mean_absolute_error: 61.2202 - val_root_mean_squared_error: 122.5777\n",
      "Epoch 52/150\n",
      "Output shape: TensorShape([None, 8, 50, 50, 256])\n"
     ]
    },
    {
     "name": "stderr",
     "output_type": "stream",
     "text": [
      "INFO:root:load_day('NYC_Heat_Test/NYC_summer_2000_01p', '2000-05-25')\n",
      "INFO:root:Total generated samples: 1\n"
     ]
    },
    {
     "name": "stdout",
     "output_type": "stream",
     "text": [
      "1/1 [==============================] - ETA: 0s - loss: 15025.2900 - mean_absolute_error: 61.2203 - root_mean_squared_error: 122.5777Output shape: TensorShape([None, 8, 50, 50, 256])\n"
     ]
    },
    {
     "name": "stderr",
     "output_type": "stream",
     "text": [
      "INFO:root:load_day('NYC_Heat_Test/NYC_summer_2000_01p', '2000-05-25')\n",
      "INFO:root:Total generated samples: 1\n"
     ]
    },
    {
     "name": "stdout",
     "output_type": "stream",
     "text": [
      "1/1 [==============================] - 5s 5s/step - loss: 15025.2900 - mean_absolute_error: 61.2203 - root_mean_squared_error: 122.5777 - val_loss: 14895.4482 - val_mean_absolute_error: 60.7883 - val_root_mean_squared_error: 122.0469\n",
      "Epoch 53/150\n",
      "Output shape: TensorShape([None, 8, 50, 50, 256])\n"
     ]
    },
    {
     "name": "stderr",
     "output_type": "stream",
     "text": [
      "INFO:root:load_day('NYC_Heat_Test/NYC_summer_2000_01p', '2000-05-25')\n",
      "INFO:root:Total generated samples: 1\n"
     ]
    },
    {
     "name": "stdout",
     "output_type": "stream",
     "text": [
      "1/1 [==============================] - ETA: 0s - loss: 14895.4463 - mean_absolute_error: 60.7883 - root_mean_squared_error: 122.0469Output shape: TensorShape([None, 8, 50, 50, 256])\n"
     ]
    },
    {
     "name": "stderr",
     "output_type": "stream",
     "text": [
      "INFO:root:load_day('NYC_Heat_Test/NYC_summer_2000_01p', '2000-05-25')\n",
      "INFO:root:Total generated samples: 1\n"
     ]
    },
    {
     "name": "stdout",
     "output_type": "stream",
     "text": [
      "1/1 [==============================] - 5s 5s/step - loss: 14895.4463 - mean_absolute_error: 60.7883 - root_mean_squared_error: 122.0469 - val_loss: 14763.5391 - val_mean_absolute_error: 60.3579 - val_root_mean_squared_error: 121.5053\n",
      "Epoch 54/150\n",
      "Output shape: TensorShape([None, 8, 50, 50, 256])\n"
     ]
    },
    {
     "name": "stderr",
     "output_type": "stream",
     "text": [
      "INFO:root:load_day('NYC_Heat_Test/NYC_summer_2000_01p', '2000-05-25')\n",
      "INFO:root:Total generated samples: 1\n"
     ]
    },
    {
     "name": "stdout",
     "output_type": "stream",
     "text": [
      "1/1 [==============================] - ETA: 0s - loss: 14763.5586 - mean_absolute_error: 60.3580 - root_mean_squared_error: 121.5054Output shape: TensorShape([None, 8, 50, 50, 256])\n"
     ]
    },
    {
     "name": "stderr",
     "output_type": "stream",
     "text": [
      "INFO:root:load_day('NYC_Heat_Test/NYC_summer_2000_01p', '2000-05-25')\n",
      "INFO:root:Total generated samples: 1\n"
     ]
    },
    {
     "name": "stdout",
     "output_type": "stream",
     "text": [
      "1/1 [==============================] - 5s 5s/step - loss: 14763.5586 - mean_absolute_error: 60.3580 - root_mean_squared_error: 121.5054 - val_loss: 14629.9180 - val_mean_absolute_error: 59.9308 - val_root_mean_squared_error: 120.9542\n",
      "Epoch 55/150\n",
      "Output shape: TensorShape([None, 8, 50, 50, 256])\n"
     ]
    },
    {
     "name": "stderr",
     "output_type": "stream",
     "text": [
      "INFO:root:load_day('NYC_Heat_Test/NYC_summer_2000_01p', '2000-05-25')\n",
      "INFO:root:Total generated samples: 1\n"
     ]
    },
    {
     "name": "stdout",
     "output_type": "stream",
     "text": [
      "1/1 [==============================] - ETA: 0s - loss: 14629.9141 - mean_absolute_error: 59.9308 - root_mean_squared_error: 120.9542Output shape: TensorShape([None, 8, 50, 50, 256])\n"
     ]
    },
    {
     "name": "stderr",
     "output_type": "stream",
     "text": [
      "INFO:root:load_day('NYC_Heat_Test/NYC_summer_2000_01p', '2000-05-25')\n",
      "INFO:root:Total generated samples: 1\n"
     ]
    },
    {
     "name": "stdout",
     "output_type": "stream",
     "text": [
      "1/1 [==============================] - 5s 5s/step - loss: 14629.9141 - mean_absolute_error: 59.9308 - root_mean_squared_error: 120.9542 - val_loss: 14492.1777 - val_mean_absolute_error: 59.4996 - val_root_mean_squared_error: 120.3835\n",
      "Epoch 56/150\n",
      "Output shape: TensorShape([None, 8, 50, 50, 256])\n"
     ]
    },
    {
     "name": "stderr",
     "output_type": "stream",
     "text": [
      "INFO:root:load_day('NYC_Heat_Test/NYC_summer_2000_01p', '2000-05-25')\n",
      "INFO:root:Total generated samples: 1\n"
     ]
    },
    {
     "name": "stdout",
     "output_type": "stream",
     "text": [
      "1/1 [==============================] - ETA: 0s - loss: 14492.1553 - mean_absolute_error: 59.4996 - root_mean_squared_error: 120.3834Output shape: TensorShape([None, 8, 50, 50, 256])\n"
     ]
    },
    {
     "name": "stderr",
     "output_type": "stream",
     "text": [
      "INFO:root:load_day('NYC_Heat_Test/NYC_summer_2000_01p', '2000-05-25')\n",
      "INFO:root:Total generated samples: 1\n"
     ]
    },
    {
     "name": "stdout",
     "output_type": "stream",
     "text": [
      "1/1 [==============================] - 5s 5s/step - loss: 14492.1553 - mean_absolute_error: 59.4996 - root_mean_squared_error: 120.3834 - val_loss: 14348.4912 - val_mean_absolute_error: 59.0639 - val_root_mean_squared_error: 119.7852\n",
      "Epoch 57/150\n",
      "Output shape: TensorShape([None, 8, 50, 50, 256])\n"
     ]
    },
    {
     "name": "stderr",
     "output_type": "stream",
     "text": [
      "INFO:root:load_day('NYC_Heat_Test/NYC_summer_2000_01p', '2000-05-25')\n",
      "INFO:root:Total generated samples: 1\n"
     ]
    },
    {
     "name": "stdout",
     "output_type": "stream",
     "text": [
      "1/1 [==============================] - ETA: 0s - loss: 14348.5156 - mean_absolute_error: 59.0639 - root_mean_squared_error: 119.7853Output shape: TensorShape([None, 8, 50, 50, 256])\n"
     ]
    },
    {
     "name": "stderr",
     "output_type": "stream",
     "text": [
      "INFO:root:load_day('NYC_Heat_Test/NYC_summer_2000_01p', '2000-05-25')\n",
      "INFO:root:Total generated samples: 1\n"
     ]
    },
    {
     "name": "stdout",
     "output_type": "stream",
     "text": [
      "1/1 [==============================] - 4s 4s/step - loss: 14348.5156 - mean_absolute_error: 59.0639 - root_mean_squared_error: 119.7853 - val_loss: 14208.5908 - val_mean_absolute_error: 58.6516 - val_root_mean_squared_error: 119.1998\n",
      "Epoch 58/150\n",
      "Output shape: TensorShape([None, 8, 50, 50, 256])\n"
     ]
    },
    {
     "name": "stderr",
     "output_type": "stream",
     "text": [
      "INFO:root:load_day('NYC_Heat_Test/NYC_summer_2000_01p', '2000-05-25')\n",
      "INFO:root:Total generated samples: 1\n"
     ]
    },
    {
     "name": "stdout",
     "output_type": "stream",
     "text": [
      "1/1 [==============================] - ETA: 0s - loss: 14208.5908 - mean_absolute_error: 58.6516 - root_mean_squared_error: 119.1998Output shape: TensorShape([None, 8, 50, 50, 256])\n"
     ]
    },
    {
     "name": "stderr",
     "output_type": "stream",
     "text": [
      "INFO:root:load_day('NYC_Heat_Test/NYC_summer_2000_01p', '2000-05-25')\n",
      "INFO:root:Total generated samples: 1\n"
     ]
    },
    {
     "name": "stdout",
     "output_type": "stream",
     "text": [
      "1/1 [==============================] - 5s 5s/step - loss: 14208.5908 - mean_absolute_error: 58.6516 - root_mean_squared_error: 119.1998 - val_loss: 14067.2627 - val_mean_absolute_error: 58.2472 - val_root_mean_squared_error: 118.6055\n",
      "Epoch 59/150\n",
      "Output shape: TensorShape([None, 8, 50, 50, 256])\n"
     ]
    },
    {
     "name": "stderr",
     "output_type": "stream",
     "text": [
      "INFO:root:load_day('NYC_Heat_Test/NYC_summer_2000_01p', '2000-05-25')\n",
      "INFO:root:Total generated samples: 1\n"
     ]
    },
    {
     "name": "stdout",
     "output_type": "stream",
     "text": [
      "1/1 [==============================] - ETA: 0s - loss: 14067.2500 - mean_absolute_error: 58.2472 - root_mean_squared_error: 118.6054Output shape: TensorShape([None, 8, 50, 50, 256])\n"
     ]
    },
    {
     "name": "stderr",
     "output_type": "stream",
     "text": [
      "INFO:root:load_day('NYC_Heat_Test/NYC_summer_2000_01p', '2000-05-25')\n",
      "INFO:root:Total generated samples: 1\n"
     ]
    },
    {
     "name": "stdout",
     "output_type": "stream",
     "text": [
      "1/1 [==============================] - 5s 5s/step - loss: 14067.2500 - mean_absolute_error: 58.2472 - root_mean_squared_error: 118.6054 - val_loss: 13923.1729 - val_mean_absolute_error: 57.8495 - val_root_mean_squared_error: 117.9965\n",
      "Epoch 60/150\n",
      "Output shape: TensorShape([None, 8, 50, 50, 256])\n"
     ]
    },
    {
     "name": "stderr",
     "output_type": "stream",
     "text": [
      "INFO:root:load_day('NYC_Heat_Test/NYC_summer_2000_01p', '2000-05-25')\n",
      "INFO:root:Total generated samples: 1\n"
     ]
    },
    {
     "name": "stdout",
     "output_type": "stream",
     "text": [
      "1/1 [==============================] - ETA: 0s - loss: 13923.1777 - mean_absolute_error: 57.8495 - root_mean_squared_error: 117.9965Output shape: TensorShape([None, 8, 50, 50, 256])\n"
     ]
    },
    {
     "name": "stderr",
     "output_type": "stream",
     "text": [
      "INFO:root:load_day('NYC_Heat_Test/NYC_summer_2000_01p', '2000-05-25')\n",
      "INFO:root:Total generated samples: 1\n"
     ]
    },
    {
     "name": "stdout",
     "output_type": "stream",
     "text": [
      "1/1 [==============================] - 4s 4s/step - loss: 13923.1777 - mean_absolute_error: 57.8495 - root_mean_squared_error: 117.9965 - val_loss: 13776.8672 - val_mean_absolute_error: 57.4595 - val_root_mean_squared_error: 117.3749\n",
      "Epoch 61/150\n",
      "Output shape: TensorShape([None, 8, 50, 50, 256])\n"
     ]
    },
    {
     "name": "stderr",
     "output_type": "stream",
     "text": [
      "INFO:root:load_day('NYC_Heat_Test/NYC_summer_2000_01p', '2000-05-25')\n",
      "INFO:root:Total generated samples: 1\n"
     ]
    },
    {
     "name": "stdout",
     "output_type": "stream",
     "text": [
      "1/1 [==============================] - ETA: 0s - loss: 13776.8604 - mean_absolute_error: 57.4595 - root_mean_squared_error: 117.3749Output shape: TensorShape([None, 8, 50, 50, 256])\n"
     ]
    },
    {
     "name": "stderr",
     "output_type": "stream",
     "text": [
      "INFO:root:load_day('NYC_Heat_Test/NYC_summer_2000_01p', '2000-05-25')\n",
      "INFO:root:Total generated samples: 1\n"
     ]
    },
    {
     "name": "stdout",
     "output_type": "stream",
     "text": [
      "1/1 [==============================] - 5s 5s/step - loss: 13776.8604 - mean_absolute_error: 57.4595 - root_mean_squared_error: 117.3749 - val_loss: 13624.3252 - val_mean_absolute_error: 57.0642 - val_root_mean_squared_error: 116.7233\n",
      "Epoch 62/150\n",
      "Output shape: TensorShape([None, 8, 50, 50, 256])\n"
     ]
    },
    {
     "name": "stderr",
     "output_type": "stream",
     "text": [
      "INFO:root:load_day('NYC_Heat_Test/NYC_summer_2000_01p', '2000-05-25')\n",
      "INFO:root:Total generated samples: 1\n"
     ]
    },
    {
     "name": "stdout",
     "output_type": "stream",
     "text": [
      "1/1 [==============================] - ETA: 0s - loss: 13624.5342 - mean_absolute_error: 57.0646 - root_mean_squared_error: 116.7242Output shape: TensorShape([None, 8, 50, 50, 256])\n"
     ]
    },
    {
     "name": "stderr",
     "output_type": "stream",
     "text": [
      "INFO:root:load_day('NYC_Heat_Test/NYC_summer_2000_01p', '2000-05-25')\n",
      "INFO:root:Total generated samples: 1\n"
     ]
    },
    {
     "name": "stdout",
     "output_type": "stream",
     "text": [
      "1/1 [==============================] - 5s 5s/step - loss: 13624.5342 - mean_absolute_error: 57.0646 - root_mean_squared_error: 116.7242 - val_loss: 13461.8867 - val_mean_absolute_error: 56.6511 - val_root_mean_squared_error: 116.0254\n",
      "Epoch 63/150\n",
      "Output shape: TensorShape([None, 8, 50, 50, 256])\n"
     ]
    },
    {
     "name": "stderr",
     "output_type": "stream",
     "text": [
      "INFO:root:load_day('NYC_Heat_Test/NYC_summer_2000_01p', '2000-05-25')\n",
      "INFO:root:Total generated samples: 1\n"
     ]
    },
    {
     "name": "stdout",
     "output_type": "stream",
     "text": [
      "1/1 [==============================] - ETA: 0s - loss: 13461.8545 - mean_absolute_error: 56.6511 - root_mean_squared_error: 116.0252Output shape: TensorShape([None, 8, 50, 50, 256])\n"
     ]
    },
    {
     "name": "stderr",
     "output_type": "stream",
     "text": [
      "INFO:root:load_day('NYC_Heat_Test/NYC_summer_2000_01p', '2000-05-25')\n",
      "INFO:root:Total generated samples: 1\n"
     ]
    },
    {
     "name": "stdout",
     "output_type": "stream",
     "text": [
      "1/1 [==============================] - 5s 5s/step - loss: 13461.8545 - mean_absolute_error: 56.6511 - root_mean_squared_error: 116.0252 - val_loss: 13307.4463 - val_mean_absolute_error: 56.2784 - val_root_mean_squared_error: 115.3579\n",
      "Epoch 64/150\n",
      "Output shape: TensorShape([None, 8, 50, 50, 256])\n"
     ]
    },
    {
     "name": "stderr",
     "output_type": "stream",
     "text": [
      "INFO:root:load_day('NYC_Heat_Test/NYC_summer_2000_01p', '2000-05-25')\n",
      "INFO:root:Total generated samples: 1\n"
     ]
    },
    {
     "name": "stdout",
     "output_type": "stream",
     "text": [
      "1/1 [==============================] - ETA: 0s - loss: 13307.4463 - mean_absolute_error: 56.2784 - root_mean_squared_error: 115.3579Output shape: TensorShape([None, 8, 50, 50, 256])\n"
     ]
    },
    {
     "name": "stderr",
     "output_type": "stream",
     "text": [
      "INFO:root:load_day('NYC_Heat_Test/NYC_summer_2000_01p', '2000-05-25')\n",
      "INFO:root:Total generated samples: 1\n"
     ]
    },
    {
     "name": "stdout",
     "output_type": "stream",
     "text": [
      "1/1 [==============================] - 5s 5s/step - loss: 13307.4463 - mean_absolute_error: 56.2784 - root_mean_squared_error: 115.3579 - val_loss: 13152.4580 - val_mean_absolute_error: 55.9153 - val_root_mean_squared_error: 114.6842\n",
      "Epoch 65/150\n",
      "Output shape: TensorShape([None, 8, 50, 50, 256])\n"
     ]
    },
    {
     "name": "stderr",
     "output_type": "stream",
     "text": [
      "INFO:root:load_day('NYC_Heat_Test/NYC_summer_2000_01p', '2000-05-25')\n",
      "INFO:root:Total generated samples: 1\n"
     ]
    },
    {
     "name": "stdout",
     "output_type": "stream",
     "text": [
      "1/1 [==============================] - ETA: 0s - loss: 13152.4580 - mean_absolute_error: 55.9153 - root_mean_squared_error: 114.6842Output shape: TensorShape([None, 8, 50, 50, 256])\n"
     ]
    },
    {
     "name": "stderr",
     "output_type": "stream",
     "text": [
      "INFO:root:load_day('NYC_Heat_Test/NYC_summer_2000_01p', '2000-05-25')\n",
      "INFO:root:Total generated samples: 1\n"
     ]
    },
    {
     "name": "stdout",
     "output_type": "stream",
     "text": [
      "1/1 [==============================] - 5s 5s/step - loss: 13152.4580 - mean_absolute_error: 55.9153 - root_mean_squared_error: 114.6842 - val_loss: 12994.9805 - val_mean_absolute_error: 55.5558 - val_root_mean_squared_error: 113.9955\n",
      "Epoch 66/150\n",
      "Output shape: TensorShape([None, 8, 50, 50, 256])\n"
     ]
    },
    {
     "name": "stderr",
     "output_type": "stream",
     "text": [
      "INFO:root:load_day('NYC_Heat_Test/NYC_summer_2000_01p', '2000-05-25')\n",
      "INFO:root:Total generated samples: 1\n"
     ]
    },
    {
     "name": "stdout",
     "output_type": "stream",
     "text": [
      "1/1 [==============================] - ETA: 0s - loss: 12994.9824 - mean_absolute_error: 55.5558 - root_mean_squared_error: 113.9955Output shape: TensorShape([None, 8, 50, 50, 256])\n"
     ]
    },
    {
     "name": "stderr",
     "output_type": "stream",
     "text": [
      "INFO:root:load_day('NYC_Heat_Test/NYC_summer_2000_01p', '2000-05-25')\n",
      "INFO:root:Total generated samples: 1\n"
     ]
    },
    {
     "name": "stdout",
     "output_type": "stream",
     "text": [
      "1/1 [==============================] - 5s 5s/step - loss: 12994.9824 - mean_absolute_error: 55.5558 - root_mean_squared_error: 113.9955 - val_loss: 12834.6904 - val_mean_absolute_error: 55.1987 - val_root_mean_squared_error: 113.2903\n",
      "Epoch 67/150\n",
      "Output shape: TensorShape([None, 8, 50, 50, 256])\n"
     ]
    },
    {
     "name": "stderr",
     "output_type": "stream",
     "text": [
      "INFO:root:load_day('NYC_Heat_Test/NYC_summer_2000_01p', '2000-05-25')\n",
      "INFO:root:Total generated samples: 1\n"
     ]
    },
    {
     "name": "stdout",
     "output_type": "stream",
     "text": [
      "1/1 [==============================] - ETA: 0s - loss: 12834.6924 - mean_absolute_error: 55.1987 - root_mean_squared_error: 113.2903Output shape: TensorShape([None, 8, 50, 50, 256])\n"
     ]
    },
    {
     "name": "stderr",
     "output_type": "stream",
     "text": [
      "INFO:root:load_day('NYC_Heat_Test/NYC_summer_2000_01p', '2000-05-25')\n",
      "INFO:root:Total generated samples: 1\n"
     ]
    },
    {
     "name": "stdout",
     "output_type": "stream",
     "text": [
      "1/1 [==============================] - 4s 4s/step - loss: 12834.6924 - mean_absolute_error: 55.1987 - root_mean_squared_error: 113.2903 - val_loss: 12670.7324 - val_mean_absolute_error: 54.8397 - val_root_mean_squared_error: 112.5643\n",
      "Epoch 68/150\n",
      "Output shape: TensorShape([None, 8, 50, 50, 256])\n"
     ]
    },
    {
     "name": "stderr",
     "output_type": "stream",
     "text": [
      "INFO:root:load_day('NYC_Heat_Test/NYC_summer_2000_01p', '2000-05-25')\n",
      "INFO:root:Total generated samples: 1\n"
     ]
    },
    {
     "name": "stdout",
     "output_type": "stream",
     "text": [
      "1/1 [==============================] - ETA: 0s - loss: 12670.2998 - mean_absolute_error: 54.8393 - root_mean_squared_error: 112.5624Output shape: TensorShape([None, 8, 50, 50, 256])\n"
     ]
    },
    {
     "name": "stderr",
     "output_type": "stream",
     "text": [
      "INFO:root:load_day('NYC_Heat_Test/NYC_summer_2000_01p', '2000-05-25')\n",
      "INFO:root:Total generated samples: 1\n"
     ]
    },
    {
     "name": "stdout",
     "output_type": "stream",
     "text": [
      "1/1 [==============================] - 5s 5s/step - loss: 12670.2998 - mean_absolute_error: 54.8393 - root_mean_squared_error: 112.5624 - val_loss: 12497.1406 - val_mean_absolute_error: 54.4597 - val_root_mean_squared_error: 111.7906\n",
      "Epoch 69/150\n",
      "Output shape: TensorShape([None, 8, 50, 50, 256])\n"
     ]
    },
    {
     "name": "stderr",
     "output_type": "stream",
     "text": [
      "INFO:root:load_day('NYC_Heat_Test/NYC_summer_2000_01p', '2000-05-25')\n",
      "INFO:root:Total generated samples: 1\n"
     ]
    },
    {
     "name": "stdout",
     "output_type": "stream",
     "text": [
      "1/1 [==============================] - ETA: 0s - loss: 12497.0977 - mean_absolute_error: 54.4603 - root_mean_squared_error: 111.7904Output shape: TensorShape([None, 8, 50, 50, 256])\n"
     ]
    },
    {
     "name": "stderr",
     "output_type": "stream",
     "text": [
      "INFO:root:load_day('NYC_Heat_Test/NYC_summer_2000_01p', '2000-05-25')\n",
      "INFO:root:Total generated samples: 1\n"
     ]
    },
    {
     "name": "stdout",
     "output_type": "stream",
     "text": [
      "1/1 [==============================] - 5s 5s/step - loss: 12497.0977 - mean_absolute_error: 54.4603 - root_mean_squared_error: 111.7904 - val_loss: 12315.4932 - val_mean_absolute_error: 54.0647 - val_root_mean_squared_error: 110.9752\n",
      "Epoch 70/150\n",
      "Output shape: TensorShape([None, 8, 50, 50, 256])\n"
     ]
    },
    {
     "name": "stderr",
     "output_type": "stream",
     "text": [
      "INFO:root:load_day('NYC_Heat_Test/NYC_summer_2000_01p', '2000-05-25')\n",
      "INFO:root:Total generated samples: 1\n"
     ]
    },
    {
     "name": "stdout",
     "output_type": "stream",
     "text": [
      "1/1 [==============================] - ETA: 0s - loss: 12315.6689 - mean_absolute_error: 54.0654 - root_mean_squared_error: 110.9760Output shape: TensorShape([None, 8, 50, 50, 256])\n"
     ]
    },
    {
     "name": "stderr",
     "output_type": "stream",
     "text": [
      "INFO:root:load_day('NYC_Heat_Test/NYC_summer_2000_01p', '2000-05-25')\n",
      "INFO:root:Total generated samples: 1\n"
     ]
    },
    {
     "name": "stdout",
     "output_type": "stream",
     "text": [
      "1/1 [==============================] - 5s 5s/step - loss: 12315.6689 - mean_absolute_error: 54.0654 - root_mean_squared_error: 110.9760 - val_loss: 12140.1699 - val_mean_absolute_error: 53.6882 - val_root_mean_squared_error: 110.1824\n",
      "Epoch 71/150\n",
      "Output shape: TensorShape([None, 8, 50, 50, 256])\n"
     ]
    },
    {
     "name": "stderr",
     "output_type": "stream",
     "text": [
      "INFO:root:load_day('NYC_Heat_Test/NYC_summer_2000_01p', '2000-05-25')\n",
      "INFO:root:Total generated samples: 1\n"
     ]
    },
    {
     "name": "stdout",
     "output_type": "stream",
     "text": [
      "1/1 [==============================] - ETA: 0s - loss: 12140.1709 - mean_absolute_error: 53.6882 - root_mean_squared_error: 110.1824Output shape: TensorShape([None, 8, 50, 50, 256])\n"
     ]
    },
    {
     "name": "stderr",
     "output_type": "stream",
     "text": [
      "INFO:root:load_day('NYC_Heat_Test/NYC_summer_2000_01p', '2000-05-25')\n",
      "INFO:root:Total generated samples: 1\n"
     ]
    },
    {
     "name": "stdout",
     "output_type": "stream",
     "text": [
      "1/1 [==============================] - 4s 4s/step - loss: 12140.1709 - mean_absolute_error: 53.6882 - root_mean_squared_error: 110.1824 - val_loss: 11963.6064 - val_mean_absolute_error: 53.3083 - val_root_mean_squared_error: 109.3783\n",
      "Epoch 72/150\n",
      "Output shape: TensorShape([None, 8, 50, 50, 256])\n"
     ]
    },
    {
     "name": "stderr",
     "output_type": "stream",
     "text": [
      "INFO:root:load_day('NYC_Heat_Test/NYC_summer_2000_01p', '2000-05-25')\n",
      "INFO:root:Total generated samples: 1\n"
     ]
    },
    {
     "name": "stdout",
     "output_type": "stream",
     "text": [
      "1/1 [==============================] - ETA: 0s - loss: 11963.6064 - mean_absolute_error: 53.3083 - root_mean_squared_error: 109.3783Output shape: TensorShape([None, 8, 50, 50, 256])\n"
     ]
    },
    {
     "name": "stderr",
     "output_type": "stream",
     "text": [
      "INFO:root:load_day('NYC_Heat_Test/NYC_summer_2000_01p', '2000-05-25')\n",
      "INFO:root:Total generated samples: 1\n"
     ]
    },
    {
     "name": "stdout",
     "output_type": "stream",
     "text": [
      "1/1 [==============================] - 4s 4s/step - loss: 11963.6064 - mean_absolute_error: 53.3083 - root_mean_squared_error: 109.3783 - val_loss: 11783.8320 - val_mean_absolute_error: 52.9194 - val_root_mean_squared_error: 108.5534\n",
      "Epoch 73/150\n",
      "Output shape: TensorShape([None, 8, 50, 50, 256])\n"
     ]
    },
    {
     "name": "stderr",
     "output_type": "stream",
     "text": [
      "INFO:root:load_day('NYC_Heat_Test/NYC_summer_2000_01p', '2000-05-25')\n",
      "INFO:root:Total generated samples: 1\n"
     ]
    },
    {
     "name": "stdout",
     "output_type": "stream",
     "text": [
      "1/1 [==============================] - ETA: 0s - loss: 11783.8320 - mean_absolute_error: 52.9194 - root_mean_squared_error: 108.5534Output shape: TensorShape([None, 8, 50, 50, 256])\n"
     ]
    },
    {
     "name": "stderr",
     "output_type": "stream",
     "text": [
      "INFO:root:load_day('NYC_Heat_Test/NYC_summer_2000_01p', '2000-05-25')\n",
      "INFO:root:Total generated samples: 1\n"
     ]
    },
    {
     "name": "stdout",
     "output_type": "stream",
     "text": [
      "1/1 [==============================] - 5s 5s/step - loss: 11783.8320 - mean_absolute_error: 52.9194 - root_mean_squared_error: 108.5534 - val_loss: 11600.9463 - val_mean_absolute_error: 52.5214 - val_root_mean_squared_error: 107.7077\n",
      "Epoch 74/150\n",
      "Output shape: TensorShape([None, 8, 50, 50, 256])\n"
     ]
    },
    {
     "name": "stderr",
     "output_type": "stream",
     "text": [
      "INFO:root:load_day('NYC_Heat_Test/NYC_summer_2000_01p', '2000-05-25')\n",
      "INFO:root:Total generated samples: 1\n"
     ]
    },
    {
     "name": "stdout",
     "output_type": "stream",
     "text": [
      "1/1 [==============================] - ETA: 0s - loss: 11600.9463 - mean_absolute_error: 52.5214 - root_mean_squared_error: 107.7077Output shape: TensorShape([None, 8, 50, 50, 256])\n"
     ]
    },
    {
     "name": "stderr",
     "output_type": "stream",
     "text": [
      "INFO:root:load_day('NYC_Heat_Test/NYC_summer_2000_01p', '2000-05-25')\n",
      "INFO:root:Total generated samples: 1\n"
     ]
    },
    {
     "name": "stdout",
     "output_type": "stream",
     "text": [
      "1/1 [==============================] - 5s 5s/step - loss: 11600.9463 - mean_absolute_error: 52.5214 - root_mean_squared_error: 107.7077 - val_loss: 11414.8350 - val_mean_absolute_error: 52.1138 - val_root_mean_squared_error: 106.8402\n",
      "Epoch 75/150\n",
      "Output shape: TensorShape([None, 8, 50, 50, 256])\n"
     ]
    },
    {
     "name": "stderr",
     "output_type": "stream",
     "text": [
      "INFO:root:load_day('NYC_Heat_Test/NYC_summer_2000_01p', '2000-05-25')\n",
      "INFO:root:Total generated samples: 1\n"
     ]
    },
    {
     "name": "stdout",
     "output_type": "stream",
     "text": [
      "1/1 [==============================] - ETA: 0s - loss: 11414.8340 - mean_absolute_error: 52.1138 - root_mean_squared_error: 106.8402Output shape: TensorShape([None, 8, 50, 50, 256])\n"
     ]
    },
    {
     "name": "stderr",
     "output_type": "stream",
     "text": [
      "INFO:root:load_day('NYC_Heat_Test/NYC_summer_2000_01p', '2000-05-25')\n",
      "INFO:root:Total generated samples: 1\n"
     ]
    },
    {
     "name": "stdout",
     "output_type": "stream",
     "text": [
      "1/1 [==============================] - 5s 5s/step - loss: 11414.8340 - mean_absolute_error: 52.1138 - root_mean_squared_error: 106.8402 - val_loss: 11209.3828 - val_mean_absolute_error: 51.6667 - val_root_mean_squared_error: 105.8744\n",
      "Epoch 76/150\n",
      "Output shape: TensorShape([None, 8, 50, 50, 256])\n"
     ]
    },
    {
     "name": "stderr",
     "output_type": "stream",
     "text": [
      "INFO:root:load_day('NYC_Heat_Test/NYC_summer_2000_01p', '2000-05-25')\n",
      "INFO:root:Total generated samples: 1\n"
     ]
    },
    {
     "name": "stdout",
     "output_type": "stream",
     "text": [
      "1/1 [==============================] - ETA: 0s - loss: 11209.9912 - mean_absolute_error: 51.6675 - root_mean_squared_error: 105.8772Output shape: TensorShape([None, 8, 50, 50, 256])\n"
     ]
    },
    {
     "name": "stderr",
     "output_type": "stream",
     "text": [
      "INFO:root:load_day('NYC_Heat_Test/NYC_summer_2000_01p', '2000-05-25')\n",
      "INFO:root:Total generated samples: 1\n"
     ]
    },
    {
     "name": "stdout",
     "output_type": "stream",
     "text": [
      "1/1 [==============================] - 4s 4s/step - loss: 11209.9912 - mean_absolute_error: 51.6675 - root_mean_squared_error: 105.8772 - val_loss: 11015.6885 - val_mean_absolute_error: 51.2379 - val_root_mean_squared_error: 104.9556\n",
      "Epoch 77/150\n",
      "Output shape: TensorShape([None, 8, 50, 50, 256])\n"
     ]
    },
    {
     "name": "stderr",
     "output_type": "stream",
     "text": [
      "INFO:root:load_day('NYC_Heat_Test/NYC_summer_2000_01p', '2000-05-25')\n",
      "INFO:root:Total generated samples: 1\n"
     ]
    },
    {
     "name": "stdout",
     "output_type": "stream",
     "text": [
      "1/1 [==============================] - ETA: 0s - loss: 11015.6836 - mean_absolute_error: 51.2379 - root_mean_squared_error: 104.9556Output shape: TensorShape([None, 8, 50, 50, 256])\n"
     ]
    },
    {
     "name": "stderr",
     "output_type": "stream",
     "text": [
      "INFO:root:load_day('NYC_Heat_Test/NYC_summer_2000_01p', '2000-05-25')\n",
      "INFO:root:Total generated samples: 1\n"
     ]
    },
    {
     "name": "stdout",
     "output_type": "stream",
     "text": [
      "1/1 [==============================] - 5s 5s/step - loss: 11015.6836 - mean_absolute_error: 51.2379 - root_mean_squared_error: 104.9556 - val_loss: 10809.4180 - val_mean_absolute_error: 50.7734 - val_root_mean_squared_error: 103.9683\n",
      "Epoch 78/150\n",
      "Output shape: TensorShape([None, 8, 50, 50, 256])\n"
     ]
    },
    {
     "name": "stderr",
     "output_type": "stream",
     "text": [
      "INFO:root:load_day('NYC_Heat_Test/NYC_summer_2000_01p', '2000-05-25')\n",
      "INFO:root:Total generated samples: 1\n"
     ]
    },
    {
     "name": "stdout",
     "output_type": "stream",
     "text": [
      "1/1 [==============================] - ETA: 0s - loss: 10810.5039 - mean_absolute_error: 50.7763 - root_mean_squared_error: 103.9736Output shape: TensorShape([None, 8, 50, 50, 256])\n"
     ]
    },
    {
     "name": "stderr",
     "output_type": "stream",
     "text": [
      "INFO:root:load_day('NYC_Heat_Test/NYC_summer_2000_01p', '2000-05-25')\n",
      "INFO:root:Total generated samples: 1\n"
     ]
    },
    {
     "name": "stdout",
     "output_type": "stream",
     "text": [
      "1/1 [==============================] - 5s 5s/step - loss: 10810.5039 - mean_absolute_error: 50.7763 - root_mean_squared_error: 103.9736 - val_loss: 10608.8779 - val_mean_absolute_error: 50.3222 - val_root_mean_squared_error: 102.9994\n",
      "Epoch 79/150\n",
      "Output shape: TensorShape([None, 8, 50, 50, 256])\n"
     ]
    },
    {
     "name": "stderr",
     "output_type": "stream",
     "text": [
      "INFO:root:load_day('NYC_Heat_Test/NYC_summer_2000_01p', '2000-05-25')\n",
      "INFO:root:Total generated samples: 1\n"
     ]
    },
    {
     "name": "stdout",
     "output_type": "stream",
     "text": [
      "1/1 [==============================] - ETA: 0s - loss: 10608.8262 - mean_absolute_error: 50.3222 - root_mean_squared_error: 102.9992Output shape: TensorShape([None, 8, 50, 50, 256])\n"
     ]
    },
    {
     "name": "stderr",
     "output_type": "stream",
     "text": [
      "INFO:root:load_day('NYC_Heat_Test/NYC_summer_2000_01p', '2000-05-25')\n",
      "INFO:root:Total generated samples: 1\n"
     ]
    },
    {
     "name": "stdout",
     "output_type": "stream",
     "text": [
      "1/1 [==============================] - 5s 5s/step - loss: 10608.8262 - mean_absolute_error: 50.3222 - root_mean_squared_error: 102.9992 - val_loss: 10397.1797 - val_mean_absolute_error: 49.8389 - val_root_mean_squared_error: 101.9666\n",
      "Epoch 80/150\n",
      "Output shape: TensorShape([None, 8, 50, 50, 256])\n"
     ]
    },
    {
     "name": "stderr",
     "output_type": "stream",
     "text": [
      "INFO:root:load_day('NYC_Heat_Test/NYC_summer_2000_01p', '2000-05-25')\n",
      "INFO:root:Total generated samples: 1\n"
     ]
    },
    {
     "name": "stdout",
     "output_type": "stream",
     "text": [
      "1/1 [==============================] - ETA: 0s - loss: 10397.3711 - mean_absolute_error: 49.8400 - root_mean_squared_error: 101.9675Output shape: TensorShape([None, 8, 50, 50, 256])\n"
     ]
    },
    {
     "name": "stderr",
     "output_type": "stream",
     "text": [
      "INFO:root:load_day('NYC_Heat_Test/NYC_summer_2000_01p', '2000-05-25')\n",
      "INFO:root:Total generated samples: 1\n"
     ]
    },
    {
     "name": "stdout",
     "output_type": "stream",
     "text": [
      "1/1 [==============================] - 4s 4s/step - loss: 10397.3711 - mean_absolute_error: 49.8400 - root_mean_squared_error: 101.9675 - val_loss: 10193.4336 - val_mean_absolute_error: 49.3735 - val_root_mean_squared_error: 100.9625\n",
      "Epoch 81/150\n",
      "Output shape: TensorShape([None, 8, 50, 50, 256])\n"
     ]
    },
    {
     "name": "stderr",
     "output_type": "stream",
     "text": [
      "INFO:root:load_day('NYC_Heat_Test/NYC_summer_2000_01p', '2000-05-25')\n",
      "INFO:root:Total generated samples: 1\n"
     ]
    },
    {
     "name": "stdout",
     "output_type": "stream",
     "text": [
      "1/1 [==============================] - ETA: 0s - loss: 10193.9961 - mean_absolute_error: 49.3748 - root_mean_squared_error: 100.9653Output shape: TensorShape([None, 8, 50, 50, 256])\n"
     ]
    },
    {
     "name": "stderr",
     "output_type": "stream",
     "text": [
      "INFO:root:load_day('NYC_Heat_Test/NYC_summer_2000_01p', '2000-05-25')\n",
      "INFO:root:Total generated samples: 1\n"
     ]
    },
    {
     "name": "stdout",
     "output_type": "stream",
     "text": [
      "1/1 [==============================] - 5s 5s/step - loss: 10193.9961 - mean_absolute_error: 49.3748 - root_mean_squared_error: 100.9653 - val_loss: 9986.7744 - val_mean_absolute_error: 48.9000 - val_root_mean_squared_error: 99.9339\n",
      "Epoch 82/150\n",
      "Output shape: TensorShape([None, 8, 50, 50, 256])\n"
     ]
    },
    {
     "name": "stderr",
     "output_type": "stream",
     "text": [
      "INFO:root:load_day('NYC_Heat_Test/NYC_summer_2000_01p', '2000-05-25')\n",
      "INFO:root:Total generated samples: 1\n"
     ]
    },
    {
     "name": "stdout",
     "output_type": "stream",
     "text": [
      "1/1 [==============================] - ETA: 0s - loss: 9986.7744 - mean_absolute_error: 48.9000 - root_mean_squared_error: 99.9339Output shape: TensorShape([None, 8, 50, 50, 256])\n"
     ]
    },
    {
     "name": "stderr",
     "output_type": "stream",
     "text": [
      "INFO:root:load_day('NYC_Heat_Test/NYC_summer_2000_01p', '2000-05-25')\n",
      "INFO:root:Total generated samples: 1\n"
     ]
    },
    {
     "name": "stdout",
     "output_type": "stream",
     "text": [
      "1/1 [==============================] - 5s 5s/step - loss: 9986.7744 - mean_absolute_error: 48.9000 - root_mean_squared_error: 99.9339 - val_loss: 9780.1445 - val_mean_absolute_error: 48.4223 - val_root_mean_squared_error: 98.8946\n",
      "Epoch 83/150\n",
      "Output shape: TensorShape([None, 8, 50, 50, 256])\n"
     ]
    },
    {
     "name": "stderr",
     "output_type": "stream",
     "text": [
      "INFO:root:load_day('NYC_Heat_Test/NYC_summer_2000_01p', '2000-05-25')\n",
      "INFO:root:Total generated samples: 1\n"
     ]
    },
    {
     "name": "stdout",
     "output_type": "stream",
     "text": [
      "1/1 [==============================] - ETA: 0s - loss: 9780.1416 - mean_absolute_error: 48.4223 - root_mean_squared_error: 98.8946Output shape: TensorShape([None, 8, 50, 50, 256])\n"
     ]
    },
    {
     "name": "stderr",
     "output_type": "stream",
     "text": [
      "INFO:root:load_day('NYC_Heat_Test/NYC_summer_2000_01p', '2000-05-25')\n",
      "INFO:root:Total generated samples: 1\n"
     ]
    },
    {
     "name": "stdout",
     "output_type": "stream",
     "text": [
      "1/1 [==============================] - 5s 5s/step - loss: 9780.1416 - mean_absolute_error: 48.4223 - root_mean_squared_error: 98.8946 - val_loss: 9557.6738 - val_mean_absolute_error: 47.9057 - val_root_mean_squared_error: 97.7634\n",
      "Epoch 84/150\n",
      "Output shape: TensorShape([None, 8, 50, 50, 256])\n"
     ]
    },
    {
     "name": "stderr",
     "output_type": "stream",
     "text": [
      "INFO:root:load_day('NYC_Heat_Test/NYC_summer_2000_01p', '2000-05-25')\n",
      "INFO:root:Total generated samples: 1\n"
     ]
    },
    {
     "name": "stdout",
     "output_type": "stream",
     "text": [
      "1/1 [==============================] - ETA: 0s - loss: 9557.7441 - mean_absolute_error: 47.9058 - root_mean_squared_error: 97.7637Output shape: TensorShape([None, 8, 50, 50, 256])\n"
     ]
    },
    {
     "name": "stderr",
     "output_type": "stream",
     "text": [
      "INFO:root:load_day('NYC_Heat_Test/NYC_summer_2000_01p', '2000-05-25')\n",
      "INFO:root:Total generated samples: 1\n"
     ]
    },
    {
     "name": "stdout",
     "output_type": "stream",
     "text": [
      "1/1 [==============================] - 4s 4s/step - loss: 9557.7441 - mean_absolute_error: 47.9058 - root_mean_squared_error: 97.7637 - val_loss: 9346.7900 - val_mean_absolute_error: 47.4087 - val_root_mean_squared_error: 96.6788\n",
      "Epoch 85/150\n",
      "Output shape: TensorShape([None, 8, 50, 50, 256])\n"
     ]
    },
    {
     "name": "stderr",
     "output_type": "stream",
     "text": [
      "INFO:root:load_day('NYC_Heat_Test/NYC_summer_2000_01p', '2000-05-25')\n",
      "INFO:root:Total generated samples: 1\n"
     ]
    },
    {
     "name": "stdout",
     "output_type": "stream",
     "text": [
      "1/1 [==============================] - ETA: 0s - loss: 9346.6191 - mean_absolute_error: 47.4083 - root_mean_squared_error: 96.6779Output shape: TensorShape([None, 8, 50, 50, 256])\n"
     ]
    },
    {
     "name": "stderr",
     "output_type": "stream",
     "text": [
      "INFO:root:load_day('NYC_Heat_Test/NYC_summer_2000_01p', '2000-05-25')\n",
      "INFO:root:Total generated samples: 1\n"
     ]
    },
    {
     "name": "stdout",
     "output_type": "stream",
     "text": [
      "1/1 [==============================] - 4s 4s/step - loss: 9346.6191 - mean_absolute_error: 47.4083 - root_mean_squared_error: 96.6779 - val_loss: 9110.2578 - val_mean_absolute_error: 46.8335 - val_root_mean_squared_error: 95.4477\n",
      "Epoch 86/150\n",
      "Output shape: TensorShape([None, 8, 50, 50, 256])\n"
     ]
    },
    {
     "name": "stderr",
     "output_type": "stream",
     "text": [
      "INFO:root:load_day('NYC_Heat_Test/NYC_summer_2000_01p', '2000-05-25')\n",
      "INFO:root:Total generated samples: 1\n"
     ]
    },
    {
     "name": "stdout",
     "output_type": "stream",
     "text": [
      "1/1 [==============================] - ETA: 0s - loss: 9110.2812 - mean_absolute_error: 46.8340 - root_mean_squared_error: 95.4478Output shape: TensorShape([None, 8, 50, 50, 256])\n"
     ]
    },
    {
     "name": "stderr",
     "output_type": "stream",
     "text": [
      "INFO:root:load_day('NYC_Heat_Test/NYC_summer_2000_01p', '2000-05-25')\n",
      "INFO:root:Total generated samples: 1\n"
     ]
    },
    {
     "name": "stdout",
     "output_type": "stream",
     "text": [
      "1/1 [==============================] - 5s 5s/step - loss: 9110.2812 - mean_absolute_error: 46.8340 - root_mean_squared_error: 95.4478 - val_loss: 8888.8408 - val_mean_absolute_error: 46.2933 - val_root_mean_squared_error: 94.2806\n",
      "Epoch 87/150\n",
      "Output shape: TensorShape([None, 8, 50, 50, 256])\n"
     ]
    },
    {
     "name": "stderr",
     "output_type": "stream",
     "text": [
      "INFO:root:load_day('NYC_Heat_Test/NYC_summer_2000_01p', '2000-05-25')\n",
      "INFO:root:Total generated samples: 1\n"
     ]
    },
    {
     "name": "stdout",
     "output_type": "stream",
     "text": [
      "1/1 [==============================] - ETA: 0s - loss: 8888.8447 - mean_absolute_error: 46.2933 - root_mean_squared_error: 94.2807Output shape: TensorShape([None, 8, 50, 50, 256])\n"
     ]
    },
    {
     "name": "stderr",
     "output_type": "stream",
     "text": [
      "INFO:root:load_day('NYC_Heat_Test/NYC_summer_2000_01p', '2000-05-25')\n",
      "INFO:root:Total generated samples: 1\n"
     ]
    },
    {
     "name": "stdout",
     "output_type": "stream",
     "text": [
      "1/1 [==============================] - 5s 5s/step - loss: 8888.8447 - mean_absolute_error: 46.2933 - root_mean_squared_error: 94.2807 - val_loss: 8671.7744 - val_mean_absolute_error: 45.7591 - val_root_mean_squared_error: 93.1224\n",
      "Epoch 88/150\n",
      "Output shape: TensorShape([None, 8, 50, 50, 256])\n"
     ]
    },
    {
     "name": "stderr",
     "output_type": "stream",
     "text": [
      "INFO:root:load_day('NYC_Heat_Test/NYC_summer_2000_01p', '2000-05-25')\n",
      "INFO:root:Total generated samples: 1\n"
     ]
    },
    {
     "name": "stdout",
     "output_type": "stream",
     "text": [
      "1/1 [==============================] - ETA: 0s - loss: 8671.9414 - mean_absolute_error: 45.7595 - root_mean_squared_error: 93.1233Output shape: TensorShape([None, 8, 50, 50, 256])\n"
     ]
    },
    {
     "name": "stderr",
     "output_type": "stream",
     "text": [
      "INFO:root:load_day('NYC_Heat_Test/NYC_summer_2000_01p', '2000-05-25')\n",
      "INFO:root:Total generated samples: 1\n"
     ]
    },
    {
     "name": "stdout",
     "output_type": "stream",
     "text": [
      "1/1 [==============================] - 5s 5s/step - loss: 8671.9414 - mean_absolute_error: 45.7595 - root_mean_squared_error: 93.1233 - val_loss: 8456.7793 - val_mean_absolute_error: 45.2255 - val_root_mean_squared_error: 91.9607\n",
      "Epoch 89/150\n",
      "Output shape: TensorShape([None, 8, 50, 50, 256])\n"
     ]
    },
    {
     "name": "stderr",
     "output_type": "stream",
     "text": [
      "INFO:root:load_day('NYC_Heat_Test/NYC_summer_2000_01p', '2000-05-25')\n",
      "INFO:root:Total generated samples: 1\n"
     ]
    },
    {
     "name": "stdout",
     "output_type": "stream",
     "text": [
      "1/1 [==============================] - ETA: 0s - loss: 8456.7793 - mean_absolute_error: 45.2255 - root_mean_squared_error: 91.9607Output shape: TensorShape([None, 8, 50, 50, 256])\n"
     ]
    },
    {
     "name": "stderr",
     "output_type": "stream",
     "text": [
      "INFO:root:load_day('NYC_Heat_Test/NYC_summer_2000_01p', '2000-05-25')\n",
      "INFO:root:Total generated samples: 1\n"
     ]
    },
    {
     "name": "stdout",
     "output_type": "stream",
     "text": [
      "1/1 [==============================] - 4s 4s/step - loss: 8456.7793 - mean_absolute_error: 45.2255 - root_mean_squared_error: 91.9607 - val_loss: 8241.5303 - val_mean_absolute_error: 44.6837 - val_root_mean_squared_error: 90.7829\n",
      "Epoch 90/150\n",
      "Output shape: TensorShape([None, 8, 50, 50, 256])\n"
     ]
    },
    {
     "name": "stderr",
     "output_type": "stream",
     "text": [
      "INFO:root:load_day('NYC_Heat_Test/NYC_summer_2000_01p', '2000-05-25')\n",
      "INFO:root:Total generated samples: 1\n"
     ]
    },
    {
     "name": "stdout",
     "output_type": "stream",
     "text": [
      "1/1 [==============================] - ETA: 0s - loss: 8241.5195 - mean_absolute_error: 44.6836 - root_mean_squared_error: 90.7828Output shape: TensorShape([None, 8, 50, 50, 256])\n"
     ]
    },
    {
     "name": "stderr",
     "output_type": "stream",
     "text": [
      "INFO:root:load_day('NYC_Heat_Test/NYC_summer_2000_01p', '2000-05-25')\n",
      "INFO:root:Total generated samples: 1\n"
     ]
    },
    {
     "name": "stdout",
     "output_type": "stream",
     "text": [
      "1/1 [==============================] - 5s 5s/step - loss: 8241.5195 - mean_absolute_error: 44.6836 - root_mean_squared_error: 90.7828 - val_loss: 8025.9536 - val_mean_absolute_error: 44.1326 - val_root_mean_squared_error: 89.5877\n",
      "Epoch 91/150\n",
      "Output shape: TensorShape([None, 8, 50, 50, 256])\n"
     ]
    },
    {
     "name": "stderr",
     "output_type": "stream",
     "text": [
      "INFO:root:load_day('NYC_Heat_Test/NYC_summer_2000_01p', '2000-05-25')\n",
      "INFO:root:Total generated samples: 1\n"
     ]
    },
    {
     "name": "stdout",
     "output_type": "stream",
     "text": [
      "1/1 [==============================] - ETA: 0s - loss: 8025.9526 - mean_absolute_error: 44.1326 - root_mean_squared_error: 89.5877Output shape: TensorShape([None, 8, 50, 50, 256])\n"
     ]
    },
    {
     "name": "stderr",
     "output_type": "stream",
     "text": [
      "INFO:root:load_day('NYC_Heat_Test/NYC_summer_2000_01p', '2000-05-25')\n",
      "INFO:root:Total generated samples: 1\n"
     ]
    },
    {
     "name": "stdout",
     "output_type": "stream",
     "text": [
      "1/1 [==============================] - 4s 4s/step - loss: 8025.9526 - mean_absolute_error: 44.1326 - root_mean_squared_error: 89.5877 - val_loss: 7804.1479 - val_mean_absolute_error: 43.5564 - val_root_mean_squared_error: 88.3411\n",
      "Epoch 92/150\n",
      "Output shape: TensorShape([None, 8, 50, 50, 256])\n"
     ]
    },
    {
     "name": "stderr",
     "output_type": "stream",
     "text": [
      "INFO:root:load_day('NYC_Heat_Test/NYC_summer_2000_01p', '2000-05-25')\n",
      "INFO:root:Total generated samples: 1\n"
     ]
    },
    {
     "name": "stdout",
     "output_type": "stream",
     "text": [
      "1/1 [==============================] - ETA: 0s - loss: 7804.2065 - mean_absolute_error: 43.5565 - root_mean_squared_error: 88.3414Output shape: TensorShape([None, 8, 50, 50, 256])\n"
     ]
    },
    {
     "name": "stderr",
     "output_type": "stream",
     "text": [
      "INFO:root:load_day('NYC_Heat_Test/NYC_summer_2000_01p', '2000-05-25')\n",
      "INFO:root:Total generated samples: 1\n"
     ]
    },
    {
     "name": "stdout",
     "output_type": "stream",
     "text": [
      "1/1 [==============================] - 4s 4s/step - loss: 7804.2065 - mean_absolute_error: 43.5565 - root_mean_squared_error: 88.3414 - val_loss: 7588.1567 - val_mean_absolute_error: 42.9850 - val_root_mean_squared_error: 87.1100\n",
      "Epoch 93/150\n",
      "Output shape: TensorShape([None, 8, 50, 50, 256])\n"
     ]
    },
    {
     "name": "stderr",
     "output_type": "stream",
     "text": [
      "INFO:root:load_day('NYC_Heat_Test/NYC_summer_2000_01p', '2000-05-25')\n",
      "INFO:root:Total generated samples: 1\n"
     ]
    },
    {
     "name": "stdout",
     "output_type": "stream",
     "text": [
      "1/1 [==============================] - ETA: 0s - loss: 7588.1577 - mean_absolute_error: 42.9850 - root_mean_squared_error: 87.1100Output shape: TensorShape([None, 8, 50, 50, 256])\n"
     ]
    },
    {
     "name": "stderr",
     "output_type": "stream",
     "text": [
      "INFO:root:load_day('NYC_Heat_Test/NYC_summer_2000_01p', '2000-05-25')\n",
      "INFO:root:Total generated samples: 1\n"
     ]
    },
    {
     "name": "stdout",
     "output_type": "stream",
     "text": [
      "1/1 [==============================] - 4s 4s/step - loss: 7588.1577 - mean_absolute_error: 42.9850 - root_mean_squared_error: 87.1100 - val_loss: 7372.6802 - val_mean_absolute_error: 42.4043 - val_root_mean_squared_error: 85.8643\n",
      "Epoch 94/150\n",
      "Output shape: TensorShape([None, 8, 50, 50, 256])\n"
     ]
    },
    {
     "name": "stderr",
     "output_type": "stream",
     "text": [
      "INFO:root:load_day('NYC_Heat_Test/NYC_summer_2000_01p', '2000-05-25')\n",
      "INFO:root:Total generated samples: 1\n"
     ]
    },
    {
     "name": "stdout",
     "output_type": "stream",
     "text": [
      "1/1 [==============================] - ETA: 0s - loss: 7372.6802 - mean_absolute_error: 42.4043 - root_mean_squared_error: 85.8643Output shape: TensorShape([None, 8, 50, 50, 256])\n"
     ]
    },
    {
     "name": "stderr",
     "output_type": "stream",
     "text": [
      "INFO:root:load_day('NYC_Heat_Test/NYC_summer_2000_01p', '2000-05-25')\n",
      "INFO:root:Total generated samples: 1\n"
     ]
    },
    {
     "name": "stdout",
     "output_type": "stream",
     "text": [
      "1/1 [==============================] - 5s 5s/step - loss: 7372.6802 - mean_absolute_error: 42.4043 - root_mean_squared_error: 85.8643 - val_loss: 7157.4673 - val_mean_absolute_error: 41.8131 - val_root_mean_squared_error: 84.6018\n",
      "Epoch 95/150\n",
      "Output shape: TensorShape([None, 8, 50, 50, 256])\n"
     ]
    },
    {
     "name": "stderr",
     "output_type": "stream",
     "text": [
      "INFO:root:load_day('NYC_Heat_Test/NYC_summer_2000_01p', '2000-05-25')\n",
      "INFO:root:Total generated samples: 1\n"
     ]
    },
    {
     "name": "stdout",
     "output_type": "stream",
     "text": [
      "1/1 [==============================] - ETA: 0s - loss: 7157.2383 - mean_absolute_error: 41.8125 - root_mean_squared_error: 84.6005Output shape: TensorShape([None, 8, 50, 50, 256])\n"
     ]
    },
    {
     "name": "stderr",
     "output_type": "stream",
     "text": [
      "INFO:root:load_day('NYC_Heat_Test/NYC_summer_2000_01p', '2000-05-25')\n",
      "INFO:root:Total generated samples: 1\n"
     ]
    },
    {
     "name": "stdout",
     "output_type": "stream",
     "text": [
      "1/1 [==============================] - 4s 4s/step - loss: 7157.2383 - mean_absolute_error: 41.8125 - root_mean_squared_error: 84.6005 - val_loss: 6924.5137 - val_mean_absolute_error: 41.1523 - val_root_mean_squared_error: 83.2137\n",
      "Epoch 96/150\n",
      "Output shape: TensorShape([None, 8, 50, 50, 256])\n"
     ]
    },
    {
     "name": "stderr",
     "output_type": "stream",
     "text": [
      "INFO:root:load_day('NYC_Heat_Test/NYC_summer_2000_01p', '2000-05-25')\n",
      "INFO:root:Total generated samples: 1\n"
     ]
    },
    {
     "name": "stdout",
     "output_type": "stream",
     "text": [
      "1/1 [==============================] - ETA: 0s - loss: 6924.6016 - mean_absolute_error: 41.1526 - root_mean_squared_error: 83.2142Output shape: TensorShape([None, 8, 50, 50, 256])\n"
     ]
    },
    {
     "name": "stderr",
     "output_type": "stream",
     "text": [
      "INFO:root:load_day('NYC_Heat_Test/NYC_summer_2000_01p', '2000-05-25')\n",
      "INFO:root:Total generated samples: 1\n"
     ]
    },
    {
     "name": "stdout",
     "output_type": "stream",
     "text": [
      "1/1 [==============================] - 4s 4s/step - loss: 6924.6016 - mean_absolute_error: 41.1526 - root_mean_squared_error: 83.2142 - val_loss: 6710.1714 - val_mean_absolute_error: 40.5382 - val_root_mean_squared_error: 81.9156\n",
      "Epoch 97/150\n",
      "Output shape: TensorShape([None, 8, 50, 50, 256])\n"
     ]
    },
    {
     "name": "stderr",
     "output_type": "stream",
     "text": [
      "INFO:root:load_day('NYC_Heat_Test/NYC_summer_2000_01p', '2000-05-25')\n",
      "INFO:root:Total generated samples: 1\n"
     ]
    },
    {
     "name": "stdout",
     "output_type": "stream",
     "text": [
      "1/1 [==============================] - ETA: 0s - loss: 6710.1714 - mean_absolute_error: 40.5382 - root_mean_squared_error: 81.9156Output shape: TensorShape([None, 8, 50, 50, 256])\n"
     ]
    },
    {
     "name": "stderr",
     "output_type": "stream",
     "text": [
      "INFO:root:load_day('NYC_Heat_Test/NYC_summer_2000_01p', '2000-05-25')\n",
      "INFO:root:Total generated samples: 1\n"
     ]
    },
    {
     "name": "stdout",
     "output_type": "stream",
     "text": [
      "1/1 [==============================] - 5s 5s/step - loss: 6710.1714 - mean_absolute_error: 40.5382 - root_mean_squared_error: 81.9156 - val_loss: 6497.7104 - val_mean_absolute_error: 39.9166 - val_root_mean_squared_error: 80.6084\n",
      "Epoch 98/150\n",
      "Output shape: TensorShape([None, 8, 50, 50, 256])\n"
     ]
    },
    {
     "name": "stderr",
     "output_type": "stream",
     "text": [
      "INFO:root:load_day('NYC_Heat_Test/NYC_summer_2000_01p', '2000-05-25')\n",
      "INFO:root:Total generated samples: 1\n"
     ]
    },
    {
     "name": "stdout",
     "output_type": "stream",
     "text": [
      "1/1 [==============================] - ETA: 0s - loss: 6497.7114 - mean_absolute_error: 39.9166 - root_mean_squared_error: 80.6084Output shape: TensorShape([None, 8, 50, 50, 256])\n"
     ]
    },
    {
     "name": "stderr",
     "output_type": "stream",
     "text": [
      "INFO:root:load_day('NYC_Heat_Test/NYC_summer_2000_01p', '2000-05-25')\n",
      "INFO:root:Total generated samples: 1\n"
     ]
    },
    {
     "name": "stdout",
     "output_type": "stream",
     "text": [
      "1/1 [==============================] - 4s 4s/step - loss: 6497.7114 - mean_absolute_error: 39.9166 - root_mean_squared_error: 80.6084 - val_loss: 6286.6982 - val_mean_absolute_error: 39.2859 - val_root_mean_squared_error: 79.2887\n",
      "Epoch 99/150\n",
      "Output shape: TensorShape([None, 8, 50, 50, 256])\n"
     ]
    },
    {
     "name": "stderr",
     "output_type": "stream",
     "text": [
      "INFO:root:load_day('NYC_Heat_Test/NYC_summer_2000_01p', '2000-05-25')\n",
      "INFO:root:Total generated samples: 1\n"
     ]
    },
    {
     "name": "stdout",
     "output_type": "stream",
     "text": [
      "1/1 [==============================] - ETA: 0s - loss: 6286.6982 - mean_absolute_error: 39.2859 - root_mean_squared_error: 79.2887Output shape: TensorShape([None, 8, 50, 50, 256])\n"
     ]
    },
    {
     "name": "stderr",
     "output_type": "stream",
     "text": [
      "INFO:root:load_day('NYC_Heat_Test/NYC_summer_2000_01p', '2000-05-25')\n",
      "INFO:root:Total generated samples: 1\n"
     ]
    },
    {
     "name": "stdout",
     "output_type": "stream",
     "text": [
      "1/1 [==============================] - 4s 4s/step - loss: 6286.6982 - mean_absolute_error: 39.2859 - root_mean_squared_error: 79.2887 - val_loss: 6077.0400 - val_mean_absolute_error: 38.6454 - val_root_mean_squared_error: 77.9554\n",
      "Epoch 100/150\n",
      "Output shape: TensorShape([None, 8, 50, 50, 256])\n"
     ]
    },
    {
     "name": "stderr",
     "output_type": "stream",
     "text": [
      "INFO:root:load_day('NYC_Heat_Test/NYC_summer_2000_01p', '2000-05-25')\n",
      "INFO:root:Total generated samples: 1\n"
     ]
    },
    {
     "name": "stdout",
     "output_type": "stream",
     "text": [
      "1/1 [==============================] - ETA: 0s - loss: 6077.0400 - mean_absolute_error: 38.6454 - root_mean_squared_error: 77.9554Output shape: TensorShape([None, 8, 50, 50, 256])\n"
     ]
    },
    {
     "name": "stderr",
     "output_type": "stream",
     "text": [
      "INFO:root:load_day('NYC_Heat_Test/NYC_summer_2000_01p', '2000-05-25')\n",
      "INFO:root:Total generated samples: 1\n"
     ]
    },
    {
     "name": "stdout",
     "output_type": "stream",
     "text": [
      "1/1 [==============================] - 4s 4s/step - loss: 6077.0400 - mean_absolute_error: 38.6454 - root_mean_squared_error: 77.9554 - val_loss: 5869.4897 - val_mean_absolute_error: 37.9967 - val_root_mean_squared_error: 76.6126\n",
      "Epoch 101/150\n",
      "Output shape: TensorShape([None, 8, 50, 50, 256])\n"
     ]
    },
    {
     "name": "stderr",
     "output_type": "stream",
     "text": [
      "INFO:root:load_day('NYC_Heat_Test/NYC_summer_2000_01p', '2000-05-25')\n",
      "INFO:root:Total generated samples: 1\n"
     ]
    },
    {
     "name": "stdout",
     "output_type": "stream",
     "text": [
      "1/1 [==============================] - ETA: 0s - loss: 5869.4897 - mean_absolute_error: 37.9967 - root_mean_squared_error: 76.6126Output shape: TensorShape([None, 8, 50, 50, 256])\n"
     ]
    },
    {
     "name": "stderr",
     "output_type": "stream",
     "text": [
      "INFO:root:load_day('NYC_Heat_Test/NYC_summer_2000_01p', '2000-05-25')\n",
      "INFO:root:Total generated samples: 1\n"
     ]
    },
    {
     "name": "stdout",
     "output_type": "stream",
     "text": [
      "1/1 [==============================] - 4s 4s/step - loss: 5869.4897 - mean_absolute_error: 37.9967 - root_mean_squared_error: 76.6126 - val_loss: 5663.6313 - val_mean_absolute_error: 37.3384 - val_root_mean_squared_error: 75.2571\n",
      "Epoch 102/150\n",
      "Output shape: TensorShape([None, 8, 50, 50, 256])\n"
     ]
    },
    {
     "name": "stderr",
     "output_type": "stream",
     "text": [
      "INFO:root:load_day('NYC_Heat_Test/NYC_summer_2000_01p', '2000-05-25')\n",
      "INFO:root:Total generated samples: 1\n"
     ]
    },
    {
     "name": "stdout",
     "output_type": "stream",
     "text": [
      "1/1 [==============================] - ETA: 0s - loss: 5663.6313 - mean_absolute_error: 37.3384 - root_mean_squared_error: 75.2571Output shape: TensorShape([None, 8, 50, 50, 256])\n"
     ]
    },
    {
     "name": "stderr",
     "output_type": "stream",
     "text": [
      "INFO:root:load_day('NYC_Heat_Test/NYC_summer_2000_01p', '2000-05-25')\n",
      "INFO:root:Total generated samples: 1\n"
     ]
    },
    {
     "name": "stdout",
     "output_type": "stream",
     "text": [
      "1/1 [==============================] - 4s 4s/step - loss: 5663.6313 - mean_absolute_error: 37.3384 - root_mean_squared_error: 75.2571 - val_loss: 5460.4658 - val_mean_absolute_error: 36.6731 - val_root_mean_squared_error: 73.8950\n",
      "Epoch 103/150\n",
      "Output shape: TensorShape([None, 8, 50, 50, 256])\n"
     ]
    },
    {
     "name": "stderr",
     "output_type": "stream",
     "text": [
      "INFO:root:load_day('NYC_Heat_Test/NYC_summer_2000_01p', '2000-05-25')\n",
      "INFO:root:Total generated samples: 1\n"
     ]
    },
    {
     "name": "stdout",
     "output_type": "stream",
     "text": [
      "1/1 [==============================] - ETA: 0s - loss: 5460.4658 - mean_absolute_error: 36.6731 - root_mean_squared_error: 73.8950Output shape: TensorShape([None, 8, 50, 50, 256])\n"
     ]
    },
    {
     "name": "stderr",
     "output_type": "stream",
     "text": [
      "INFO:root:load_day('NYC_Heat_Test/NYC_summer_2000_01p', '2000-05-25')\n",
      "INFO:root:Total generated samples: 1\n"
     ]
    },
    {
     "name": "stdout",
     "output_type": "stream",
     "text": [
      "1/1 [==============================] - 4s 4s/step - loss: 5460.4658 - mean_absolute_error: 36.6731 - root_mean_squared_error: 73.8950 - val_loss: 5259.9438 - val_mean_absolute_error: 36.0004 - val_root_mean_squared_error: 72.5255\n",
      "Epoch 104/150\n",
      "Output shape: TensorShape([None, 8, 50, 50, 256])\n"
     ]
    },
    {
     "name": "stderr",
     "output_type": "stream",
     "text": [
      "INFO:root:load_day('NYC_Heat_Test/NYC_summer_2000_01p', '2000-05-25')\n",
      "INFO:root:Total generated samples: 1\n"
     ]
    },
    {
     "name": "stdout",
     "output_type": "stream",
     "text": [
      "1/1 [==============================] - ETA: 0s - loss: 5259.9438 - mean_absolute_error: 36.0004 - root_mean_squared_error: 72.5255Output shape: TensorShape([None, 8, 50, 50, 256])\n"
     ]
    },
    {
     "name": "stderr",
     "output_type": "stream",
     "text": [
      "INFO:root:load_day('NYC_Heat_Test/NYC_summer_2000_01p', '2000-05-25')\n",
      "INFO:root:Total generated samples: 1\n"
     ]
    },
    {
     "name": "stdout",
     "output_type": "stream",
     "text": [
      "1/1 [==============================] - 5s 5s/step - loss: 5259.9438 - mean_absolute_error: 36.0004 - root_mean_squared_error: 72.5255 - val_loss: 5062.1079 - val_mean_absolute_error: 35.3205 - val_root_mean_squared_error: 71.1485\n",
      "Epoch 105/150\n",
      "Output shape: TensorShape([None, 8, 50, 50, 256])\n"
     ]
    },
    {
     "name": "stderr",
     "output_type": "stream",
     "text": [
      "INFO:root:load_day('NYC_Heat_Test/NYC_summer_2000_01p', '2000-05-25')\n",
      "INFO:root:Total generated samples: 1\n"
     ]
    },
    {
     "name": "stdout",
     "output_type": "stream",
     "text": [
      "1/1 [==============================] - ETA: 0s - loss: 5062.1079 - mean_absolute_error: 35.3205 - root_mean_squared_error: 71.1485Output shape: TensorShape([None, 8, 50, 50, 256])\n"
     ]
    },
    {
     "name": "stderr",
     "output_type": "stream",
     "text": [
      "INFO:root:load_day('NYC_Heat_Test/NYC_summer_2000_01p', '2000-05-25')\n",
      "INFO:root:Total generated samples: 1\n"
     ]
    },
    {
     "name": "stdout",
     "output_type": "stream",
     "text": [
      "1/1 [==============================] - 4s 4s/step - loss: 5062.1079 - mean_absolute_error: 35.3205 - root_mean_squared_error: 71.1485 - val_loss: 4867.5625 - val_mean_absolute_error: 34.6352 - val_root_mean_squared_error: 69.7679\n",
      "Epoch 106/150\n",
      "Output shape: TensorShape([None, 8, 50, 50, 256])\n"
     ]
    },
    {
     "name": "stderr",
     "output_type": "stream",
     "text": [
      "INFO:root:load_day('NYC_Heat_Test/NYC_summer_2000_01p', '2000-05-25')\n",
      "INFO:root:Total generated samples: 1\n"
     ]
    },
    {
     "name": "stdout",
     "output_type": "stream",
     "text": [
      "1/1 [==============================] - ETA: 0s - loss: 4867.5610 - mean_absolute_error: 34.6352 - root_mean_squared_error: 69.7679Output shape: TensorShape([None, 8, 50, 50, 256])\n"
     ]
    },
    {
     "name": "stderr",
     "output_type": "stream",
     "text": [
      "INFO:root:load_day('NYC_Heat_Test/NYC_summer_2000_01p', '2000-05-25')\n",
      "INFO:root:Total generated samples: 1\n"
     ]
    },
    {
     "name": "stdout",
     "output_type": "stream",
     "text": [
      "1/1 [==============================] - 4s 4s/step - loss: 4867.5610 - mean_absolute_error: 34.6352 - root_mean_squared_error: 69.7679 - val_loss: 4676.3066 - val_mean_absolute_error: 33.9437 - val_root_mean_squared_error: 68.3835\n",
      "Epoch 107/150\n",
      "Output shape: TensorShape([None, 8, 50, 50, 256])\n"
     ]
    },
    {
     "name": "stderr",
     "output_type": "stream",
     "text": [
      "INFO:root:load_day('NYC_Heat_Test/NYC_summer_2000_01p', '2000-05-25')\n",
      "INFO:root:Total generated samples: 1\n"
     ]
    },
    {
     "name": "stdout",
     "output_type": "stream",
     "text": [
      "1/1 [==============================] - ETA: 0s - loss: 4676.2954 - mean_absolute_error: 33.9437 - root_mean_squared_error: 68.3834Output shape: TensorShape([None, 8, 50, 50, 256])\n"
     ]
    },
    {
     "name": "stderr",
     "output_type": "stream",
     "text": [
      "INFO:root:load_day('NYC_Heat_Test/NYC_summer_2000_01p', '2000-05-25')\n",
      "INFO:root:Total generated samples: 1\n"
     ]
    },
    {
     "name": "stdout",
     "output_type": "stream",
     "text": [
      "1/1 [==============================] - 4s 4s/step - loss: 4676.2954 - mean_absolute_error: 33.9437 - root_mean_squared_error: 68.3834 - val_loss: 4485.5273 - val_mean_absolute_error: 33.2365 - val_root_mean_squared_error: 66.9741\n",
      "Epoch 108/150\n",
      "Output shape: TensorShape([None, 8, 50, 50, 256])\n"
     ]
    },
    {
     "name": "stderr",
     "output_type": "stream",
     "text": [
      "INFO:root:load_day('NYC_Heat_Test/NYC_summer_2000_01p', '2000-05-25')\n",
      "INFO:root:Total generated samples: 1\n"
     ]
    },
    {
     "name": "stdout",
     "output_type": "stream",
     "text": [
      "1/1 [==============================] - ETA: 0s - loss: 4485.6963 - mean_absolute_error: 33.2372 - root_mean_squared_error: 66.9753Output shape: TensorShape([None, 8, 50, 50, 256])\n"
     ]
    },
    {
     "name": "stderr",
     "output_type": "stream",
     "text": [
      "INFO:root:load_day('NYC_Heat_Test/NYC_summer_2000_01p', '2000-05-25')\n",
      "INFO:root:Total generated samples: 1\n"
     ]
    },
    {
     "name": "stdout",
     "output_type": "stream",
     "text": [
      "1/1 [==============================] - 5s 5s/step - loss: 4485.6963 - mean_absolute_error: 33.2372 - root_mean_squared_error: 66.9753 - val_loss: 4271.5513 - val_mean_absolute_error: 32.4112 - val_root_mean_squared_error: 65.3571\n",
      "Epoch 109/150\n",
      "Output shape: TensorShape([None, 8, 50, 50, 256])\n"
     ]
    },
    {
     "name": "stderr",
     "output_type": "stream",
     "text": [
      "INFO:root:load_day('NYC_Heat_Test/NYC_summer_2000_01p', '2000-05-25')\n",
      "INFO:root:Total generated samples: 1\n"
     ]
    },
    {
     "name": "stdout",
     "output_type": "stream",
     "text": [
      "1/1 [==============================] - ETA: 0s - loss: 4271.6489 - mean_absolute_error: 32.4115 - root_mean_squared_error: 65.3578Output shape: TensorShape([None, 8, 50, 50, 256])\n"
     ]
    },
    {
     "name": "stderr",
     "output_type": "stream",
     "text": [
      "INFO:root:load_day('NYC_Heat_Test/NYC_summer_2000_01p', '2000-05-25')\n",
      "INFO:root:Total generated samples: 1\n"
     ]
    },
    {
     "name": "stdout",
     "output_type": "stream",
     "text": [
      "1/1 [==============================] - 5s 5s/step - loss: 4271.6489 - mean_absolute_error: 32.4115 - root_mean_squared_error: 65.3578 - val_loss: 4091.6309 - val_mean_absolute_error: 31.7028 - val_root_mean_squared_error: 63.9659\n",
      "Epoch 110/150\n",
      "Output shape: TensorShape([None, 8, 50, 50, 256])\n"
     ]
    },
    {
     "name": "stderr",
     "output_type": "stream",
     "text": [
      "INFO:root:load_day('NYC_Heat_Test/NYC_summer_2000_01p', '2000-05-25')\n",
      "INFO:root:Total generated samples: 1\n"
     ]
    },
    {
     "name": "stdout",
     "output_type": "stream",
     "text": [
      "1/1 [==============================] - ETA: 0s - loss: 4091.6309 - mean_absolute_error: 31.7028 - root_mean_squared_error: 63.9659Output shape: TensorShape([None, 8, 50, 50, 256])\n"
     ]
    },
    {
     "name": "stderr",
     "output_type": "stream",
     "text": [
      "INFO:root:load_day('NYC_Heat_Test/NYC_summer_2000_01p', '2000-05-25')\n",
      "INFO:root:Total generated samples: 1\n"
     ]
    },
    {
     "name": "stdout",
     "output_type": "stream",
     "text": [
      "1/1 [==============================] - 4s 4s/step - loss: 4091.6309 - mean_absolute_error: 31.7028 - root_mean_squared_error: 63.9659 - val_loss: 3916.0156 - val_mean_absolute_error: 30.9921 - val_root_mean_squared_error: 62.5781\n",
      "Epoch 111/150\n",
      "Output shape: TensorShape([None, 8, 50, 50, 256])\n"
     ]
    },
    {
     "name": "stderr",
     "output_type": "stream",
     "text": [
      "INFO:root:load_day('NYC_Heat_Test/NYC_summer_2000_01p', '2000-05-25')\n",
      "INFO:root:Total generated samples: 1\n"
     ]
    },
    {
     "name": "stdout",
     "output_type": "stream",
     "text": [
      "1/1 [==============================] - ETA: 0s - loss: 3916.0161 - mean_absolute_error: 30.9921 - root_mean_squared_error: 62.5781Output shape: TensorShape([None, 8, 50, 50, 256])\n"
     ]
    },
    {
     "name": "stderr",
     "output_type": "stream",
     "text": [
      "INFO:root:load_day('NYC_Heat_Test/NYC_summer_2000_01p', '2000-05-25')\n",
      "INFO:root:Total generated samples: 1\n"
     ]
    },
    {
     "name": "stdout",
     "output_type": "stream",
     "text": [
      "1/1 [==============================] - 4s 4s/step - loss: 3916.0161 - mean_absolute_error: 30.9921 - root_mean_squared_error: 62.5781 - val_loss: 3744.6584 - val_mean_absolute_error: 30.2791 - val_root_mean_squared_error: 61.1936\n",
      "Epoch 112/150\n",
      "Output shape: TensorShape([None, 8, 50, 50, 256])\n"
     ]
    },
    {
     "name": "stderr",
     "output_type": "stream",
     "text": [
      "INFO:root:load_day('NYC_Heat_Test/NYC_summer_2000_01p', '2000-05-25')\n",
      "INFO:root:Total generated samples: 1\n"
     ]
    },
    {
     "name": "stdout",
     "output_type": "stream",
     "text": [
      "1/1 [==============================] - ETA: 0s - loss: 3744.6584 - mean_absolute_error: 30.2791 - root_mean_squared_error: 61.1936Output shape: TensorShape([None, 8, 50, 50, 256])\n"
     ]
    },
    {
     "name": "stderr",
     "output_type": "stream",
     "text": [
      "INFO:root:load_day('NYC_Heat_Test/NYC_summer_2000_01p', '2000-05-25')\n",
      "INFO:root:Total generated samples: 1\n"
     ]
    },
    {
     "name": "stdout",
     "output_type": "stream",
     "text": [
      "1/1 [==============================] - 4s 4s/step - loss: 3744.6584 - mean_absolute_error: 30.2791 - root_mean_squared_error: 61.1936 - val_loss: 3578.2883 - val_mean_absolute_error: 29.5655 - val_root_mean_squared_error: 59.8188\n",
      "Epoch 113/150\n",
      "Output shape: TensorShape([None, 8, 50, 50, 256])\n"
     ]
    },
    {
     "name": "stderr",
     "output_type": "stream",
     "text": [
      "INFO:root:load_day('NYC_Heat_Test/NYC_summer_2000_01p', '2000-05-25')\n",
      "INFO:root:Total generated samples: 1\n"
     ]
    },
    {
     "name": "stdout",
     "output_type": "stream",
     "text": [
      "1/1 [==============================] - ETA: 0s - loss: 3578.2883 - mean_absolute_error: 29.5655 - root_mean_squared_error: 59.8188Output shape: TensorShape([None, 8, 50, 50, 256])\n"
     ]
    },
    {
     "name": "stderr",
     "output_type": "stream",
     "text": [
      "INFO:root:load_day('NYC_Heat_Test/NYC_summer_2000_01p', '2000-05-25')\n",
      "INFO:root:Total generated samples: 1\n"
     ]
    },
    {
     "name": "stdout",
     "output_type": "stream",
     "text": [
      "1/1 [==============================] - 4s 4s/step - loss: 3578.2883 - mean_absolute_error: 29.5655 - root_mean_squared_error: 59.8188 - val_loss: 3416.2532 - val_mean_absolute_error: 28.8496 - val_root_mean_squared_error: 58.4487\n",
      "Epoch 114/150\n",
      "Output shape: TensorShape([None, 8, 50, 50, 256])\n"
     ]
    },
    {
     "name": "stderr",
     "output_type": "stream",
     "text": [
      "INFO:root:load_day('NYC_Heat_Test/NYC_summer_2000_01p', '2000-05-25')\n",
      "INFO:root:Total generated samples: 1\n"
     ]
    },
    {
     "name": "stdout",
     "output_type": "stream",
     "text": [
      "1/1 [==============================] - ETA: 0s - loss: 3416.2537 - mean_absolute_error: 28.8496 - root_mean_squared_error: 58.4487Output shape: TensorShape([None, 8, 50, 50, 256])\n"
     ]
    },
    {
     "name": "stderr",
     "output_type": "stream",
     "text": [
      "INFO:root:load_day('NYC_Heat_Test/NYC_summer_2000_01p', '2000-05-25')\n",
      "INFO:root:Total generated samples: 1\n"
     ]
    },
    {
     "name": "stdout",
     "output_type": "stream",
     "text": [
      "1/1 [==============================] - 5s 5s/step - loss: 3416.2537 - mean_absolute_error: 28.8496 - root_mean_squared_error: 58.4487 - val_loss: 3259.5769 - val_mean_absolute_error: 28.1350 - val_root_mean_squared_error: 57.0927\n",
      "Epoch 115/150\n",
      "Output shape: TensorShape([None, 8, 50, 50, 256])\n"
     ]
    },
    {
     "name": "stderr",
     "output_type": "stream",
     "text": [
      "INFO:root:load_day('NYC_Heat_Test/NYC_summer_2000_01p', '2000-05-25')\n",
      "INFO:root:Total generated samples: 1\n"
     ]
    },
    {
     "name": "stdout",
     "output_type": "stream",
     "text": [
      "1/1 [==============================] - ETA: 0s - loss: 3259.5769 - mean_absolute_error: 28.1350 - root_mean_squared_error: 57.0927Output shape: TensorShape([None, 8, 50, 50, 256])\n"
     ]
    },
    {
     "name": "stderr",
     "output_type": "stream",
     "text": [
      "INFO:root:load_day('NYC_Heat_Test/NYC_summer_2000_01p', '2000-05-25')\n",
      "INFO:root:Total generated samples: 1\n"
     ]
    },
    {
     "name": "stdout",
     "output_type": "stream",
     "text": [
      "1/1 [==============================] - 4s 4s/step - loss: 3259.5769 - mean_absolute_error: 28.1350 - root_mean_squared_error: 57.0927 - val_loss: 3107.7979 - val_mean_absolute_error: 27.4209 - val_root_mean_squared_error: 55.7476\n",
      "Epoch 116/150\n",
      "Output shape: TensorShape([None, 8, 50, 50, 256])\n"
     ]
    },
    {
     "name": "stderr",
     "output_type": "stream",
     "text": [
      "INFO:root:load_day('NYC_Heat_Test/NYC_summer_2000_01p', '2000-05-25')\n",
      "INFO:root:Total generated samples: 1\n"
     ]
    },
    {
     "name": "stdout",
     "output_type": "stream",
     "text": [
      "1/1 [==============================] - ETA: 0s - loss: 3107.7974 - mean_absolute_error: 27.4209 - root_mean_squared_error: 55.7476Output shape: TensorShape([None, 8, 50, 50, 256])\n"
     ]
    },
    {
     "name": "stderr",
     "output_type": "stream",
     "text": [
      "INFO:root:load_day('NYC_Heat_Test/NYC_summer_2000_01p', '2000-05-25')\n",
      "INFO:root:Total generated samples: 1\n"
     ]
    },
    {
     "name": "stdout",
     "output_type": "stream",
     "text": [
      "1/1 [==============================] - 5s 5s/step - loss: 3107.7974 - mean_absolute_error: 27.4209 - root_mean_squared_error: 55.7476 - val_loss: 2961.2483 - val_mean_absolute_error: 26.7087 - val_root_mean_squared_error: 54.4174\n",
      "Epoch 117/150\n",
      "Output shape: TensorShape([None, 8, 50, 50, 256])\n"
     ]
    },
    {
     "name": "stderr",
     "output_type": "stream",
     "text": [
      "INFO:root:load_day('NYC_Heat_Test/NYC_summer_2000_01p', '2000-05-25')\n",
      "INFO:root:Total generated samples: 1\n"
     ]
    },
    {
     "name": "stdout",
     "output_type": "stream",
     "text": [
      "1/1 [==============================] - ETA: 0s - loss: 2961.2473 - mean_absolute_error: 26.7087 - root_mean_squared_error: 54.4173Output shape: TensorShape([None, 8, 50, 50, 256])\n"
     ]
    },
    {
     "name": "stderr",
     "output_type": "stream",
     "text": [
      "INFO:root:load_day('NYC_Heat_Test/NYC_summer_2000_01p', '2000-05-25')\n",
      "INFO:root:Total generated samples: 1\n"
     ]
    },
    {
     "name": "stdout",
     "output_type": "stream",
     "text": [
      "1/1 [==============================] - 4s 4s/step - loss: 2961.2473 - mean_absolute_error: 26.7087 - root_mean_squared_error: 54.4173 - val_loss: 2819.0769 - val_mean_absolute_error: 25.9926 - val_root_mean_squared_error: 53.0950\n",
      "Epoch 118/150\n",
      "Output shape: TensorShape([None, 8, 50, 50, 256])\n"
     ]
    },
    {
     "name": "stderr",
     "output_type": "stream",
     "text": [
      "INFO:root:load_day('NYC_Heat_Test/NYC_summer_2000_01p', '2000-05-25')\n",
      "INFO:root:Total generated samples: 1\n"
     ]
    },
    {
     "name": "stdout",
     "output_type": "stream",
     "text": [
      "1/1 [==============================] - ETA: 0s - loss: 2818.6484 - mean_absolute_error: 25.9897 - root_mean_squared_error: 53.0909Output shape: TensorShape([None, 8, 50, 50, 256])\n"
     ]
    },
    {
     "name": "stderr",
     "output_type": "stream",
     "text": [
      "INFO:root:load_day('NYC_Heat_Test/NYC_summer_2000_01p', '2000-05-25')\n",
      "INFO:root:Total generated samples: 1\n"
     ]
    },
    {
     "name": "stdout",
     "output_type": "stream",
     "text": [
      "1/1 [==============================] - 4s 4s/step - loss: 2818.6484 - mean_absolute_error: 25.9897 - root_mean_squared_error: 53.0909 - val_loss: 2680.0415 - val_mean_absolute_error: 25.2645 - val_root_mean_squared_error: 51.7691\n",
      "Epoch 119/150\n",
      "Output shape: TensorShape([None, 8, 50, 50, 256])\n"
     ]
    },
    {
     "name": "stderr",
     "output_type": "stream",
     "text": [
      "INFO:root:load_day('NYC_Heat_Test/NYC_summer_2000_01p', '2000-05-25')\n",
      "INFO:root:Total generated samples: 1\n"
     ]
    },
    {
     "name": "stdout",
     "output_type": "stream",
     "text": [
      "1/1 [==============================] - ETA: 0s - loss: 2680.0427 - mean_absolute_error: 25.2645 - root_mean_squared_error: 51.7691Output shape: TensorShape([None, 8, 50, 50, 256])\n"
     ]
    },
    {
     "name": "stderr",
     "output_type": "stream",
     "text": [
      "INFO:root:load_day('NYC_Heat_Test/NYC_summer_2000_01p', '2000-05-25')\n",
      "INFO:root:Total generated samples: 1\n"
     ]
    },
    {
     "name": "stdout",
     "output_type": "stream",
     "text": [
      "1/1 [==============================] - 4s 4s/step - loss: 2680.0427 - mean_absolute_error: 25.2645 - root_mean_squared_error: 51.7691 - val_loss: 2549.6340 - val_mean_absolute_error: 24.5611 - val_root_mean_squared_error: 50.4939\n",
      "Epoch 120/150\n",
      "Output shape: TensorShape([None, 8, 50, 50, 256])\n"
     ]
    },
    {
     "name": "stderr",
     "output_type": "stream",
     "text": [
      "INFO:root:load_day('NYC_Heat_Test/NYC_summer_2000_01p', '2000-05-25')\n",
      "INFO:root:Total generated samples: 1\n"
     ]
    },
    {
     "name": "stdout",
     "output_type": "stream",
     "text": [
      "1/1 [==============================] - ETA: 0s - loss: 2549.6340 - mean_absolute_error: 24.5611 - root_mean_squared_error: 50.4939Output shape: TensorShape([None, 8, 50, 50, 256])\n"
     ]
    },
    {
     "name": "stderr",
     "output_type": "stream",
     "text": [
      "INFO:root:load_day('NYC_Heat_Test/NYC_summer_2000_01p', '2000-05-25')\n",
      "INFO:root:Total generated samples: 1\n"
     ]
    },
    {
     "name": "stdout",
     "output_type": "stream",
     "text": [
      "1/1 [==============================] - 5s 5s/step - loss: 2549.6340 - mean_absolute_error: 24.5611 - root_mean_squared_error: 50.4939 - val_loss: 2424.3567 - val_mean_absolute_error: 23.8613 - val_root_mean_squared_error: 49.2378\n",
      "Epoch 121/150\n",
      "Output shape: TensorShape([None, 8, 50, 50, 256])\n"
     ]
    },
    {
     "name": "stderr",
     "output_type": "stream",
     "text": [
      "INFO:root:load_day('NYC_Heat_Test/NYC_summer_2000_01p', '2000-05-25')\n",
      "INFO:root:Total generated samples: 1\n"
     ]
    },
    {
     "name": "stdout",
     "output_type": "stream",
     "text": [
      "1/1 [==============================] - ETA: 0s - loss: 2424.3562 - mean_absolute_error: 23.8613 - root_mean_squared_error: 49.2378Output shape: TensorShape([None, 8, 50, 50, 256])\n"
     ]
    },
    {
     "name": "stderr",
     "output_type": "stream",
     "text": [
      "INFO:root:load_day('NYC_Heat_Test/NYC_summer_2000_01p', '2000-05-25')\n",
      "INFO:root:Total generated samples: 1\n"
     ]
    },
    {
     "name": "stdout",
     "output_type": "stream",
     "text": [
      "1/1 [==============================] - 4s 4s/step - loss: 2424.3562 - mean_absolute_error: 23.8613 - root_mean_squared_error: 49.2378 - val_loss: 2304.8359 - val_mean_absolute_error: 23.1681 - val_root_mean_squared_error: 48.0087\n",
      "Epoch 122/150\n",
      "Output shape: TensorShape([None, 8, 50, 50, 256])\n"
     ]
    },
    {
     "name": "stderr",
     "output_type": "stream",
     "text": [
      "INFO:root:load_day('NYC_Heat_Test/NYC_summer_2000_01p', '2000-05-25')\n",
      "INFO:root:Total generated samples: 1\n"
     ]
    },
    {
     "name": "stdout",
     "output_type": "stream",
     "text": [
      "1/1 [==============================] - ETA: 0s - loss: 2304.8337 - mean_absolute_error: 23.1681 - root_mean_squared_error: 48.0087Output shape: TensorShape([None, 8, 50, 50, 256])\n"
     ]
    },
    {
     "name": "stderr",
     "output_type": "stream",
     "text": [
      "INFO:root:load_day('NYC_Heat_Test/NYC_summer_2000_01p', '2000-05-25')\n",
      "INFO:root:Total generated samples: 1\n"
     ]
    },
    {
     "name": "stdout",
     "output_type": "stream",
     "text": [
      "1/1 [==============================] - 5s 5s/step - loss: 2304.8337 - mean_absolute_error: 23.1681 - root_mean_squared_error: 48.0087 - val_loss: 2190.1914 - val_mean_absolute_error: 22.4795 - val_root_mean_squared_error: 46.7995\n",
      "Epoch 123/150\n",
      "Output shape: TensorShape([None, 8, 50, 50, 256])\n"
     ]
    },
    {
     "name": "stderr",
     "output_type": "stream",
     "text": [
      "INFO:root:load_day('NYC_Heat_Test/NYC_summer_2000_01p', '2000-05-25')\n",
      "INFO:root:Total generated samples: 1\n"
     ]
    },
    {
     "name": "stdout",
     "output_type": "stream",
     "text": [
      "1/1 [==============================] - ETA: 0s - loss: 2190.2329 - mean_absolute_error: 22.4797 - root_mean_squared_error: 46.7999Output shape: TensorShape([None, 8, 50, 50, 256])\n"
     ]
    },
    {
     "name": "stderr",
     "output_type": "stream",
     "text": [
      "INFO:root:load_day('NYC_Heat_Test/NYC_summer_2000_01p', '2000-05-25')\n",
      "INFO:root:Total generated samples: 1\n"
     ]
    },
    {
     "name": "stdout",
     "output_type": "stream",
     "text": [
      "1/1 [==============================] - 5s 5s/step - loss: 2190.2329 - mean_absolute_error: 22.4797 - root_mean_squared_error: 46.7999 - val_loss: 2068.6841 - val_mean_absolute_error: 21.7402 - val_root_mean_squared_error: 45.4828\n",
      "Epoch 124/150\n",
      "Output shape: TensorShape([None, 8, 50, 50, 256])\n"
     ]
    },
    {
     "name": "stderr",
     "output_type": "stream",
     "text": [
      "INFO:root:load_day('NYC_Heat_Test/NYC_summer_2000_01p', '2000-05-25')\n",
      "INFO:root:Total generated samples: 1\n"
     ]
    },
    {
     "name": "stdout",
     "output_type": "stream",
     "text": [
      "1/1 [==============================] - ETA: 0s - loss: 2070.3545 - mean_absolute_error: 21.7527 - root_mean_squared_error: 45.5011Output shape: TensorShape([None, 8, 50, 50, 256])\n"
     ]
    },
    {
     "name": "stderr",
     "output_type": "stream",
     "text": [
      "INFO:root:load_day('NYC_Heat_Test/NYC_summer_2000_01p', '2000-05-25')\n",
      "INFO:root:Total generated samples: 1\n"
     ]
    },
    {
     "name": "stdout",
     "output_type": "stream",
     "text": [
      "1/1 [==============================] - 4s 4s/step - loss: 2070.3545 - mean_absolute_error: 21.7527 - root_mean_squared_error: 45.5011 - val_loss: 1962.8834 - val_mean_absolute_error: 21.0944 - val_root_mean_squared_error: 44.3044\n",
      "Epoch 125/150\n",
      "Output shape: TensorShape([None, 8, 50, 50, 256])\n"
     ]
    },
    {
     "name": "stderr",
     "output_type": "stream",
     "text": [
      "INFO:root:load_day('NYC_Heat_Test/NYC_summer_2000_01p', '2000-05-25')\n",
      "INFO:root:Total generated samples: 1\n"
     ]
    },
    {
     "name": "stdout",
     "output_type": "stream",
     "text": [
      "1/1 [==============================] - ETA: 0s - loss: 1962.8906 - mean_absolute_error: 21.0945 - root_mean_squared_error: 44.3045Output shape: TensorShape([None, 8, 50, 50, 256])\n"
     ]
    },
    {
     "name": "stderr",
     "output_type": "stream",
     "text": [
      "INFO:root:load_day('NYC_Heat_Test/NYC_summer_2000_01p', '2000-05-25')\n",
      "INFO:root:Total generated samples: 1\n"
     ]
    },
    {
     "name": "stdout",
     "output_type": "stream",
     "text": [
      "1/1 [==============================] - 4s 4s/step - loss: 1962.8906 - mean_absolute_error: 21.0945 - root_mean_squared_error: 44.3045 - val_loss: 1865.1093 - val_mean_absolute_error: 20.5219 - val_root_mean_squared_error: 43.1869\n",
      "Epoch 126/150\n",
      "Output shape: TensorShape([None, 8, 50, 50, 256])\n"
     ]
    },
    {
     "name": "stderr",
     "output_type": "stream",
     "text": [
      "INFO:root:load_day('NYC_Heat_Test/NYC_summer_2000_01p', '2000-05-25')\n",
      "INFO:root:Total generated samples: 1\n"
     ]
    },
    {
     "name": "stdout",
     "output_type": "stream",
     "text": [
      "1/1 [==============================] - ETA: 0s - loss: 1865.1093 - mean_absolute_error: 20.5219 - root_mean_squared_error: 43.1869Output shape: TensorShape([None, 8, 50, 50, 256])\n"
     ]
    },
    {
     "name": "stderr",
     "output_type": "stream",
     "text": [
      "INFO:root:load_day('NYC_Heat_Test/NYC_summer_2000_01p', '2000-05-25')\n",
      "INFO:root:Total generated samples: 1\n"
     ]
    },
    {
     "name": "stdout",
     "output_type": "stream",
     "text": [
      "1/1 [==============================] - 5s 5s/step - loss: 1865.1093 - mean_absolute_error: 20.5219 - root_mean_squared_error: 43.1869 - val_loss: 1772.3018 - val_mean_absolute_error: 19.9880 - val_root_mean_squared_error: 42.0987\n",
      "Epoch 127/150\n",
      "Output shape: TensorShape([None, 8, 50, 50, 256])\n"
     ]
    },
    {
     "name": "stderr",
     "output_type": "stream",
     "text": [
      "INFO:root:load_day('NYC_Heat_Test/NYC_summer_2000_01p', '2000-05-25')\n",
      "INFO:root:Total generated samples: 1\n"
     ]
    },
    {
     "name": "stdout",
     "output_type": "stream",
     "text": [
      "1/1 [==============================] - ETA: 0s - loss: 1772.3016 - mean_absolute_error: 19.9880 - root_mean_squared_error: 42.0987Output shape: TensorShape([None, 8, 50, 50, 256])\n"
     ]
    },
    {
     "name": "stderr",
     "output_type": "stream",
     "text": [
      "INFO:root:load_day('NYC_Heat_Test/NYC_summer_2000_01p', '2000-05-25')\n",
      "INFO:root:Total generated samples: 1\n"
     ]
    },
    {
     "name": "stdout",
     "output_type": "stream",
     "text": [
      "1/1 [==============================] - 4s 4s/step - loss: 1772.3016 - mean_absolute_error: 19.9880 - root_mean_squared_error: 42.0987 - val_loss: 1684.6156 - val_mean_absolute_error: 19.4925 - val_root_mean_squared_error: 41.0441\n",
      "Epoch 128/150\n",
      "Output shape: TensorShape([None, 8, 50, 50, 256])\n"
     ]
    },
    {
     "name": "stderr",
     "output_type": "stream",
     "text": [
      "INFO:root:load_day('NYC_Heat_Test/NYC_summer_2000_01p', '2000-05-25')\n",
      "INFO:root:Total generated samples: 1\n"
     ]
    },
    {
     "name": "stdout",
     "output_type": "stream",
     "text": [
      "1/1 [==============================] - ETA: 0s - loss: 1684.6158 - mean_absolute_error: 19.4925 - root_mean_squared_error: 41.0441Output shape: TensorShape([None, 8, 50, 50, 256])\n"
     ]
    },
    {
     "name": "stderr",
     "output_type": "stream",
     "text": [
      "INFO:root:load_day('NYC_Heat_Test/NYC_summer_2000_01p', '2000-05-25')\n",
      "INFO:root:Total generated samples: 1\n"
     ]
    },
    {
     "name": "stdout",
     "output_type": "stream",
     "text": [
      "1/1 [==============================] - 5s 5s/step - loss: 1684.6158 - mean_absolute_error: 19.4925 - root_mean_squared_error: 41.0441 - val_loss: 1601.8608 - val_mean_absolute_error: 19.0228 - val_root_mean_squared_error: 40.0233\n",
      "Epoch 129/150\n",
      "Output shape: TensorShape([None, 8, 50, 50, 256])\n"
     ]
    },
    {
     "name": "stderr",
     "output_type": "stream",
     "text": [
      "INFO:root:load_day('NYC_Heat_Test/NYC_summer_2000_01p', '2000-05-25')\n",
      "INFO:root:Total generated samples: 1\n"
     ]
    },
    {
     "name": "stdout",
     "output_type": "stream",
     "text": [
      "1/1 [==============================] - ETA: 0s - loss: 1601.8608 - mean_absolute_error: 19.0228 - root_mean_squared_error: 40.0233Output shape: TensorShape([None, 8, 50, 50, 256])\n"
     ]
    },
    {
     "name": "stderr",
     "output_type": "stream",
     "text": [
      "INFO:root:load_day('NYC_Heat_Test/NYC_summer_2000_01p', '2000-05-25')\n",
      "INFO:root:Total generated samples: 1\n"
     ]
    },
    {
     "name": "stdout",
     "output_type": "stream",
     "text": [
      "1/1 [==============================] - 4s 4s/step - loss: 1601.8608 - mean_absolute_error: 19.0228 - root_mean_squared_error: 40.0233 - val_loss: 1523.9569 - val_mean_absolute_error: 18.5891 - val_root_mean_squared_error: 39.0379\n",
      "Epoch 130/150\n",
      "Output shape: TensorShape([None, 8, 50, 50, 256])\n"
     ]
    },
    {
     "name": "stderr",
     "output_type": "stream",
     "text": [
      "INFO:root:load_day('NYC_Heat_Test/NYC_summer_2000_01p', '2000-05-25')\n",
      "INFO:root:Total generated samples: 1\n"
     ]
    },
    {
     "name": "stdout",
     "output_type": "stream",
     "text": [
      "1/1 [==============================] - ETA: 0s - loss: 1523.9569 - mean_absolute_error: 18.5891 - root_mean_squared_error: 39.0379Output shape: TensorShape([None, 8, 50, 50, 256])\n"
     ]
    },
    {
     "name": "stderr",
     "output_type": "stream",
     "text": [
      "INFO:root:load_day('NYC_Heat_Test/NYC_summer_2000_01p', '2000-05-25')\n",
      "INFO:root:Total generated samples: 1\n"
     ]
    },
    {
     "name": "stdout",
     "output_type": "stream",
     "text": [
      "1/1 [==============================] - 5s 5s/step - loss: 1523.9569 - mean_absolute_error: 18.5891 - root_mean_squared_error: 39.0379 - val_loss: 1451.1882 - val_mean_absolute_error: 18.1824 - val_root_mean_squared_error: 38.0945\n",
      "Epoch 131/150\n",
      "Output shape: TensorShape([None, 8, 50, 50, 256])\n"
     ]
    },
    {
     "name": "stderr",
     "output_type": "stream",
     "text": [
      "INFO:root:load_day('NYC_Heat_Test/NYC_summer_2000_01p', '2000-05-25')\n",
      "INFO:root:Total generated samples: 1\n"
     ]
    },
    {
     "name": "stdout",
     "output_type": "stream",
     "text": [
      "1/1 [==============================] - ETA: 0s - loss: 1451.1882 - mean_absolute_error: 18.1824 - root_mean_squared_error: 38.0945Output shape: TensorShape([None, 8, 50, 50, 256])\n"
     ]
    },
    {
     "name": "stderr",
     "output_type": "stream",
     "text": [
      "INFO:root:load_day('NYC_Heat_Test/NYC_summer_2000_01p', '2000-05-25')\n",
      "INFO:root:Total generated samples: 1\n"
     ]
    },
    {
     "name": "stdout",
     "output_type": "stream",
     "text": [
      "1/1 [==============================] - 4s 4s/step - loss: 1451.1882 - mean_absolute_error: 18.1824 - root_mean_squared_error: 38.0945 - val_loss: 1382.4618 - val_mean_absolute_error: 17.7992 - val_root_mean_squared_error: 37.1815\n",
      "Epoch 132/150\n",
      "Output shape: TensorShape([None, 8, 50, 50, 256])\n"
     ]
    },
    {
     "name": "stderr",
     "output_type": "stream",
     "text": [
      "INFO:root:load_day('NYC_Heat_Test/NYC_summer_2000_01p', '2000-05-25')\n",
      "INFO:root:Total generated samples: 1\n"
     ]
    },
    {
     "name": "stdout",
     "output_type": "stream",
     "text": [
      "1/1 [==============================] - ETA: 0s - loss: 1382.4618 - mean_absolute_error: 17.7992 - root_mean_squared_error: 37.1815Output shape: TensorShape([None, 8, 50, 50, 256])\n"
     ]
    },
    {
     "name": "stderr",
     "output_type": "stream",
     "text": [
      "INFO:root:load_day('NYC_Heat_Test/NYC_summer_2000_01p', '2000-05-25')\n",
      "INFO:root:Total generated samples: 1\n"
     ]
    },
    {
     "name": "stdout",
     "output_type": "stream",
     "text": [
      "1/1 [==============================] - 5s 5s/step - loss: 1382.4618 - mean_absolute_error: 17.7992 - root_mean_squared_error: 37.1815 - val_loss: 1318.3346 - val_mean_absolute_error: 17.4434 - val_root_mean_squared_error: 36.3089\n",
      "Epoch 133/150\n",
      "Output shape: TensorShape([None, 8, 50, 50, 256])\n"
     ]
    },
    {
     "name": "stderr",
     "output_type": "stream",
     "text": [
      "INFO:root:load_day('NYC_Heat_Test/NYC_summer_2000_01p', '2000-05-25')\n",
      "INFO:root:Total generated samples: 1\n"
     ]
    },
    {
     "name": "stdout",
     "output_type": "stream",
     "text": [
      "1/1 [==============================] - ETA: 0s - loss: 1318.3348 - mean_absolute_error: 17.4434 - root_mean_squared_error: 36.3089Output shape: TensorShape([None, 8, 50, 50, 256])\n"
     ]
    },
    {
     "name": "stderr",
     "output_type": "stream",
     "text": [
      "INFO:root:load_day('NYC_Heat_Test/NYC_summer_2000_01p', '2000-05-25')\n",
      "INFO:root:Total generated samples: 1\n"
     ]
    },
    {
     "name": "stdout",
     "output_type": "stream",
     "text": [
      "1/1 [==============================] - 4s 4s/step - loss: 1318.3348 - mean_absolute_error: 17.4434 - root_mean_squared_error: 36.3089 - val_loss: 1258.2719 - val_mean_absolute_error: 17.1247 - val_root_mean_squared_error: 35.4721\n",
      "Epoch 134/150\n",
      "Output shape: TensorShape([None, 8, 50, 50, 256])\n"
     ]
    },
    {
     "name": "stderr",
     "output_type": "stream",
     "text": [
      "INFO:root:load_day('NYC_Heat_Test/NYC_summer_2000_01p', '2000-05-25')\n",
      "INFO:root:Total generated samples: 1\n"
     ]
    },
    {
     "name": "stdout",
     "output_type": "stream",
     "text": [
      "1/1 [==============================] - ETA: 0s - loss: 1258.2719 - mean_absolute_error: 17.1247 - root_mean_squared_error: 35.4721Output shape: TensorShape([None, 8, 50, 50, 256])\n"
     ]
    },
    {
     "name": "stderr",
     "output_type": "stream",
     "text": [
      "INFO:root:load_day('NYC_Heat_Test/NYC_summer_2000_01p', '2000-05-25')\n",
      "INFO:root:Total generated samples: 1\n"
     ]
    },
    {
     "name": "stdout",
     "output_type": "stream",
     "text": [
      "1/1 [==============================] - 4s 4s/step - loss: 1258.2719 - mean_absolute_error: 17.1247 - root_mean_squared_error: 35.4721 - val_loss: 1202.2410 - val_mean_absolute_error: 16.8427 - val_root_mean_squared_error: 34.6733\n",
      "Epoch 135/150\n",
      "Output shape: TensorShape([None, 8, 50, 50, 256])\n"
     ]
    },
    {
     "name": "stderr",
     "output_type": "stream",
     "text": [
      "INFO:root:load_day('NYC_Heat_Test/NYC_summer_2000_01p', '2000-05-25')\n",
      "INFO:root:Total generated samples: 1\n"
     ]
    },
    {
     "name": "stdout",
     "output_type": "stream",
     "text": [
      "1/1 [==============================] - ETA: 0s - loss: 1202.2410 - mean_absolute_error: 16.8427 - root_mean_squared_error: 34.6733Output shape: TensorShape([None, 8, 50, 50, 256])\n"
     ]
    },
    {
     "name": "stderr",
     "output_type": "stream",
     "text": [
      "INFO:root:load_day('NYC_Heat_Test/NYC_summer_2000_01p', '2000-05-25')\n",
      "INFO:root:Total generated samples: 1\n"
     ]
    },
    {
     "name": "stdout",
     "output_type": "stream",
     "text": [
      "1/1 [==============================] - 4s 4s/step - loss: 1202.2410 - mean_absolute_error: 16.8427 - root_mean_squared_error: 34.6733 - val_loss: 1149.8792 - val_mean_absolute_error: 16.5916 - val_root_mean_squared_error: 33.9099\n",
      "Epoch 136/150\n",
      "Output shape: TensorShape([None, 8, 50, 50, 256])\n"
     ]
    },
    {
     "name": "stderr",
     "output_type": "stream",
     "text": [
      "INFO:root:load_day('NYC_Heat_Test/NYC_summer_2000_01p', '2000-05-25')\n",
      "INFO:root:Total generated samples: 1\n"
     ]
    },
    {
     "name": "stdout",
     "output_type": "stream",
     "text": [
      "1/1 [==============================] - ETA: 0s - loss: 1149.8792 - mean_absolute_error: 16.5916 - root_mean_squared_error: 33.9099Output shape: TensorShape([None, 8, 50, 50, 256])\n"
     ]
    },
    {
     "name": "stderr",
     "output_type": "stream",
     "text": [
      "INFO:root:load_day('NYC_Heat_Test/NYC_summer_2000_01p', '2000-05-25')\n",
      "INFO:root:Total generated samples: 1\n"
     ]
    },
    {
     "name": "stdout",
     "output_type": "stream",
     "text": [
      "1/1 [==============================] - 4s 4s/step - loss: 1149.8792 - mean_absolute_error: 16.5916 - root_mean_squared_error: 33.9099 - val_loss: 1100.9246 - val_mean_absolute_error: 16.3666 - val_root_mean_squared_error: 33.1802\n",
      "Epoch 137/150\n",
      "Output shape: TensorShape([None, 8, 50, 50, 256])\n"
     ]
    },
    {
     "name": "stderr",
     "output_type": "stream",
     "text": [
      "INFO:root:load_day('NYC_Heat_Test/NYC_summer_2000_01p', '2000-05-25')\n",
      "INFO:root:Total generated samples: 1\n"
     ]
    },
    {
     "name": "stdout",
     "output_type": "stream",
     "text": [
      "1/1 [==============================] - ETA: 0s - loss: 1100.9246 - mean_absolute_error: 16.3666 - root_mean_squared_error: 33.1802Output shape: TensorShape([None, 8, 50, 50, 256])\n"
     ]
    },
    {
     "name": "stderr",
     "output_type": "stream",
     "text": [
      "INFO:root:load_day('NYC_Heat_Test/NYC_summer_2000_01p', '2000-05-25')\n",
      "INFO:root:Total generated samples: 1\n"
     ]
    },
    {
     "name": "stdout",
     "output_type": "stream",
     "text": [
      "1/1 [==============================] - 4s 4s/step - loss: 1100.9246 - mean_absolute_error: 16.3666 - root_mean_squared_error: 33.1802 - val_loss: 1055.5414 - val_mean_absolute_error: 16.1532 - val_root_mean_squared_error: 32.4891\n",
      "Epoch 138/150\n",
      "Output shape: TensorShape([None, 8, 50, 50, 256])\n"
     ]
    },
    {
     "name": "stderr",
     "output_type": "stream",
     "text": [
      "INFO:root:load_day('NYC_Heat_Test/NYC_summer_2000_01p', '2000-05-25')\n",
      "INFO:root:Total generated samples: 1\n"
     ]
    },
    {
     "name": "stdout",
     "output_type": "stream",
     "text": [
      "1/1 [==============================] - ETA: 0s - loss: 1055.5400 - mean_absolute_error: 16.1532 - root_mean_squared_error: 32.4891Output shape: TensorShape([None, 8, 50, 50, 256])\n"
     ]
    },
    {
     "name": "stderr",
     "output_type": "stream",
     "text": [
      "INFO:root:load_day('NYC_Heat_Test/NYC_summer_2000_01p', '2000-05-25')\n",
      "INFO:root:Total generated samples: 1\n"
     ]
    },
    {
     "name": "stdout",
     "output_type": "stream",
     "text": [
      "1/1 [==============================] - 4s 4s/step - loss: 1055.5400 - mean_absolute_error: 16.1532 - root_mean_squared_error: 32.4891 - val_loss: 1012.7468 - val_mean_absolute_error: 15.9527 - val_root_mean_squared_error: 31.8237\n",
      "Epoch 139/150\n",
      "Output shape: TensorShape([None, 8, 50, 50, 256])\n"
     ]
    },
    {
     "name": "stderr",
     "output_type": "stream",
     "text": [
      "INFO:root:load_day('NYC_Heat_Test/NYC_summer_2000_01p', '2000-05-25')\n",
      "INFO:root:Total generated samples: 1\n"
     ]
    },
    {
     "name": "stdout",
     "output_type": "stream",
     "text": [
      "1/1 [==============================] - ETA: 0s - loss: 1012.6665 - mean_absolute_error: 15.9522 - root_mean_squared_error: 31.8224Output shape: TensorShape([None, 8, 50, 50, 256])\n"
     ]
    },
    {
     "name": "stderr",
     "output_type": "stream",
     "text": [
      "INFO:root:load_day('NYC_Heat_Test/NYC_summer_2000_01p', '2000-05-25')\n",
      "INFO:root:Total generated samples: 1\n"
     ]
    },
    {
     "name": "stdout",
     "output_type": "stream",
     "text": [
      "1/1 [==============================] - 4s 4s/step - loss: 1012.6665 - mean_absolute_error: 15.9522 - root_mean_squared_error: 31.8224 - val_loss: 970.7342 - val_mean_absolute_error: 15.7599 - val_root_mean_squared_error: 31.1566\n",
      "Epoch 140/150\n",
      "Output shape: TensorShape([None, 8, 50, 50, 256])\n"
     ]
    },
    {
     "name": "stderr",
     "output_type": "stream",
     "text": [
      "INFO:root:load_day('NYC_Heat_Test/NYC_summer_2000_01p', '2000-05-25')\n",
      "INFO:root:Total generated samples: 1\n"
     ]
    },
    {
     "name": "stdout",
     "output_type": "stream",
     "text": [
      "1/1 [==============================] - ETA: 0s - loss: 970.7459 - mean_absolute_error: 15.7600 - root_mean_squared_error: 31.1568Output shape: TensorShape([None, 8, 50, 50, 256])\n"
     ]
    },
    {
     "name": "stderr",
     "output_type": "stream",
     "text": [
      "INFO:root:load_day('NYC_Heat_Test/NYC_summer_2000_01p', '2000-05-25')\n",
      "INFO:root:Total generated samples: 1\n"
     ]
    },
    {
     "name": "stdout",
     "output_type": "stream",
     "text": [
      "1/1 [==============================] - 5s 5s/step - loss: 970.7459 - mean_absolute_error: 15.7600 - root_mean_squared_error: 31.1568 - val_loss: 933.7085 - val_mean_absolute_error: 15.5875 - val_root_mean_squared_error: 30.5566\n",
      "Epoch 141/150\n",
      "Output shape: TensorShape([None, 8, 50, 50, 256])\n"
     ]
    },
    {
     "name": "stderr",
     "output_type": "stream",
     "text": [
      "INFO:root:load_day('NYC_Heat_Test/NYC_summer_2000_01p', '2000-05-25')\n",
      "INFO:root:Total generated samples: 1\n"
     ]
    },
    {
     "name": "stdout",
     "output_type": "stream",
     "text": [
      "1/1 [==============================] - ETA: 0s - loss: 933.7094 - mean_absolute_error: 15.5875 - root_mean_squared_error: 30.5567Output shape: TensorShape([None, 8, 50, 50, 256])\n"
     ]
    },
    {
     "name": "stderr",
     "output_type": "stream",
     "text": [
      "INFO:root:load_day('NYC_Heat_Test/NYC_summer_2000_01p', '2000-05-25')\n",
      "INFO:root:Total generated samples: 1\n"
     ]
    },
    {
     "name": "stdout",
     "output_type": "stream",
     "text": [
      "1/1 [==============================] - 4s 4s/step - loss: 933.7094 - mean_absolute_error: 15.5875 - root_mean_squared_error: 30.5567 - val_loss: 899.3284 - val_mean_absolute_error: 15.4319 - val_root_mean_squared_error: 29.9888\n",
      "Epoch 142/150\n",
      "Output shape: TensorShape([None, 8, 50, 50, 256])\n"
     ]
    },
    {
     "name": "stderr",
     "output_type": "stream",
     "text": [
      "INFO:root:load_day('NYC_Heat_Test/NYC_summer_2000_01p', '2000-05-25')\n",
      "INFO:root:Total generated samples: 1\n"
     ]
    },
    {
     "name": "stdout",
     "output_type": "stream",
     "text": [
      "1/1 [==============================] - ETA: 0s - loss: 899.3284 - mean_absolute_error: 15.4319 - root_mean_squared_error: 29.9888Output shape: TensorShape([None, 8, 50, 50, 256])\n"
     ]
    },
    {
     "name": "stderr",
     "output_type": "stream",
     "text": [
      "INFO:root:load_day('NYC_Heat_Test/NYC_summer_2000_01p', '2000-05-25')\n",
      "INFO:root:Total generated samples: 1\n"
     ]
    },
    {
     "name": "stdout",
     "output_type": "stream",
     "text": [
      "1/1 [==============================] - 5s 5s/step - loss: 899.3284 - mean_absolute_error: 15.4319 - root_mean_squared_error: 29.9888 - val_loss: 867.1273 - val_mean_absolute_error: 15.2857 - val_root_mean_squared_error: 29.4470\n",
      "Epoch 143/150\n",
      "Output shape: TensorShape([None, 8, 50, 50, 256])\n"
     ]
    },
    {
     "name": "stderr",
     "output_type": "stream",
     "text": [
      "INFO:root:load_day('NYC_Heat_Test/NYC_summer_2000_01p', '2000-05-25')\n"
     ]
    }
   ],
   "source": [
    "# Train the model\n",
    "model.fit(train_ds, val_ds, epochs=150, callbacks=[tb_callback])"
   ]
  },
  {
   "cell_type": "code",
   "execution_count": null,
   "metadata": {},
   "outputs": [],
   "source": [
    "import numpy as np\n",
    "import matplotlib.pyplot as plt\n",
    "\n",
    "# Get predictions from the validation set\n",
    "predictions = model._model.predict(val_ds)  # Use the underlying Keras model\n",
    "\n",
    "# Assuming the structure of val_ds returns (input_data, ground_truth)\n",
    "for input_data, ground_truth in val_ds.take(1):  # Taking just one batch from val_ds\n",
    "    # Get predicted labels\n",
    "    predicted_labels = model._model.predict(input_data)\n",
    "    \n",
    "    # Compute shared vmin and vmax for consistent color range\n",
    "    vmin = min(\n",
    "        np.min(ground_truth[:, 0, :, :, 0]), \n",
    "        np.min(predicted_labels[:, 0, :, :, 0])\n",
    "    )\n",
    "    vmax = max(\n",
    "        np.max(ground_truth[:, 0, :, :, 0]), \n",
    "        np.max(predicted_labels[:, 0, :, :, 0])\n",
    "    )\n",
    "    \n",
    "    # Visualize the first sample\n",
    "    fig, axes = plt.subplots(1, 2, figsize=(12, 6), dpi=150)  # Higher DPI for quality\n",
    "    \n",
    "    # Ground Truth Visualization\n",
    "    img1 = axes[0].imshow(\n",
    "        ground_truth[0, 0, :, :, 0], \n",
    "        cmap='viridis', \n",
    "        vmin=90, \n",
    "        vmax=100\n",
    "    )\n",
    "    axes[0].set_title('Ground Truth')\n",
    "    plt.colorbar(img1, ax=axes[0], fraction=0.046, pad=0.04)\n",
    "\n",
    "    # Prediction Visualization\n",
    "    img2 = axes[1].imshow(\n",
    "        predicted_labels[0, 0, :, :, 0], \n",
    "        cmap='viridis', \n",
    "        vmin=vmin, \n",
    "        vmax=vmax\n",
    "    )\n",
    "    axes[1].set_title('Predicted Labels')\n",
    "    plt.colorbar(img2, ax=axes[1], fraction=0.046, pad=0.04)\n",
    "\n",
    "    plt.tight_layout()\n",
    "    plt.show()\n",
    "    break  # Break after visualizing one batch"
   ]
  },
  {
   "cell_type": "code",
   "execution_count": null,
   "metadata": {},
   "outputs": [],
   "source": [
    "inputs, labels = next(iter(train_ds))\n",
    "{key: tensor.shape for key, tensor in inputs.items()}"
   ]
  },
  {
   "cell_type": "code",
   "execution_count": null,
   "metadata": {},
   "outputs": [],
   "source": [
    "model._model.summary()"
   ]
  },
  {
   "cell_type": "code",
   "execution_count": null,
   "metadata": {},
   "outputs": [],
   "source": [
    "# Test calling the model on some training data\n",
    "inputs, labels = next(iter(train_ds))\n",
    "prediction = model.call(inputs)\n",
    "print(\"Prediction shape:\", prediction.shape)"
   ]
  }
 ],
 "metadata": {
  "kernelspec": {
   "display_name": "base",
   "language": "python",
   "name": "python3"
  },
  "language_info": {
   "codemirror_mode": {
    "name": "ipython",
    "version": 3
   },
   "file_extension": ".py",
   "mimetype": "text/x-python",
   "name": "python",
   "nbconvert_exporter": "python",
   "pygments_lexer": "ipython3",
   "version": "3.11.9"
  }
 },
 "nbformat": 4,
 "nbformat_minor": 2
}
