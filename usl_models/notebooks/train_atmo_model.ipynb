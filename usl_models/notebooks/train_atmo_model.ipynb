{
 "cells": [
  {
   "cell_type": "markdown",
   "metadata": {},
   "source": [
    "# Atmo Model Training Notebook\n",
    "\n",
    "Train an Atmo Model using `usl_models` lib."
   ]
  },
  {
   "cell_type": "code",
   "execution_count": 1,
   "metadata": {},
   "outputs": [
    {
     "name": "stderr",
     "output_type": "stream",
     "text": [
      "2024-12-11 22:46:47.208634: I tensorflow/core/util/port.cc:113] oneDNN custom operations are on. You may see slightly different numerical results due to floating-point round-off errors from different computation orders. To turn them off, set the environment variable `TF_ENABLE_ONEDNN_OPTS=0`.\n",
      "2024-12-11 22:46:47.259060: E external/local_xla/xla/stream_executor/cuda/cuda_dnn.cc:9261] Unable to register cuDNN factory: Attempting to register factory for plugin cuDNN when one has already been registered\n",
      "2024-12-11 22:46:47.259093: E external/local_xla/xla/stream_executor/cuda/cuda_fft.cc:607] Unable to register cuFFT factory: Attempting to register factory for plugin cuFFT when one has already been registered\n",
      "2024-12-11 22:46:47.260344: E external/local_xla/xla/stream_executor/cuda/cuda_blas.cc:1515] Unable to register cuBLAS factory: Attempting to register factory for plugin cuBLAS when one has already been registered\n",
      "2024-12-11 22:46:47.268340: I tensorflow/core/platform/cpu_feature_guard.cc:182] This TensorFlow binary is optimized to use available CPU instructions in performance-critical operations.\n",
      "To enable the following instructions: AVX2 AVX512F AVX512_VNNI FMA, in other operations, rebuild TensorFlow with the appropriate compiler flags.\n"
     ]
    }
   ],
   "source": [
    "%load_ext autoreload\n",
    "%autoreload 2\n",
    "import tensorflow as tf\n",
    "from usl_models.atmo_ml.model import AtmoModel, AtmoModelParams\n",
    "from usl_models.atmo_ml import dataset\n",
    "from google.cloud import storage\n",
    "\n",
    "# climateiq-study-area-feature-chunks/NYC_Heat/NYC_summer_2000_01p\n",
    "# Define bucket names and folder paths\n",
    "data_bucket_name = \"climateiq-study-area-feature-chunks\"\n",
    "label_bucket_name = \"climateiq-study-area-label-chunks\"\n",
    "time_steps_per_day = 6\n",
    "batch_size = 2\n",
    "\n",
    "sim_dirs = [\n",
    "    ('NYC_Heat_Test', [\n",
    "        'NYC_summer_2000_01p',\n",
    "        'NYC_summer_2010_25p',\n",
    "        'NYC_summer_2015_50p',\n",
    "        'NYC_summer_2017_75p',\n",
    "        'NYC_summer_2018_99p'\n",
    "    ]),\n",
    "    ('PHX_Heat_Test', [\n",
    "        'PHX_summer_2008_25p',\n",
    "        'PHX_summer_2009_50p',\n",
    "        'PHX_summer_2011_99p',\n",
    "        'PHX_summer_2015_75p',\n",
    "        'PHX_summer_2020_01p'\n",
    "    ])\n",
    "]\n",
    "\n",
    "sim_names = []\n",
    "for sim_dir, subdirs in sim_dirs:\n",
    "    for subdir in subdirs:\n",
    "        sim_names.append(sim_dir + '/' + subdir)\n",
    "\n",
    "client = storage.Client(project=\"climateiq\")\n"
   ]
  },
  {
   "cell_type": "code",
   "execution_count": 2,
   "metadata": {},
   "outputs": [
    {
     "name": "stderr",
     "output_type": "stream",
     "text": [
      "2024-12-11 22:46:50.791744: I tensorflow/core/common_runtime/gpu/gpu_device.cc:1929] Created device /job:localhost/replica:0/task:0/device:GPU:0 with 38364 MB memory:  -> device: 0, name: NVIDIA A100-SXM4-40GB, pci bus id: 0000:00:04.0, compute capability: 8.0\n"
     ]
    }
   ],
   "source": [
    "# Create the training dataset using create_atmo_dataset with sim_names\n",
    "\n",
    "train_ds = dataset.load_dataset(\n",
    "    data_bucket_name=data_bucket_name,\n",
    "    label_bucket_name=label_bucket_name,\n",
    "    sim_names=sim_names,\n",
    "    timesteps_per_day=time_steps_per_day,\n",
    "    hash_range=(0.0, 0.5),\n",
    ").batch(batch_size=batch_size)\n",
    "\n",
    "val_ds = dataset.load_dataset(\n",
    "    data_bucket_name=data_bucket_name,\n",
    "    label_bucket_name=label_bucket_name,\n",
    "    sim_names=sim_names,\n",
    "    timesteps_per_day=time_steps_per_day,\n",
    "    hash_range=(0.5, 1.0),\n",
    ").batch(batch_size=batch_size)"
   ]
  },
  {
   "cell_type": "code",
   "execution_count": null,
   "metadata": {},
   "outputs": [],
   "source": [
    "for i, _ in enumerate(train_ds):\n",
    "    print(i)"
   ]
  },
  {
   "cell_type": "code",
   "execution_count": 24,
   "metadata": {},
   "outputs": [],
   "source": [
    "# Initialize the Atmo Model\n",
    "model_params = AtmoModelParams()\n",
    "model = AtmoModel(model_params)\n",
    "# model._model.summary()"
   ]
  },
  {
   "cell_type": "code",
   "execution_count": null,
   "metadata": {},
   "outputs": [
    {
     "name": "stdout",
     "output_type": "stream",
     "text": [
      "Split shape: (None, 50, 50, 5, 2, 256)\n",
      "Separated shape (pre-slice): (None, 50, 50, 10, 256)\n",
      "Reduced shape after removing outermost time steps: (None, 50, 50, 8, 256)\n",
      "Split shape: (None, 50, 50, 5, 2, 256)\n",
      "Separated shape (pre-slice): (None, 50, 50, 10, 256)\n",
      "Reduced shape after removing outermost time steps: (None, 50, 50, 8, 256)\n"
     ]
    },
    {
     "name": "stderr",
     "output_type": "stream",
     "text": [
      "2024-12-11 22:45:25.409753: E tensorflow/core/grappler/optimizers/meta_optimizer.cc:961] layout failed: INVALID_ARGUMENT: Size of values 0 does not match size of permutation 4 @ fanin shape inatmo_conv_lstm_5/conv_lstm/conv_lstm2d_5/while/body/_1/atmo_conv_lstm_5/conv_lstm/conv_lstm2d_5/while/dropout_7/SelectV2-2-TransposeNHWCToNCHW-LayoutOptimizer\n"
     ]
    },
    {
     "name": "stdout",
     "output_type": "stream",
     "text": [
      "Output shape: TensorShape([None, 8, 50, 50, 256])\n",
      "load_day('2000-05-24', 'NYC_Heat_Test/NYC_summer_2000_01p')\n",
      "spatiotemporal_data: (6, 200, 200, 12)\n",
      "load_day('2000-05-28', 'NYC_Heat_Test/NYC_summer_2000_01p')\n",
      "spatiotemporal_data: (6, 200, 200, 12)\n",
      "load_day('2000-05-29', 'NYC_Heat_Test/NYC_summer_2000_01p')\n",
      "      1/Unknown - 9s 9s/step - loss: 17994.4375 - mean_absolute_error: 73.8874 - root_mean_squared_error: 134.1433Output shape: TensorShape([None, 8, 50, 50, 256])\n",
      "spatiotemporal_data: (6, 200, 200, 12)\n",
      "load_day('2000-05-30', 'NYC_Heat_Test/NYC_summer_2000_01p')\n",
      "spatiotemporal_data: (6, 200, 200, 12)\n",
      "load_day('2000-06-03', 'NYC_Heat_Test/NYC_summer_2000_01p')\n",
      "      2/Unknown - 12s 3s/step - loss: 17710.3223 - mean_absolute_error: 73.2867 - root_mean_squared_error: 133.0801Output shape: TensorShape([None, 8, 50, 50, 256])\n",
      "spatiotemporal_data: (6, 200, 200, 12)\n",
      "load_day('2000-06-04', 'NYC_Heat_Test/NYC_summer_2000_01p')\n",
      "spatiotemporal_data: (6, 200, 200, 12)\n",
      "load_day('2000-06-06', 'NYC_Heat_Test/NYC_summer_2000_01p')\n",
      "      3/Unknown - 15s 3s/step - loss: 17691.6191 - mean_absolute_error: 72.5561 - root_mean_squared_error: 133.0098Output shape: TensorShape([None, 8, 50, 50, 256])\n",
      "spatiotemporal_data: (6, 200, 200, 12)\n",
      "load_day('2000-06-08', 'NYC_Heat_Test/NYC_summer_2000_01p')\n",
      "spatiotemporal_data: (6, 200, 200, 12)\n",
      "load_day('2000-06-09', 'NYC_Heat_Test/NYC_summer_2000_01p')\n",
      "      4/Unknown - 18s 3s/step - loss: 17671.2598 - mean_absolute_error: 72.6291 - root_mean_squared_error: 132.9333Output shape: TensorShape([None, 8, 50, 50, 256])\n",
      "spatiotemporal_data: (6, 200, 200, 12)\n",
      "load_day('2000-06-12', 'NYC_Heat_Test/NYC_summer_2000_01p')\n",
      "spatiotemporal_data: (6, 200, 200, 12)\n",
      "load_day('2000-06-15', 'NYC_Heat_Test/NYC_summer_2000_01p')\n",
      "      5/Unknown - 22s 3s/step - loss: 17734.1992 - mean_absolute_error: 72.7196 - root_mean_squared_error: 133.1698Output shape: TensorShape([None, 8, 50, 50, 256])\n",
      "spatiotemporal_data: (6, 200, 200, 12)\n",
      "load_day('2000-06-17', 'NYC_Heat_Test/NYC_summer_2000_01p')\n",
      "spatiotemporal_data: (6, 200, 200, 12)\n",
      "load_day('2000-06-20', 'NYC_Heat_Test/NYC_summer_2000_01p')\n",
      "      6/Unknown - 25s 3s/step - loss: 17842.1504 - mean_absolute_error: 73.2907 - root_mean_squared_error: 133.5745Output shape: TensorShape([None, 8, 50, 50, 256])\n",
      "spatiotemporal_data: (6, 200, 200, 12)\n",
      "load_day('2000-06-25', 'NYC_Heat_Test/NYC_summer_2000_01p')\n",
      "load_day('2000-07-02', 'NYC_Heat_Test/NYC_summer_2000_01p')\n",
      "spatiotemporal_data: (6, 200, 200, 12)\n",
      "load_day('2000-07-03', 'NYC_Heat_Test/NYC_summer_2000_01p')\n",
      "      7/Unknown - 30s 4s/step - loss: 17844.7031 - mean_absolute_error: 73.0972 - root_mean_squared_error: 133.5841Output shape: TensorShape([None, 8, 50, 50, 256])\n",
      "load_day('2000-07-04', 'NYC_Heat_Test/NYC_summer_2000_01p')\n",
      "load_day('2000-07-05', 'NYC_Heat_Test/NYC_summer_2000_01p')\n",
      "load_day('2000-07-07', 'NYC_Heat_Test/NYC_summer_2000_01p')\n",
      "spatiotemporal_data: (6, 200, 200, 12)\n",
      "load_day('2000-07-16', 'NYC_Heat_Test/NYC_summer_2000_01p')\n",
      "spatiotemporal_data: (6, 200, 200, 12)\n",
      "load_day('2000-07-17', 'NYC_Heat_Test/NYC_summer_2000_01p')\n",
      "      8/Unknown - 39s 4s/step - loss: 17859.4062 - mean_absolute_error: 73.1979 - root_mean_squared_error: 133.6391Output shape: TensorShape([None, 8, 50, 50, 256])\n",
      "load_day('2000-07-21', 'NYC_Heat_Test/NYC_summer_2000_01p')\n",
      "spatiotemporal_data: (6, 200, 200, 12)\n",
      "load_day('2000-07-22', 'NYC_Heat_Test/NYC_summer_2000_01p')\n",
      "load_day('2000-07-23', 'NYC_Heat_Test/NYC_summer_2000_01p')\n",
      "spatiotemporal_data: (6, 200, 200, 12)\n",
      "load_day('2000-07-24', 'NYC_Heat_Test/NYC_summer_2000_01p')\n",
      "      9/Unknown - 49s 5s/step - loss: 17853.6934 - mean_absolute_error: 73.1285 - root_mean_squared_error: 133.6177Output shape: TensorShape([None, 8, 50, 50, 256])\n",
      "spatiotemporal_data: (6, 200, 200, 12)\n",
      "load_day('2000-07-25', 'NYC_Heat_Test/NYC_summer_2000_01p')\n",
      "spatiotemporal_data: (6, 200, 200, 12)\n",
      "load_day('2000-07-26', 'NYC_Heat_Test/NYC_summer_2000_01p')\n",
      "     10/Unknown - 53s 5s/step - loss: 17838.9590 - mean_absolute_error: 73.0500 - root_mean_squared_error: 133.5626Output shape: TensorShape([None, 8, 50, 50, 256])\n",
      "load_day('2000-07-28', 'NYC_Heat_Test/NYC_summer_2000_01p')\n",
      "load_day('2000-08-01', 'NYC_Heat_Test/NYC_summer_2000_01p')\n",
      "load_day('2000-08-02', 'NYC_Heat_Test/NYC_summer_2000_01p')\n",
      "load_day('2000-08-04', 'NYC_Heat_Test/NYC_summer_2000_01p')\n",
      "load_day('2000-08-07', 'NYC_Heat_Test/NYC_summer_2000_01p')\n",
      "load_day('2000-08-08', 'NYC_Heat_Test/NYC_summer_2000_01p')\n",
      "load_day('2000-08-09', 'NYC_Heat_Test/NYC_summer_2000_01p')\n",
      "load_day('2000-08-12', 'NYC_Heat_Test/NYC_summer_2000_01p')\n",
      "load_day('2000-08-14', 'NYC_Heat_Test/NYC_summer_2000_01p')\n",
      "load_day('2000-08-15', 'NYC_Heat_Test/NYC_summer_2000_01p')\n",
      "spatiotemporal_data: (6, 200, 200, 12)\n",
      "load_day('2000-08-16', 'NYC_Heat_Test/NYC_summer_2000_01p')\n",
      "load_day('2000-08-18', 'NYC_Heat_Test/NYC_summer_2000_01p')\n"
     ]
    }
   ],
   "source": [
    "# Train the model\n",
    "model.fit(train_ds, val_ds, epochs=1)"
   ]
  },
  {
   "cell_type": "code",
   "execution_count": null,
   "metadata": {},
   "outputs": [
    {
     "name": "stdout",
     "output_type": "stream",
     "text": [
      "Model: \"atmo_conv_lstm\"\n",
      "_________________________________________________________________\n",
      " Layer (type)                Output Shape              Param #   \n",
      "=================================================================\n",
      " embedding (Embedding)       multiple                  488       \n",
      "                                                                 \n",
      " spatial_cnn (Sequential)    (None, 50, 50, 128)       252992    \n",
      "                                                                 \n",
      " spatiotemporal_cnn (Sequen  (None, None, 50, 50, 64   30480     \n",
      " tial)                       )                                   \n",
      "                                                                 \n",
      " conv_lstm (Sequential)      (None, None, 50, 50, 51   45877248  \n",
      "                             2)                                  \n",
      "                                                                 \n",
      " t2_output_cnn (Sequential)  (None, None, 200, 200,    69729     \n",
      "                             1)                                  \n",
      "                                                                 \n",
      " rh2_output_cnn (Sequential  (None, None, 200, 200,    69729     \n",
      " )                           1)                                  \n",
      "                                                                 \n",
      " wspd10_output_cnn (Sequent  (None, None, 200, 200,    69729     \n",
      " ial)                        1)                                  \n",
      "                                                                 \n",
      " wdir10_output_cnn (Sequent  (None, None, 200, 200,    69746     \n",
      " ial)                        2)                                  \n",
      "                                                                 \n",
      "=================================================================\n",
      "Total params: 46440141 (177.16 MB)\n",
      "Trainable params: 46440141 (177.16 MB)\n",
      "Non-trainable params: 0 (0.00 Byte)\n",
      "_________________________________________________________________\n"
     ]
    }
   ],
   "source": [
    "model._model.summary()"
   ]
  },
  {
   "cell_type": "code",
   "execution_count": null,
   "metadata": {},
   "outputs": [
    {
     "name": "stdout",
     "output_type": "stream",
     "text": [
      "Split shape: (2, 50, 50, 5, 2, 256)\n",
      "Separated shape (pre-slice): (2, 50, 50, 10, 256)\n",
      "Reduced shape after removing outermost time steps: (2, 50, 50, 8, 256)\n",
      "Output shape: TensorShape([2, 8, 50, 50, 256])\n",
      "Prediction shape: (2, 8, 200, 200, 5)\n"
     ]
    }
   ],
   "source": [
    "# Test calling the model on some training data\n",
    "inputs, labels = next(iter(train_dataset))\n",
    "prediction = model.call(inputs)\n",
    "print(\"Prediction shape:\", prediction.shape)"
   ]
  }
 ],
 "metadata": {
  "kernelspec": {
   "display_name": "base",
   "language": "python",
   "name": "python3"
  },
  "language_info": {
   "codemirror_mode": {
    "name": "ipython",
    "version": 3
   },
   "file_extension": ".py",
   "mimetype": "text/x-python",
   "name": "python",
   "nbconvert_exporter": "python",
   "pygments_lexer": "ipython3",
   "version": "3.11.9"
  }
 },
 "nbformat": 4,
 "nbformat_minor": 2
}
