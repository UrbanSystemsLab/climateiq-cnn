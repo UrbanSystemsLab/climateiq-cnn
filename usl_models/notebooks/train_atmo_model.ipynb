{
    "cells": [
        {
            "cell_type": "markdown",
            "metadata": {},
            "source": [
                "# Atmo Model Training Notebook\n",
                "\n",
                "Train an Atmo Model using `usl_models` lib."
            ]
        },
        {
            "cell_type": "code",
            "execution_count": null,
            "metadata": {},
            "outputs": [],
            "source": [
                "%load_ext autoreload\n",
                "%autoreload 2\n",
                "import logging\n",
                "import os\n",
                "import pathlib\n",
                "import time\n",
                "\n",
                "import keras\n",
                "\n",
                "from usl_models.atmo_ml.model import AtmoModel\n",
                "from usl_models.atmo_ml import dataset, visualizer, vars\n",
                "\n",
                "\n",
                "logging.getLogger().setLevel(logging.WARNING)\n",
                "keras.utils.set_random_seed(812)\n",
                "visualizer.init_plt()\n",
                "\n",
                "batch_size = 8\n",
                "filecache_dir = pathlib.Path(\"/home/shared/climateiq/filecache\")\n",
                "example_keys=[\n",
                "    (\"NYC_Heat_Test/NYC_summer_2000_01p\", \"2000-05-25\"),\n",
                "    (\"NYC_Heat_Test/NYC_summer_2000_01p\", \"2000-05-26\"),\n",
                "    (\"NYC_Heat_Test/NYC_summer_2000_01p\", \"2000-05-27\"),\n",
                "    (\"NYC_Heat_Test/NYC_summer_2000_01p\", \"2000-05-28\"),\n",
                "    (\"PHX_Heat_Test/PHX_summer_2008_25p\", \"2008-05-25\"),\n",
                "    (\"PHX_Heat_Test/PHX_summer_2008_25p\", \"2008-05-26\"),\n",
                "    (\"PHX_Heat_Test/PHX_summer_2008_25p\", \"2008-05-27\"),\n",
                "    (\"PHX_Heat_Test/PHX_summer_2008_25p\", \"2008-05-28\"),\n",
                "]\n",
                "timestamp = time.strftime(\"%Y%m%d-%H%M%S\")\n",
                "\n",
                "ds_config = dataset.Config(\n",
                "    output_timesteps=2)\n",
                "train_ds = dataset.load_dataset_cached(\n",
                "    filecache_dir,\n",
                "    example_keys=example_keys,\n",
                "    config=ds_config,\n",
                ").batch(batch_size=batch_size)\n",
                "val_ds = dataset.load_dataset_cached(\n",
                "    filecache_dir,\n",
                "    example_keys=example_keys,\n",
                "    config=ds_config,\n",
                "    shuffle=False,\n",
                ").batch(batch_size=batch_size)"
            ]
        },
        {
            "cell_type": "code",
            "execution_count": null,
            "metadata": {},
            "outputs": [],
            "source": [
                "# Initialize the Atmo Model\n",
                "params = AtmoModel.Params(\n",
                "    output_timesteps=ds_config.output_timesteps,\n",
                "    sto_vars=ds_config.sto_vars,\n",
                "    lstm_units=64,\n",
                "    lstm_kernel_size=5,\n",
                ")\n",
                "model = AtmoModel(params)\n",
                "model.summary(expand_nested=True)"
            ]
        },
        {
            "cell_type": "code",
            "execution_count": null,
            "metadata": {},
            "outputs": [],
            "source": [
                "# Train the model\n",
                "# Create a unique log directory by appending the current timestamp\n",
                "log_dir = os.path.join(\"./logs\", \"run_\" + timestamp)\n",
                "print(log_dir)\n",
                "tb_callback = keras.callbacks.TensorBoard(log_dir=log_dir)\n",
                "model.fit(train_ds, val_ds, epochs=10, callbacks=[tb_callback], validation_freq=10)\n",
                "model.save_model(log_dir + \"/model\")"
            ]
        },
        {
            "cell_type": "code",
            "execution_count": null,
            "metadata": {},
            "outputs": [],
            "source": [
                "# Plot results\n",
                "\n",
                "model = AtmoModel.from_checkpoint(log_dir + \"/model\")\n",
                "input_batch, label_batch = next(iter(val_ds))\n",
                "pred_batch = model.call(input_batch)\n",
                "\n",
                "for fig in visualizer.plot_batch(\n",
                "    ds_config,\n",
                "    input_batch=input_batch,\n",
                "    label_batch=label_batch,\n",
                "    pred_batch=pred_batch,\n",
                "    st_var=vars.Spatiotemporal.RH,\n",
                "    sto_var=vars.SpatiotemporalOutput.RH2,\n",
                "    max_examples=None,\n",
                "):\n",
                "    fig.show()"
            ]
        }
    ],
    "metadata": {
        "kernelspec": {
            "display_name": "base",
            "language": "python",
            "name": "python3"
        },
        "language_info": {
            "codemirror_mode": {
                "name": "ipython",
                "version": 3
            },
            "file_extension": ".py",
            "mimetype": "text/x-python",
            "name": "python",
            "nbconvert_exporter": "python",
            "pygments_lexer": "ipython3",
            "version": "3.11.9"
        }
    },
    "nbformat": 4,
    "nbformat_minor": 2
}
