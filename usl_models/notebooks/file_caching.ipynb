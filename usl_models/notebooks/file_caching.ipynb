{
 "cells": [
  {
   "cell_type": "markdown",
   "metadata": {},
   "source": [
    "# Filecache downloader\n",
    "\n",
    "Downloads files to the configured cache directory to accelerate file loading during training."
   ]
  },
  {
   "cell_type": "code",
   "execution_count": 1,
   "metadata": {},
   "outputs": [
    {
     "name": "stderr",
     "output_type": "stream",
     "text": [
      "2025-01-29 18:48:18.099394: I tensorflow/core/util/port.cc:113] oneDNN custom operations are on. You may see slightly different numerical results due to floating-point round-off errors from different computation orders. To turn them off, set the environment variable `TF_ENABLE_ONEDNN_OPTS=0`.\n",
      "2025-01-29 18:48:18.151157: E external/local_xla/xla/stream_executor/cuda/cuda_dnn.cc:9261] Unable to register cuDNN factory: Attempting to register factory for plugin cuDNN when one has already been registered\n",
      "2025-01-29 18:48:18.151191: E external/local_xla/xla/stream_executor/cuda/cuda_fft.cc:607] Unable to register cuFFT factory: Attempting to register factory for plugin cuFFT when one has already been registered\n",
      "2025-01-29 18:48:18.152480: E external/local_xla/xla/stream_executor/cuda/cuda_blas.cc:1515] Unable to register cuBLAS factory: Attempting to register factory for plugin cuBLAS when one has already been registered\n",
      "2025-01-29 18:48:18.160587: I tensorflow/core/platform/cpu_feature_guard.cc:182] This TensorFlow binary is optimized to use available CPU instructions in performance-critical operations.\n",
      "To enable the following instructions: AVX2 AVX512F AVX512_VNNI FMA, in other operations, rebuild TensorFlow with the appropriate compiler flags.\n"
     ]
    }
   ],
   "source": [
    "import pathlib\n",
    "from datetime import datetime\n",
    "import logging\n",
    "\n",
    "from usl_models.atmo_ml import dataset\n",
    "\n",
    "logging.getLogger().setLevel(logging.INFO)\n",
    "\n",
    "# https://console.cloud.google.com/storage/browser/climateiq-study-area-feature-chunks/NYC_Heat_Test\n",
    "sim_names = [\n",
    "    \"NYC_Heat_Test/NYC_summer_2000_01p\",\n",
    "    \"NYC_Heat_Test/NYC_summer_2010_99p\",\n",
    "    \"NYC_Heat_Test/NYC_summer_2015_50p\",\n",
    "    \"NYC_Heat_Test/NYC_summer_2017_25p\",\n",
    "    \"NYC_Heat_Test/NYC_summer_2018_75p\",\n",
    "    \"PHX_Heat_Test/PHX_summer_2008_25p\",\n",
    "    \"PHX_Heat_Test/PHX_summer_2009_50p\",\n",
    "    \"PHX_Heat_Test/PHX_summer_2011_99p\",\n",
    "    \"PHX_Heat_Test/PHX_summer_2015_75p\",\n",
    "    \"PHX_Heat_Test/PHX_summer_2020_01p\",\n",
    "]\n",
    "\n",
    "filecache_path = pathlib.Path(\"/home/shared/climateiq/filecache\")"
   ]
  },
  {
   "cell_type": "code",
   "execution_count": 3,
   "metadata": {},
   "outputs": [],
   "source": [
    "# Download the entire dataset to disk.\n",
    "dataset.download_dataset(sim_names, filecache_path)"
   ]
  },
  {
   "cell_type": "code",
   "execution_count": null,
   "metadata": {},
   "outputs": [],
   "source": [
    "# Try loading a single day.\n",
    "dataset.load_day_cached(\n",
    "    path=filecache_path / sim_names[0],\n",
    "    date=datetime.strptime(\"2000-05-25\", dataset.DATE_FORMAT),\n",
    ")"
   ]
  },
  {
   "cell_type": "code",
   "execution_count": null,
   "metadata": {},
   "outputs": [],
   "source": [
    "# Benchmark loading a day over and over.\n",
    "%%timeit -n 20\n",
    "dataset.load_day_cached(\n",
    "    path=filecache_path / sim_names[0],\n",
    "    date=datetime.strptime(\"2000-05-25\", dataset.DATE_FORMAT),\n",
    ")"
   ]
  }
 ],
 "metadata": {
  "kernelspec": {
   "display_name": "base",
   "language": "python",
   "name": "python3"
  },
  "language_info": {
   "codemirror_mode": {
    "name": "ipython",
    "version": 3
   },
   "file_extension": ".py",
   "mimetype": "text/x-python",
   "name": "python",
   "nbconvert_exporter": "python",
   "pygments_lexer": "ipython3",
   "version": "3.11.9"
  }
 },
 "nbformat": 4,
 "nbformat_minor": 2
}
