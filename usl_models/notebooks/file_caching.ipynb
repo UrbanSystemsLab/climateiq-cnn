{
 "cells": [
  {
   "cell_type": "code",
   "execution_count": null,
   "metadata": {},
   "outputs": [],
   "source": [
    "import pathlib\n",
    "from datetime import datetime\n",
    "\n",
    "from usl_models.atmo_ml import dataset\n",
    "\n",
    "# https://console.cloud.google.com/storage/browser/climateiq-study-area-feature-chunks/NYC_Heat_Test\n",
    "sim_names = [\n",
    "    \"NYC_Heat_Test/NYC_summer_2000_01p\",\n",
    "    \"NYC_Heat_Test/NYC_summer_2000_01p\",\n",
    "    \"NYC_Heat_Test/NYC_summer_2010_99p\",\n",
    "    \"NYC_Heat_Test/NYC_summer_2015_50p\",\n",
    "    \"NYC_Heat_Test/NYC_summer_2017_25p\",\n",
    "    \"NYC_Heat_Test/NYC_summer_2018_75p\",\n",
    "    \"PHX_summer_2008_25p\",\n",
    "    \"PHX_summer_2009_50p\",\n",
    "    \"PHX_summer_2011_99p\",\n",
    "    \"PHX_summer_2015_75p\",\n",
    "    \"PHX_summer_2020_01p\"\n",
    "]\n",
    "sim_names = [\n",
    "    \"PHX_summer_2008_25p/\",\n",
    "    \"PHX_summer_2009_50p/\",\n",
    "    \"PHX_summer_2011_99p/\",\n",
    "    \"PHX_summer_2015_75p/\",\n",
    "    \"PHX_summer_2020_01p/\"\n",
    "]\n",
    "filecache_path = pathlib.Path('data/filecache')\n",
    "dataset.download_dataset(sim_names, filecache_path)\n"
   ]
  },
  {
   "cell_type": "code",
   "execution_count": null,
   "metadata": {},
   "outputs": [],
   "source": [
    "dataset.load_day(\n",
    "    path=filecache_path / sim_names[0],\n",
    "    date=datetime.strptime(\"2000-05-25\", dataset.DATE_FORMAT),\n",
    ")"
   ]
  }
 ],
 "metadata": {
  "kernelspec": {
   "display_name": "base",
   "language": "python",
   "name": "python3"
  },
  "language_info": {
   "codemirror_mode": {
    "name": "ipython",
    "version": 3
   },
   "file_extension": ".py",
   "mimetype": "text/x-python",
   "name": "python",
   "nbconvert_exporter": "python",
   "pygments_lexer": "ipython3",
   "version": "3.11.9"
  }
 },
 "nbformat": 4,
 "nbformat_minor": 2
}
