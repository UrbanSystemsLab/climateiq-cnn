{
 "cells": [
  {
   "cell_type": "code",
   "execution_count": null,
   "metadata": {},
   "outputs": [],
   "source": [
    "%load_ext autoreload\n",
    "%autoreload 2\n",
    "import pathlib\n",
    "from datetime import datetime\n",
    "from usl_models.atmo_ml import dataset, visualizer, vars\n",
    "from google.cloud import storage\n",
    "\n",
    "visualizer.init_plt()\n",
    "sim_name = 'NYC_Heat_Test/NYC_summer_2000_01p'\n",
    "date = '2000-05-25'"
   ]
  },
  {
   "cell_type": "code",
   "execution_count": null,
   "metadata": {},
   "outputs": [],
   "source": [
    "inputs, label = dataset.load_day_cached(\n",
    "    date=datetime.strptime(date, dataset.DATE_FORMAT),\n",
    "    path=pathlib.Path(\"data/filecache\") / sim_name,\n",
    ")\n",
    "inputs[\"spatiotemporal\"].shape, label.shape"
   ]
  },
  {
   "cell_type": "code",
   "execution_count": null,
   "metadata": {},
   "outputs": [],
   "source": [
    "figs = [\n",
    "    visualizer.plot_spatial(inputs[\"spatial\"], features=list(range(0, 6))),\n",
    "    # visualizer.plot_spatial(inputs[\"spatial\"], features=list(range(6, 12))),\n",
    "    # visualizer.plot_spatial(inputs[\"spatial\"], features=list(range(12, 18))),\n",
    "    # visualizer.plot_spatial(inputs[\"spatial\"], features=list(range(18, 22))),\n",
    "]\n",
    "for fig in figs:\n",
    "    fig.show()"
   ]
  },
  {
   "cell_type": "code",
   "execution_count": null,
   "metadata": {},
   "outputs": [],
   "source": [
    "figs = visualizer.plot(\n",
    "    inputs,\n",
    "    label,\n",
    "    st_var=vars.Spatiotemporal.WSPD,\n",
    "    sto_var=vars.SpatiotemporalOutput.WSPD_WDIR10,\n",
    "    sim_name=sim_name,\n",
    "    date=date,\n",
    ")\n",
    "for fig in figs:\n",
    "    fig.show()"
   ]
  }
 ],
 "metadata": {
  "kernelspec": {
   "display_name": "base",
   "language": "python",
   "name": "python3"
  },
  "language_info": {
   "codemirror_mode": {
    "name": "ipython",
    "version": 3
   },
   "file_extension": ".py",
   "mimetype": "text/x-python",
   "name": "python",
   "nbconvert_exporter": "python",
   "pygments_lexer": "ipython3",
   "version": "3.11.9"
  }
 },
 "nbformat": 4,
 "nbformat_minor": 2
}
