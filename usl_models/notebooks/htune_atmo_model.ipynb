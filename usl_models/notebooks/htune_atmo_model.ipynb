{
 "cells": [
  {
   "cell_type": "markdown",
   "metadata": {},
   "source": [
    "# AtmoML Hyperparameter Tuning"
   ]
  },
  {
   "cell_type": "code",
   "execution_count": null,
   "metadata": {},
   "outputs": [],
   "source": [
    "import logging\n",
    "import keras_tuner\n",
    "import keras\n",
    "import time\n",
    "import pathlib\n",
    "import os\n",
    "\n",
    "from usl_models.atmo_ml.model import AtmoModel\n",
    "from usl_models.atmo_ml import dataset, visualizer, vars\n",
    "\n",
    "\n",
    "logging.getLogger().setLevel(logging.WARNING)\n",
    "keras.utils.set_random_seed(812)\n",
    "visualizer.init_plt()\n",
    "\n",
    "batch_size = 8\n",
    "filecache_dir = pathlib.Path(\"/home/shared/climateiq/filecache\")\n",
    "example_keys = [\n",
    "    (\"NYC_Heat_Test/NYC_summer_2000_01p\", \"2000-05-25\"),\n",
    "    (\"NYC_Heat_Test/NYC_summer_2000_01p\", \"2000-05-26\"),\n",
    "    (\"NYC_Heat_Test/NYC_summer_2000_01p\", \"2000-05-27\"),\n",
    "    (\"NYC_Heat_Test/NYC_summer_2000_01p\", \"2000-05-28\"),\n",
    "    (\"PHX_Heat_Test/PHX_summer_2008_25p\", \"2008-05-25\"),\n",
    "    (\"PHX_Heat_Test/PHX_summer_2008_25p\", \"2008-05-26\"),\n",
    "    (\"PHX_Heat_Test/PHX_summer_2008_25p\", \"2008-05-27\"),\n",
    "    (\"PHX_Heat_Test/PHX_summer_2008_25p\", \"2008-05-28\"),\n",
    "]\n",
    "timestamp = time.strftime(\"%Y%m%d-%H%M%S\")\n",
    "\n",
    "ds_config = dataset.Config(output_timesteps=2)\n",
    "train_ds = dataset.load_dataset_cached(\n",
    "    filecache_dir,\n",
    "    example_keys=example_keys,\n",
    "    config=ds_config,\n",
    ").batch(batch_size=batch_size)\n",
    "val_ds = dataset.load_dataset_cached(\n",
    "    filecache_dir,\n",
    "    example_keys=example_keys,\n",
    "    config=ds_config,\n",
    "    shuffle=False,\n",
    ").batch(batch_size=batch_size)"
   ]
  },
  {
   "cell_type": "code",
   "execution_count": null,
   "metadata": {},
   "outputs": [],
   "source": [
    "tuner = keras_tuner.BayesianOptimization(\n",
    "    AtmoModel.get_hypermodel(\n",
    "        input_cnn_kernel_size=[1, 2, 5],\n",
    "        lstm_kernel_size=[5],\n",
    "    ),\n",
    "    objective=\"val_loss\",\n",
    "    max_trials=20,\n",
    "    project_name=f\"logs/htune_project_{timestamp}\",\n",
    ")\n",
    "tuner.search_space_summary()"
   ]
  },
  {
   "cell_type": "code",
   "execution_count": null,
   "metadata": {},
   "outputs": [],
   "source": [
    "log_dir = os.path.join(\"./logs\", f\"htune_{timestamp}\")\n",
    "print(log_dir)\n",
    "tb_callback = keras.callbacks.TensorBoard(log_dir=log_dir)\n",
    "tuner.search(train_ds, epochs=200, validation_data=val_ds, callbacks=[tb_callback])\n",
    "best_model, best_hp = tuner.get_best_models()[0], tuner.get_best_hyperparameters()[0]"
   ]
  },
  {
   "cell_type": "code",
   "execution_count": null,
   "metadata": {},
   "outputs": [],
   "source": [
    "best_model.summary()"
   ]
  },
  {
   "cell_type": "code",
   "execution_count": null,
   "metadata": {},
   "outputs": [],
   "source": [
    "best_hp.values"
   ]
  }
 ],
 "metadata": {
  "kernelspec": {
   "display_name": "base",
   "language": "python",
   "name": "python3"
  },
  "language_info": {
   "codemirror_mode": {
    "name": "ipython",
    "version": 3
   },
   "file_extension": ".py",
   "mimetype": "text/x-python",
   "name": "python",
   "nbconvert_exporter": "python",
   "pygments_lexer": "ipython3",
   "version": "3.11.9"
  }
 },
 "nbformat": 4,
 "nbformat_minor": 2
}
