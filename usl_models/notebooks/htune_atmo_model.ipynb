{
 "cells": [
  {
   "cell_type": "markdown",
   "metadata": {},
   "source": [
    "# AtmoML Hyperparameter Tuning"
   ]
  },
  {
   "cell_type": "code",
   "execution_count": 10,
   "metadata": {},
   "outputs": [],
   "source": [
    "import logging\n",
    "import keras_tuner\n",
    "import keras\n",
    "import time\n",
    "import pathlib\n",
    "\n",
    "from usl_models.atmo_ml.model import AtmoModel\n",
    "from usl_models.atmo_ml import dataset, visualizer, vars\n",
    "\n",
    "\n",
    "logging.getLogger().setLevel(logging.WARNING)\n",
    "keras.utils.set_random_seed(812)\n",
    "visualizer.init_plt()\n",
    "\n",
    "batch_size = 8\n",
    "filecache_dir = pathlib.Path(\"/home/shared/climateiq/filecache\")\n",
    "example_keys = [\n",
    "    (\"NYC_Heat_Test/NYC_summer_2000_01p\", \"2000-05-25\"),\n",
    "    (\"NYC_Heat_Test/NYC_summer_2000_01p\", \"2000-05-26\"),\n",
    "    (\"NYC_Heat_Test/NYC_summer_2000_01p\", \"2000-05-27\"),\n",
    "    (\"NYC_Heat_Test/NYC_summer_2000_01p\", \"2000-05-28\"),\n",
    "    (\"PHX_Heat_Test/PHX_summer_2008_25p\", \"2008-05-25\"),\n",
    "    (\"PHX_Heat_Test/PHX_summer_2008_25p\", \"2008-05-26\"),\n",
    "    (\"PHX_Heat_Test/PHX_summer_2008_25p\", \"2008-05-27\"),\n",
    "    (\"PHX_Heat_Test/PHX_summer_2008_25p\", \"2008-05-28\"),\n",
    "]\n",
    "timestamp = time.strftime(\"%Y%m%d-%H%M%S\")\n",
    "\n",
    "ds_config = dataset.Config(output_timesteps=2)\n",
    "train_ds = dataset.load_dataset_cached(\n",
    "    filecache_dir,\n",
    "    example_keys=example_keys,\n",
    "    config=ds_config,\n",
    ").batch(batch_size=batch_size)\n",
    "val_ds = dataset.load_dataset_cached(\n",
    "    filecache_dir,\n",
    "    example_keys=example_keys,\n",
    "    config=ds_config,\n",
    "    shuffle=False,\n",
    ").batch(batch_size=batch_size)"
   ]
  },
  {
   "cell_type": "code",
   "execution_count": 11,
   "metadata": {},
   "outputs": [
    {
     "name": "stdout",
     "output_type": "stream",
     "text": [
      "Search space summary\n",
      "Default search space size: 2\n",
      "input_cnn_kernel_size (Choice)\n",
      "{'default': 1, 'conditions': [], 'values': [1, 2, 5], 'ordered': True}\n",
      "lstm_kernel_size (Choice)\n",
      "{'default': 5, 'conditions': [], 'values': [5], 'ordered': True}\n"
     ]
    }
   ],
   "source": [
    "tuner = keras_tuner.BayesianOptimization(\n",
    "    AtmoModel.get_hypermodel(\n",
    "        input_cnn_kernel_size=[1, 2, 5],\n",
    "        lstm_kernel_size=[5],\n",
    "    ),\n",
    "    objective=\"val_loss\",\n",
    "    max_trials=10,\n",
    "    project_name=f\"logs/htune_project_{timestamp}\",\n",
    ")\n",
    "tuner.search_space_summary()"
   ]
  },
  {
   "cell_type": "code",
   "execution_count": null,
   "metadata": {},
   "outputs": [
    {
     "name": "stdout",
     "output_type": "stream",
     "text": [
      "Trial 2 Complete [00h 02m 13s]\n",
      "val_loss: 0.02264540083706379\n",
      "\n",
      "Best val_loss So Far: 0.0167386494576931\n",
      "Total elapsed time: 00h 04m 25s\n",
      "\n",
      "Search: Running Trial #3\n",
      "\n",
      "Value             |Best Value So Far |Hyperparameter\n",
      "1                 |5                 |input_cnn_kernel_size\n",
      "5                 |5                 |lstm_kernel_size\n",
      "\n",
      "Epoch 1/100\n"
     ]
    },
    {
     "name": "stderr",
     "output_type": "stream",
     "text": [
      "2025-03-02 02:14:15.051968: E tensorflow/core/grappler/optimizers/meta_optimizer.cc:961] layout failed: INVALID_ARGUMENT: Size of values 0 does not match size of permutation 4 @ fanin shape inatmo_conv_lstm/conv_lstm/conv_lstm2d/while/body/_1/atmo_conv_lstm/conv_lstm/conv_lstm2d/while/dropout_7/SelectV2-2-TransposeNHWCToNCHW-LayoutOptimizer\n"
     ]
    },
    {
     "name": "stdout",
     "output_type": "stream",
     "text": [
      "      1/Unknown - 11s 11s/step - loss: 0.1514 - mean_absolute_error: 0.2943 - root_mean_squared_error: 0.3891 - mean_absolute_percentage_error: 1594.8286 - nrmse: 0.3891 - ssim_metric: 0.1150 - psnr_metric: 8.3367 - mse_RH2: 0.1815 - mse_T2: 0.1617 - mse_WSPD_WDIR10: 0.0016 - mse_WSPD_WDIR10_COS: 0.1996 - mse_WSPD_WDIR10_SIN: 0.2125"
     ]
    }
   ],
   "source": [
    "log_dir = f\"logs/htune_{timestamp}\"\n",
    "print(log_dir)\n",
    "tb_callback = keras.callbacks.TensorBoard(log_dir=log_dir)\n",
    "tuner.search(train_ds, epochs=100, validation_data=val_ds, callbacks=[tb_callback])\n",
    "best_model, best_hp = tuner.get_best_models()[0], tuner.get_best_hyperparameters()[0]\n",
    "best_hp.values"
   ]
  },
  {
   "cell_type": "code",
   "execution_count": null,
   "metadata": {},
   "outputs": [
    {
     "name": "stdout",
     "output_type": "stream",
     "text": [
      "Epoch 1/10\n"
     ]
    },
    {
     "name": "stderr",
     "output_type": "stream",
     "text": [
      "2025-03-02 02:07:23.524506: E tensorflow/core/grappler/optimizers/meta_optimizer.cc:961] layout failed: INVALID_ARGUMENT: Size of values 0 does not match size of permutation 4 @ fanin shape inatmo_conv_lstm/conv_lstm/conv_lstm2d/while/body/_1/atmo_conv_lstm/conv_lstm/conv_lstm2d/while/dropout_7/SelectV2-2-TransposeNHWCToNCHW-LayoutOptimizer\n"
     ]
    },
    {
     "name": "stdout",
     "output_type": "stream",
     "text": [
      "1/1 [==============================] - 11s 11s/step - loss: 0.0484 - mean_absolute_error: 0.1577 - root_mean_squared_error: 0.2199 - mean_absolute_percentage_error: 66077.3438 - nrmse: 0.2199 - ssim_metric: 0.1830 - psnr_metric: 6.6767 - mse_RH2: 0.0306 - mse_T2: 0.0135 - mse_WSPD_WDIR10: 0.0016 - mse_WSPD_WDIR10_COS: 0.0868 - mse_WSPD_WDIR10_SIN: 0.1094\n",
      "Epoch 2/10\n",
      "1/1 [==============================] - 1s 714ms/step - loss: 0.0466 - mean_absolute_error: 0.1561 - root_mean_squared_error: 0.2159 - mean_absolute_percentage_error: 75686.1953 - nrmse: 0.2159 - ssim_metric: 0.3759 - psnr_metric: 13.4804 - mse_RH2: 0.0325 - mse_T2: 0.0102 - mse_WSPD_WDIR10: 0.0016 - mse_WSPD_WDIR10_COS: 0.0840 - mse_WSPD_WDIR10_SIN: 0.1048\n",
      "Epoch 3/10\n",
      "1/1 [==============================] - 1s 716ms/step - loss: 0.0469 - mean_absolute_error: 0.1623 - root_mean_squared_error: 0.2165 - mean_absolute_percentage_error: 84481.5781 - nrmse: 0.2165 - ssim_metric: 0.3792 - psnr_metric: 13.4207 - mse_RH2: 0.0289 - mse_T2: 0.0152 - mse_WSPD_WDIR10: 0.0016 - mse_WSPD_WDIR10_COS: 0.0868 - mse_WSPD_WDIR10_SIN: 0.1019\n",
      "Epoch 4/10\n",
      "1/1 [==============================] - 1s 713ms/step - loss: 0.0465 - mean_absolute_error: 0.1639 - root_mean_squared_error: 0.2156 - mean_absolute_percentage_error: 82249.4375 - nrmse: 0.2156 - ssim_metric: 0.3802 - psnr_metric: 13.4605 - mse_RH2: 0.0248 - mse_T2: 0.0203 - mse_WSPD_WDIR10: 0.0016 - mse_WSPD_WDIR10_COS: 0.0860 - mse_WSPD_WDIR10_SIN: 0.0997\n",
      "Epoch 5/10\n",
      "1/1 [==============================] - 1s 715ms/step - loss: 0.0456 - mean_absolute_error: 0.1609 - root_mean_squared_error: 0.2136 - mean_absolute_percentage_error: 76168.1328 - nrmse: 0.2136 - ssim_metric: 0.3830 - psnr_metric: 13.5537 - mse_RH2: 0.0220 - mse_T2: 0.0202 - mse_WSPD_WDIR10: 0.0016 - mse_WSPD_WDIR10_COS: 0.0855 - mse_WSPD_WDIR10_SIN: 0.0987\n",
      "Epoch 6/10\n",
      "1/1 [==============================] - 1s 715ms/step - loss: 0.0434 - mean_absolute_error: 0.1533 - root_mean_squared_error: 0.2084 - mean_absolute_percentage_error: 74291.6875 - nrmse: 0.2084 - ssim_metric: 0.3892 - psnr_metric: 13.7614 - mse_RH2: 0.0185 - mse_T2: 0.0138 - mse_WSPD_WDIR10: 0.0016 - mse_WSPD_WDIR10_COS: 0.0859 - mse_WSPD_WDIR10_SIN: 0.0975\n",
      "Epoch 7/10\n",
      "1/1 [==============================] - 1s 716ms/step - loss: 0.0417 - mean_absolute_error: 0.1476 - root_mean_squared_error: 0.2043 - mean_absolute_percentage_error: 75827.4766 - nrmse: 0.2043 - ssim_metric: 0.3918 - psnr_metric: 13.9223 - mse_RH2: 0.0165 - mse_T2: 0.0089 - mse_WSPD_WDIR10: 0.0016 - mse_WSPD_WDIR10_COS: 0.0858 - mse_WSPD_WDIR10_SIN: 0.0959\n",
      "Epoch 8/10\n",
      "1/1 [==============================] - 1s 713ms/step - loss: 0.0418 - mean_absolute_error: 0.1477 - root_mean_squared_error: 0.2045 - mean_absolute_percentage_error: 75445.6094 - nrmse: 0.2045 - ssim_metric: 0.3926 - psnr_metric: 13.9281 - mse_RH2: 0.0150 - mse_T2: 0.0114 - mse_WSPD_WDIR10: 0.0016 - mse_WSPD_WDIR10_COS: 0.0863 - mse_WSPD_WDIR10_SIN: 0.0948\n",
      "Epoch 9/10\n",
      "1/1 [==============================] - 1s 714ms/step - loss: 0.0422 - mean_absolute_error: 0.1487 - root_mean_squared_error: 0.2055 - mean_absolute_percentage_error: 71161.7500 - nrmse: 0.2055 - ssim_metric: 0.3899 - psnr_metric: 13.9046 - mse_RH2: 0.0164 - mse_T2: 0.0132 - mse_WSPD_WDIR10: 0.0016 - mse_WSPD_WDIR10_COS: 0.0872 - mse_WSPD_WDIR10_SIN: 0.0927\n",
      "Epoch 10/10\n",
      "1/1 [==============================] - 3s 3s/step - loss: 0.0426 - mean_absolute_error: 0.1448 - root_mean_squared_error: 0.2063 - mean_absolute_percentage_error: 62224.3594 - nrmse: 0.2063 - ssim_metric: 0.3991 - psnr_metric: 13.9615 - mse_RH2: 0.0207 - mse_T2: 0.0086 - mse_WSPD_WDIR10: 0.0016 - mse_WSPD_WDIR10_COS: 0.0903 - mse_WSPD_WDIR10_SIN: 0.0916 - val_loss: 0.0403 - val_mean_absolute_error: 0.1373 - val_root_mean_squared_error: 0.2007 - val_mean_absolute_percentage_error: 60943.1797 - val_nrmse: 0.2007 - val_ssim_metric: 0.2121 - val_psnr_metric: 7.1219 - val_mse_RH2: 0.0138 - val_mse_T2: 0.0069 - val_mse_WSPD_WDIR10: 0.0016 - val_mse_WSPD_WDIR10_COS: 0.0885 - val_mse_WSPD_WDIR10_SIN: 0.0907\n"
     ]
    },
    {
     "data": {
      "text/plain": [
       "<keras.src.callbacks.History at 0x7fbfb872b750>"
      ]
     },
     "execution_count": 9,
     "metadata": {},
     "output_type": "execute_result"
    }
   ],
   "source": [
    "# Train the best option further and save.\n",
    "model = AtmoModel(model=best_model)\n",
    "tb_callback = keras.callbacks.TensorBoard(log_dir=log_dir)\n",
    "model.fit(train_ds, val_ds, epochs=200, callbacks=[tb_callback], validation_freq=10)\n",
    "model.save_model(log_dir + \"/model\")"
   ]
  },
  {
   "cell_type": "code",
   "execution_count": null,
   "metadata": {},
   "outputs": [],
   "source": [
    "# Plot results\n",
    "model = AtmoModel.from_checkpoint(log_dir + \"/model\")\n",
    "input_batch, label_batch = next(iter(val_ds))\n",
    "pred_batch = model.call(input_batch)\n",
    "\n",
    "for fig in visualizer.plot_batch(\n",
    "    input_batch=input_batch,\n",
    "    label_batch=label_batch,\n",
    "    pred_batch=pred_batch,\n",
    "    st_var=vars.Spatiotemporal.RH,\n",
    "    sto_var=vars.SpatiotemporalOutput.RH2,\n",
    "    max_examples=None,\n",
    "):\n",
    "    fig.show()"
   ]
  }
 ],
 "metadata": {
  "kernelspec": {
   "display_name": "base",
   "language": "python",
   "name": "python3"
  },
  "language_info": {
   "codemirror_mode": {
    "name": "ipython",
    "version": 3
   },
   "file_extension": ".py",
   "mimetype": "text/x-python",
   "name": "python",
   "nbconvert_exporter": "python",
   "pygments_lexer": "ipython3",
   "version": "3.11.9"
  }
 },
 "nbformat": 4,
 "nbformat_minor": 2
}
